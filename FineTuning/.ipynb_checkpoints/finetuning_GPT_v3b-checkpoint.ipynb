{
 "cells": [
  {
   "cell_type": "markdown",
   "id": "781347c0-f46e-402d-9ac0-d3508f607d20",
   "metadata": {},
   "source": [
    "# Finetuning GPT-3.X-FeaTxT"
   ]
  },
  {
   "cell_type": "markdown",
   "id": "29bbec0c-aac6-4736-832b-1558c7f21d18",
   "metadata": {},
   "source": [
    "https://github.com/norahsakal/fine-tune-gpt3-model/blob/main/fine_tune_step_by_step.ipynb"
   ]
  },
  {
   "cell_type": "markdown",
   "id": "5961bdba-46d3-4a82-9e34-275f79a18102",
   "metadata": {},
   "source": [
    "Finetuning GPT-turbo with the **all-in-one predictions strategy**.\n",
    "The prompts are slightly improved and we fine-tune on 4 epochs.\n",
    "\n",
    "Data files: `data_train_v3b.jsonl`, `data_val_v3b.jsonl`, `data_test_v3b.jsonl`"
   ]
  },
  {
   "cell_type": "markdown",
   "id": "4c699ec0-df8f-4b72-9eef-f5418f1db529",
   "metadata": {},
   "source": [
    "## Libraries"
   ]
  },
  {
   "cell_type": "code",
   "execution_count": 1,
   "id": "1c9b5072-9da3-4898-92d0-f82f4cf87b51",
   "metadata": {},
   "outputs": [],
   "source": [
    "# !pip install --upgrade pip\n",
    "# !pip install openai\n",
    "# (choose \"base\" kernel)"
   ]
  },
  {
   "cell_type": "code",
   "execution_count": 2,
   "id": "023c62c6-0cdd-4f73-a9e1-a5fd52c2e066",
   "metadata": {},
   "outputs": [],
   "source": [
    "import os\n",
    "import json\n",
    "import pickle\n",
    "import pandas as pd\n",
    "from pathlib import Path\n",
    "\n",
    "from sklearn.metrics import classification_report\n",
    "\n",
    "import openai\n",
    "from openai import OpenAI"
   ]
  },
  {
   "cell_type": "markdown",
   "id": "3f27d4ed",
   "metadata": {},
   "source": [
    "## API key"
   ]
  },
  {
   "cell_type": "code",
   "execution_count": 3,
   "id": "dcaff120",
   "metadata": {},
   "outputs": [],
   "source": [
    "api_key =\"<your key>\"\n",
    "openai.api_key = api_key"
   ]
  },
  {
   "cell_type": "markdown",
   "id": "b923b02a",
   "metadata": {},
   "source": [
    "## Upload data to OpenAI"
   ]
  },
  {
   "cell_type": "code",
   "execution_count": 4,
   "id": "539085c7-ea89-4141-bb14-ea73664044a5",
   "metadata": {},
   "outputs": [],
   "source": [
    "data_dir = os.path.join(os.getcwd(), \"data\")"
   ]
  },
  {
   "cell_type": "code",
   "execution_count": 5,
   "id": "a6b4ac9f-5a4d-4e78-b4d7-428e05b63a49",
   "metadata": {},
   "outputs": [],
   "source": [
    "train_file_name = os.path.join(data_dir, \"data_train_v3b.jsonl\")\n",
    "val_file_name = os.path.join(data_dir, \"data_val_v3b.jsonl\")\n",
    "test_file_name = os.path.join(data_dir, \"data_test_v3b.jsonl\")"
   ]
  },
  {
   "cell_type": "code",
   "execution_count": 6,
   "id": "9d6cc200-7e39-45f7-8bb1-1670b6ef8ffe",
   "metadata": {},
   "outputs": [],
   "source": [
    "client = OpenAI(api_key=api_key)"
   ]
  },
  {
   "cell_type": "markdown",
   "id": "fc900451-2fe5-4512-ace5-9963450c764d",
   "metadata": {},
   "source": [
    "### Train set"
   ]
  },
  {
   "cell_type": "code",
   "execution_count": 7,
   "id": "a1e4f3b7-2f88-4976-908b-cfc2e164c73f",
   "metadata": {},
   "outputs": [],
   "source": [
    "train_upload_response = client.files.create(\n",
    "    file = Path(train_file_name),\n",
    "    purpose = \"fine-tune\"\n",
    ")"
   ]
  },
  {
   "cell_type": "code",
   "execution_count": 8,
   "id": "e7f3dae3-3873-4b0f-8b9b-239f5040df84",
   "metadata": {},
   "outputs": [
    {
     "data": {
      "text/plain": [
       "FileObject(id='file-pvEGGkdOIwepD1fwW3HMMWcb', bytes=1389444, created_at=1715366028, filename='data_train_v3b.jsonl', object='file', purpose='fine-tune', status='processed', status_details=None)"
      ]
     },
     "execution_count": 8,
     "metadata": {},
     "output_type": "execute_result"
    }
   ],
   "source": [
    "train_upload_response"
   ]
  },
  {
   "cell_type": "code",
   "execution_count": 9,
   "id": "93469f37",
   "metadata": {},
   "outputs": [
    {
     "data": {
      "text/plain": [
       "'file-pvEGGkdOIwepD1fwW3HMMWcb'"
      ]
     },
     "execution_count": 9,
     "metadata": {},
     "output_type": "execute_result"
    }
   ],
   "source": [
    "train_file_id = train_upload_response.id\n",
    "train_file_id"
   ]
  },
  {
   "cell_type": "markdown",
   "id": "23752834-f9ad-43e2-b6cf-2c7e75789663",
   "metadata": {},
   "source": [
    "### Validation set"
   ]
  },
  {
   "cell_type": "code",
   "execution_count": 10,
   "id": "e3596175-6af9-4ef6-b1e0-160dde532030",
   "metadata": {},
   "outputs": [],
   "source": [
    "val_upload_response = client.files.create(\n",
    "    file = Path(val_file_name),\n",
    "    purpose = \"fine-tune\"\n",
    ")"
   ]
  },
  {
   "cell_type": "code",
   "execution_count": 11,
   "id": "29c803d6-fa65-44fa-9a67-65b96ae8f608",
   "metadata": {},
   "outputs": [
    {
     "data": {
      "text/plain": [
       "FileObject(id='file-vG7xak3cmlNkJYOcbHx90Mwm', bytes=157144, created_at=1715366043, filename='data_val_v3b.jsonl', object='file', purpose='fine-tune', status='processed', status_details=None)"
      ]
     },
     "execution_count": 11,
     "metadata": {},
     "output_type": "execute_result"
    }
   ],
   "source": [
    "val_upload_response"
   ]
  },
  {
   "cell_type": "code",
   "execution_count": 12,
   "id": "f8945390-a59f-480a-98da-21e070eb54f2",
   "metadata": {},
   "outputs": [
    {
     "data": {
      "text/plain": [
       "'file-vG7xak3cmlNkJYOcbHx90Mwm'"
      ]
     },
     "execution_count": 12,
     "metadata": {},
     "output_type": "execute_result"
    }
   ],
   "source": [
    "val_file_id = val_upload_response.id\n",
    "val_file_id"
   ]
  },
  {
   "cell_type": "markdown",
   "id": "9fc20229-021d-4857-938c-54babda2e325",
   "metadata": {},
   "source": [
    "### Test set"
   ]
  },
  {
   "cell_type": "raw",
   "id": "7f796704-ca46-4922-becd-0d49dc0c7917",
   "metadata": {},
   "source": [
    "test_upload_response = client.files.create(\n",
    "    file = Path(test_file_name),\n",
    "    purpose = \"fine-tune\"\n",
    ")"
   ]
  },
  {
   "cell_type": "raw",
   "id": "2733cfb9-1d80-43d3-b38d-8de791698640",
   "metadata": {},
   "source": [
    "test_upload_response"
   ]
  },
  {
   "cell_type": "raw",
   "id": "cc948baa-2a0d-4d98-a323-8a30566877c2",
   "metadata": {},
   "source": [
    "test_file_id = test_upload_response.id\n",
    "test_file_id"
   ]
  },
  {
   "cell_type": "markdown",
   "id": "3e1007a6",
   "metadata": {},
   "source": [
    "## Fine-tune model"
   ]
  },
  {
   "cell_type": "code",
   "execution_count": 13,
   "id": "5001b848-a9df-41c9-90c3-767e948cc17e",
   "metadata": {},
   "outputs": [],
   "source": [
    "# Launch fine-tuning\n",
    "\n",
    "finetune_response = client.fine_tuning.jobs.create(\n",
    "    training_file = train_file_id,\n",
    "    validation_file = val_file_id,\n",
    "    model = \"gpt-3.5-turbo\",\n",
    "    hyperparameters = {\"n_epochs\": 4},\n",
    "    suffix = \"pe_finetune_v3d\"\n",
    ")"
   ]
  },
  {
   "cell_type": "code",
   "execution_count": 14,
   "id": "acf26822-1066-4fa9-ac01-6f8cdff60574",
   "metadata": {},
   "outputs": [
    {
     "name": "stdout",
     "output_type": "stream",
     "text": [
      "ftjob-pKcSQs5dvcQ9vY0DriFOgPPS\n"
     ]
    }
   ],
   "source": [
    "print(finetune_response.id)"
   ]
  },
  {
   "cell_type": "code",
   "execution_count": 20,
   "id": "8cc7d767-b12b-4fdc-8cd1-dbf5c089939d",
   "metadata": {
    "scrolled": true,
    "tags": []
   },
   "outputs": [
    {
     "data": {
      "text/plain": [
       "{'data': [{'id': 'ftevent-pbWLfHYtF9rII5n3W7JytYHD',\n",
       "   'created_at': 1715369681,\n",
       "   'level': 'info',\n",
       "   'message': 'The job has successfully completed',\n",
       "   'object': 'fine_tuning.job.event',\n",
       "   'data': {},\n",
       "   'type': 'message'},\n",
       "  {'id': 'ftevent-P4aglHodMhWbS6LXjl3YhNOW',\n",
       "   'created_at': 1715369676,\n",
       "   'level': 'info',\n",
       "   'message': 'New fine-tuned model created: ft:gpt-3.5-turbo-0125:personal:pe-finetune-v3d:9NQIm43k',\n",
       "   'object': 'fine_tuning.job.event',\n",
       "   'data': {},\n",
       "   'type': 'message'},\n",
       "  {'id': 'ftevent-HrB5Qv47MdmPBsQ0FPva37WF',\n",
       "   'created_at': 1715369676,\n",
       "   'level': 'info',\n",
       "   'message': 'Checkpoint created at step 870 with Snapshot ID: ft:gpt-3.5-turbo-0125:personal:pe-finetune-v3d:9NQIl5p9:ckpt-step-870',\n",
       "   'object': 'fine_tuning.job.event',\n",
       "   'data': {},\n",
       "   'type': 'message'},\n",
       "  {'id': 'ftevent-1wBvFWLTlcrsxSbBvzVKg9Ei',\n",
       "   'created_at': 1715369676,\n",
       "   'level': 'info',\n",
       "   'message': 'Checkpoint created at step 580 with Snapshot ID: ft:gpt-3.5-turbo-0125:personal:pe-finetune-v3d:9NQIlLuh:ckpt-step-580',\n",
       "   'object': 'fine_tuning.job.event',\n",
       "   'data': {},\n",
       "   'type': 'message'},\n",
       "  {'id': 'ftevent-o5Ylq9EfmWnkyC5PRLsGeuC4',\n",
       "   'created_at': 1715369672,\n",
       "   'level': 'info',\n",
       "   'message': 'Step 1160/1160: training loss=0.12, full validation loss=0.10',\n",
       "   'object': 'fine_tuning.job.event',\n",
       "   'data': {'step': 1160,\n",
       "    'train_loss': 0.11646974086761475,\n",
       "    'total_steps': 1160,\n",
       "    'full_valid_loss': 0.10420153421055754,\n",
       "    'train_mean_token_accuracy': 0.9849246144294739,\n",
       "    'full_valid_mean_token_accuracy': 0.9906297668337328},\n",
       "   'type': 'metrics'},\n",
       "  {'id': 'ftevent-TPKKNVb7XS47WKHsy0lIIRXI',\n",
       "   'created_at': 1715369670,\n",
       "   'level': 'info',\n",
       "   'message': 'Step 1159/1160: training loss=0.07',\n",
       "   'object': 'fine_tuning.job.event',\n",
       "   'data': {'step': 1159,\n",
       "    'train_loss': 0.06625178456306458,\n",
       "    'total_steps': 1160,\n",
       "    'train_mean_token_accuracy': 0.9918699264526367},\n",
       "   'type': 'metrics'},\n",
       "  {'id': 'ftevent-IiBpt60fdmdKIFTtOL9wtIvK',\n",
       "   'created_at': 1715369668,\n",
       "   'level': 'info',\n",
       "   'message': 'Step 1158/1160: training loss=0.01',\n",
       "   'object': 'fine_tuning.job.event',\n",
       "   'data': {'step': 1158,\n",
       "    'train_loss': 0.005275566130876541,\n",
       "    'total_steps': 1160,\n",
       "    'train_mean_token_accuracy': 0.9930070042610168},\n",
       "   'type': 'metrics'},\n",
       "  {'id': 'ftevent-fMvQAQO1LgmGQVbqVbDtvWph',\n",
       "   'created_at': 1715369666,\n",
       "   'level': 'info',\n",
       "   'message': 'Step 1157/1160: training loss=0.00',\n",
       "   'object': 'fine_tuning.job.event',\n",
       "   'data': {'step': 1157,\n",
       "    'train_loss': 0.0013429946266114712,\n",
       "    'total_steps': 1160,\n",
       "    'train_mean_token_accuracy': 1.0},\n",
       "   'type': 'metrics'},\n",
       "  {'id': 'ftevent-ZtXgyKulPIQvz7eg9RxFd74N',\n",
       "   'created_at': 1715369664,\n",
       "   'level': 'info',\n",
       "   'message': 'Step 1156/1160: training loss=0.00',\n",
       "   'object': 'fine_tuning.job.event',\n",
       "   'data': {'step': 1156,\n",
       "    'train_loss': 0.000194549560546875,\n",
       "    'total_steps': 1160,\n",
       "    'train_mean_token_accuracy': 1.0},\n",
       "   'type': 'metrics'},\n",
       "  {'id': 'ftevent-L3JfATRyrudgZY55cJ2K0aUX',\n",
       "   'created_at': 1715369662,\n",
       "   'level': 'info',\n",
       "   'message': 'Step 1155/1160: training loss=0.32',\n",
       "   'object': 'fine_tuning.job.event',\n",
       "   'data': {'step': 1155,\n",
       "    'train_loss': 0.31719449162483215,\n",
       "    'total_steps': 1160,\n",
       "    'train_mean_token_accuracy': 0.9786096215248108},\n",
       "   'type': 'metrics'}],\n",
       " 'object': 'list',\n",
       " 'has_more': True}"
      ]
     },
     "execution_count": 20,
     "metadata": {},
     "output_type": "execute_result"
    }
   ],
   "source": [
    "# Checking progress\n",
    "\n",
    "finetune_events = client.fine_tuning.jobs.list_events(fine_tuning_job_id=finetune_response.id, limit=10)\n",
    "finetune_events.model_dump()"
   ]
  },
  {
   "cell_type": "code",
   "execution_count": 19,
   "id": "a16b21e6-ca6e-4175-a308-adf1087050e5",
   "metadata": {
    "scrolled": true,
    "tags": []
   },
   "outputs": [
    {
     "data": {
      "text/plain": [
       "{'id': 'ftjob-pKcSQs5dvcQ9vY0DriFOgPPS',\n",
       " 'created_at': 1715366089,\n",
       " 'error': {'code': None, 'message': None, 'param': None},\n",
       " 'fine_tuned_model': None,\n",
       " 'finished_at': None,\n",
       " 'hyperparameters': {'n_epochs': 4,\n",
       "  'batch_size': 1,\n",
       "  'learning_rate_multiplier': 2},\n",
       " 'model': 'gpt-3.5-turbo-0125',\n",
       " 'object': 'fine_tuning.job',\n",
       " 'organization_id': 'org-ao865HLfwm7KSarTu10iG90O',\n",
       " 'result_files': [],\n",
       " 'status': 'running',\n",
       " 'trained_tokens': None,\n",
       " 'training_file': 'file-pvEGGkdOIwepD1fwW3HMMWcb',\n",
       " 'validation_file': 'file-vG7xak3cmlNkJYOcbHx90Mwm',\n",
       " 'user_provided_suffix': 'pe_finetune_v3d',\n",
       " 'seed': 1009528146,\n",
       " 'estimated_finish': None,\n",
       " 'integrations': []}"
      ]
     },
     "execution_count": 19,
     "metadata": {},
     "output_type": "execute_result"
    }
   ],
   "source": [
    "retrieve_response = client.fine_tuning.jobs.retrieve(finetune_response.id)\n",
    "retrieve_response.model_dump()"
   ]
  },
  {
   "cell_type": "markdown",
   "id": "07e846ed",
   "metadata": {},
   "source": [
    "## Save fine-tuned model"
   ]
  },
  {
   "cell_type": "code",
   "execution_count": 25,
   "id": "9ad58319",
   "metadata": {},
   "outputs": [],
   "source": [
    "job_id = \"ftjob-pKcSQs5dvcQ9vY0DriFOgPPS\""
   ]
  },
  {
   "cell_type": "code",
   "execution_count": 26,
   "id": "73f756f7-5449-4520-9464-de25c7270836",
   "metadata": {},
   "outputs": [],
   "source": [
    "# Option 3\n",
    "\n",
    "if retrieve_response.fine_tuned_model == None:\n",
    "    \n",
    "    finetuned_model = client.fine_tuning.jobs.retrieve(job_id).fine_tuned_model\n",
    "\n",
    "else:\n",
    "    \n",
    "    finetuned_model = retrieve_response.model_dump()[\"fine_tuned_model\"]"
   ]
  },
  {
   "cell_type": "code",
   "execution_count": 27,
   "id": "6302c323-b95b-4f8c-baae-26dc684b6044",
   "metadata": {},
   "outputs": [
    {
     "data": {
      "text/plain": [
       "'ft:gpt-3.5-turbo-0125:personal:pe-finetune-v3d:9NQIm43k'"
      ]
     },
     "execution_count": 27,
     "metadata": {},
     "output_type": "execute_result"
    }
   ],
   "source": [
    "finetuned_model"
   ]
  },
  {
   "cell_type": "markdown",
   "id": "8601df11",
   "metadata": {},
   "source": [
    "## Evaluate on test set"
   ]
  },
  {
   "cell_type": "code",
   "execution_count": 28,
   "id": "aa5d0b37-ce31-45c7-8610-b0b1de5782bc",
   "metadata": {},
   "outputs": [
    {
     "name": "stdout",
     "output_type": "stream",
     "text": [
      "0 essays processed\n",
      "10 essays processed\n",
      "20 essays processed\n",
      "30 essays processed\n",
      "40 essays processed\n",
      "50 essays processed\n",
      "60 essays processed\n",
      "70 essays processed\n"
     ]
    }
   ],
   "source": [
    "# Evaluate the whole test set\n",
    "\n",
    "predictions_l = []\n",
    "\n",
    "with open(os.path.join(data_dir, \"data_test_v3b.jsonl\"), 'r') as fh:\n",
    "    \n",
    "    lines_l = [json.loads(line) for line in fh]\n",
    "    \n",
    "    for i, line in enumerate(lines_l):\n",
    "        \n",
    "        if i%10 == 0:\n",
    "            print(f\"{i} essays processed\")\n",
    "        \n",
    "        messages = line[\"messages\"]\n",
    "        \n",
    "        response = client.chat.completions.create(\n",
    "        model=finetuned_model,\n",
    "        messages=messages\n",
    "        )\n",
    "\n",
    "        predictions_l.append(response.choices[0].message.content)"
   ]
  },
  {
   "cell_type": "code",
   "execution_count": 29,
   "id": "af6d5b99-bef6-4894-89c9-ead2a2426aaa",
   "metadata": {},
   "outputs": [
    {
     "data": {
      "text/plain": [
       "80"
      ]
     },
     "execution_count": 29,
     "metadata": {},
     "output_type": "execute_result"
    }
   ],
   "source": [
    "len(predictions_l)"
   ]
  },
  {
   "cell_type": "code",
   "execution_count": 51,
   "id": "6dc515e4",
   "metadata": {},
   "outputs": [],
   "source": [
    "# json should have been in double quotes...\n",
    "predictions_clean_l = []\n",
    "\n",
    "for d in predictions_l:\n",
    "    d = d.replace(\"'\", '\"')\n",
    "    predictions_clean_l.append(d)"
   ]
  },
  {
   "cell_type": "code",
   "execution_count": 59,
   "id": "07d9be72",
   "metadata": {},
   "outputs": [],
   "source": [
    "# predictions_clean_l2 = []\n",
    "\n",
    "for i in range(len(predictions_clean_l)):\n",
    "    \n",
    "    d = predictions_clean_l[i]\n",
    "    predictions_clean_l[i] = json.loads(d)"
   ]
  },
  {
   "cell_type": "code",
   "execution_count": 71,
   "id": "af1fd0fb",
   "metadata": {},
   "outputs": [],
   "source": [
    "for i in range(len(predictions_clean_l)):\n",
    "    \n",
    "    d = predictions_clean_l[i]\n",
    "    predictions_clean_l[i] = list(d.items())"
   ]
  },
  {
   "cell_type": "code",
   "execution_count": 78,
   "id": "fa1ecabc",
   "metadata": {},
   "outputs": [],
   "source": [
    "# sanity check: ok\n",
    "\n",
    "for preds in predictions_clean_l:\n",
    "    \n",
    "    i = 0\n",
    "    \n",
    "    for t in preds:\n",
    "        \n",
    "        num = int(t[0].split(\"Argument \")[1])\n",
    "        \n",
    "        if num != i+1:\n",
    "            print(\"error\")\n",
    "        i = num"
   ]
  },
  {
   "cell_type": "code",
   "execution_count": 79,
   "id": "7597d16d",
   "metadata": {},
   "outputs": [],
   "source": [
    "# save results\n",
    "\n",
    "with open(\"results_v3b.pkl\", \"wb\") as fh:\n",
    "    \n",
    "    pickle.dump(predictions_clean_l, fh)"
   ]
  },
  {
   "cell_type": "markdown",
   "id": "4d25b453-6278-4e2e-a47d-8e785cf221ae",
   "metadata": {},
   "source": [
    "## Results"
   ]
  },
  {
   "cell_type": "code",
   "execution_count": 80,
   "id": "59afc7d7-3ea4-473a-9a86-8796166e04ce",
   "metadata": {},
   "outputs": [],
   "source": [
    "df = pd.read_csv(os.path.join(data_dir, \"persuasive_essays_dataset.csv\"), index_col=0)"
   ]
  },
  {
   "cell_type": "code",
   "execution_count": 81,
   "id": "d276741e",
   "metadata": {},
   "outputs": [],
   "source": [
    "test_df = df[df.split == 'TEST']\n",
    "# test_df"
   ]
  },
  {
   "cell_type": "code",
   "execution_count": 82,
   "id": "b8b481c2",
   "metadata": {},
   "outputs": [
    {
     "data": {
      "text/plain": [
       "80"
      ]
     },
     "execution_count": 82,
     "metadata": {},
     "output_type": "execute_result"
    }
   ],
   "source": [
    "essay_files_l = list(df[df.split==\"TEST\"].essay_file.value_counts().index)\n",
    "len(essay_files_l)"
   ]
  },
  {
   "cell_type": "code",
   "execution_count": 83,
   "id": "f4fc042b",
   "metadata": {},
   "outputs": [],
   "source": [
    "grounds_l = []\n",
    "\n",
    "for essay in essay_files_l:\n",
    "    \n",
    "    sub_df = test_df[test_df.essay_file==essay]\n",
    "    labels = list(sub_df.label.values)\n",
    "    \n",
    "    grounds_l.append(labels)\n",
    "\n",
    "    \n",
    "def rename_labels(l):\n",
    "    \n",
    "    l = list(map(lambda x: x.replace(\"MajorClaim\", \"major claim\"), l))\n",
    "    l = list(map(lambda x: x.replace(\"Claim\", \"claim\"), l))\n",
    "    l = list(map(lambda x: x.replace(\"Premise\", \"premise\"), l))\n",
    "    \n",
    "    return l\n",
    "\n",
    "for i, labels in enumerate(grounds_l):\n",
    "    \n",
    "    grounds_l[i] = rename_labels(labels)"
   ]
  },
  {
   "cell_type": "code",
   "execution_count": 91,
   "id": "49bdc015",
   "metadata": {},
   "outputs": [],
   "source": [
    "predictions_l_final = []\n",
    "\n",
    "for i, l in enumerate(predictions_clean_l):\n",
    "    \n",
    "    x = [t[1] for t in l]\n",
    "    predictions_l_final.append(x)"
   ]
  },
  {
   "cell_type": "code",
   "execution_count": 97,
   "id": "d755007e",
   "metadata": {},
   "outputs": [],
   "source": [
    "counter = 1\n",
    "\n",
    "for l1, l2 in zip(predictions_l_final, grounds_l):\n",
    "    \n",
    "    if len(l1) != len(l2):\n",
    "        print(f\"Essay no {counter}:\", f\"nb of pred: {len(l1)}\", f\"/ nb of labels: {len(l2)}\")\n",
    "    \n",
    "    counter += 1"
   ]
  },
  {
   "cell_type": "code",
   "execution_count": 98,
   "id": "1c1454a0",
   "metadata": {},
   "outputs": [
    {
     "data": {
      "text/plain": [
       "(1266, 1266)"
      ]
     },
     "execution_count": 98,
     "metadata": {},
     "output_type": "execute_result"
    }
   ],
   "source": [
    "def flatten_list(ll):\n",
    "    return [item for l in ll for item in l]\n",
    "\n",
    "grounds_l_final = flatten_list(grounds_l)\n",
    "predictions_l_final_v2 = flatten_list(predictions_l_final)\n",
    "\n",
    "len(grounds_l_final), len(predictions_l_final_v2)"
   ]
  },
  {
   "cell_type": "code",
   "execution_count": 99,
   "id": "35a557d6-49c4-4522-b5d3-e6bca714bcb5",
   "metadata": {},
   "outputs": [
    {
     "name": "stdout",
     "output_type": "stream",
     "text": [
      "              precision    recall  f1-score   support\n",
      "\n",
      "       claim      0.798     0.832     0.815       304\n",
      " major claim      0.940     0.928     0.934       153\n",
      "     premise      0.946     0.933     0.940       809\n",
      "\n",
      "    accuracy                          0.908      1266\n",
      "   macro avg      0.895     0.898     0.896      1266\n",
      "weighted avg      0.910     0.908     0.909      1266\n",
      "\n"
     ]
    }
   ],
   "source": [
    "print(classification_report(grounds_l_final, predictions_l_final_v2, digits=3))"
   ]
  },
  {
   "cell_type": "markdown",
   "id": "975109e9",
   "metadata": {},
   "source": [
    "```\n",
    "Results for 1 epoch\n",
    "\n",
    "              precision    recall  f1-score   support\n",
    "\n",
    "       claim      0.677     0.691     0.684       304\n",
    " major claim      0.922     0.922     0.922       153\n",
    "     premise      0.894     0.888     0.891       809\n",
    "\n",
    "    accuracy                          0.844      1266\n",
    "   macro avg      0.831     0.833     0.832      1266\n",
    "weighted avg      0.845     0.844     0.845      1266\n",
    "```"
   ]
  },
  {
   "cell_type": "markdown",
   "id": "ef3cb782",
   "metadata": {},
   "source": [
    "```\n",
    "Results for 4 epochs\n",
    "\n",
    "              precision    recall  f1-score   support\n",
    "\n",
    "       claim      0.798     0.832     0.815       304\n",
    " major claim      0.940     0.928     0.934       153\n",
    "     premise      0.946     0.933     0.940       809\n",
    "\n",
    "    accuracy                          0.908      1266\n",
    "   macro avg      0.895     0.898     0.896      1266\n",
    "weighted avg      0.910     0.908     0.909      1266\n",
    "\n",
    "```"
   ]
  },
  {
   "cell_type": "code",
   "execution_count": null,
   "id": "4afab14b",
   "metadata": {},
   "outputs": [],
   "source": []
  }
 ],
 "metadata": {
  "kernelspec": {
   "display_name": "base",
   "language": "python",
   "name": "base"
  },
  "language_info": {
   "codemirror_mode": {
    "name": "ipython",
    "version": 3
   },
   "file_extension": ".py",
   "mimetype": "text/x-python",
   "name": "python",
   "nbconvert_exporter": "python",
   "pygments_lexer": "ipython3",
   "version": "3.9.5"
  }
 },
 "nbformat": 4,
 "nbformat_minor": 5
}
