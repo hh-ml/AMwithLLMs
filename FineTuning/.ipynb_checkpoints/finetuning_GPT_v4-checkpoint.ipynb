{
 "cells": [
  {
   "cell_type": "markdown",
   "id": "781347c0-f46e-402d-9ac0-d3508f607d20",
   "metadata": {},
   "source": [
    "# Finetuning GPT-3.X-FeaTxT"
   ]
  },
  {
   "cell_type": "markdown",
   "id": "29bbec0c-aac6-4736-832b-1558c7f21d18",
   "metadata": {},
   "source": [
    "https://github.com/norahsakal/fine-tune-gpt3-model/blob/main/fine_tune_step_by_step.ipynb"
   ]
  },
  {
   "cell_type": "markdown",
   "id": "5961bdba-46d3-4a82-9e34-275f79a18102",
   "metadata": {},
   "source": [
    "Finetuning GPT-turbo with **features as text (explicit form)** with the **all-in-one prerdictions strategy**.\n",
    "\n",
    "Data files: `data_train_v4.jsonl`, `data_val_v4.jsonl`, `data_test_v4.jsonl`"
   ]
  },
  {
   "cell_type": "markdown",
   "id": "4c699ec0-df8f-4b72-9eef-f5418f1db529",
   "metadata": {},
   "source": [
    "## Libraries"
   ]
  },
  {
   "cell_type": "code",
   "execution_count": 1,
   "id": "1c9b5072-9da3-4898-92d0-f82f4cf87b51",
   "metadata": {},
   "outputs": [],
   "source": [
    "# !pip install --upgrade pip\n",
    "# !pip install openai\n",
    "# (choose \"base\" kernel)"
   ]
  },
  {
   "cell_type": "code",
   "execution_count": 2,
   "id": "023c62c6-0cdd-4f73-a9e1-a5fd52c2e066",
   "metadata": {},
   "outputs": [],
   "source": [
    "import os\n",
    "import json\n",
    "import pickle\n",
    "import pandas as pd\n",
    "from pathlib import Path\n",
    "\n",
    "from sklearn.metrics import classification_report\n",
    "\n",
    "import openai\n",
    "from openai import OpenAI"
   ]
  },
  {
   "cell_type": "markdown",
   "id": "3f27d4ed",
   "metadata": {},
   "source": [
    "## API key"
   ]
  },
  {
   "cell_type": "code",
   "execution_count": 3,
   "id": "dcaff120",
   "metadata": {},
   "outputs": [],
   "source": [
    "api_key =\"<your key>\"\n",
    "openai.api_key = api_key"
   ]
  },
  {
   "cell_type": "markdown",
   "id": "b923b02a",
   "metadata": {},
   "source": [
    "## Upload data to OpenAI"
   ]
  },
  {
   "cell_type": "code",
   "execution_count": 4,
   "id": "539085c7-ea89-4141-bb14-ea73664044a5",
   "metadata": {},
   "outputs": [],
   "source": [
    "data_dir = os.path.join(os.getcwd(), \"data\")"
   ]
  },
  {
   "cell_type": "code",
   "execution_count": 5,
   "id": "a6b4ac9f-5a4d-4e78-b4d7-428e05b63a49",
   "metadata": {},
   "outputs": [],
   "source": [
    "train_file_name = os.path.join(data_dir, \"data_train_v4.jsonl\")\n",
    "val_file_name = os.path.join(data_dir, \"data_val_v4.jsonl\")\n",
    "test_file_name = os.path.join(data_dir, \"data_test_v4.jsonl\")"
   ]
  },
  {
   "cell_type": "code",
   "execution_count": 6,
   "id": "9d6cc200-7e39-45f7-8bb1-1670b6ef8ffe",
   "metadata": {},
   "outputs": [],
   "source": [
    "client = OpenAI(api_key=api_key)"
   ]
  },
  {
   "cell_type": "markdown",
   "id": "fc900451-2fe5-4512-ace5-9963450c764d",
   "metadata": {},
   "source": [
    "### Train set"
   ]
  },
  {
   "cell_type": "code",
   "execution_count": 7,
   "id": "a1e4f3b7-2f88-4976-908b-cfc2e164c73f",
   "metadata": {},
   "outputs": [],
   "source": [
    "train_upload_response = client.files.create(\n",
    "    file = Path(train_file_name),\n",
    "    purpose = \"fine-tune\"\n",
    ")"
   ]
  },
  {
   "cell_type": "code",
   "execution_count": 8,
   "id": "e7f3dae3-3873-4b0f-8b9b-239f5040df84",
   "metadata": {},
   "outputs": [
    {
     "data": {
      "text/plain": [
       "FileObject(id='file-BhaoZzUWz2Pq7Sas70cpbJBP', bytes=1584699, created_at=1705247644, filename='data_train_v4.jsonl', object='file', purpose='fine-tune', status='processed', status_details=None)"
      ]
     },
     "execution_count": 8,
     "metadata": {},
     "output_type": "execute_result"
    }
   ],
   "source": [
    "train_upload_response"
   ]
  },
  {
   "cell_type": "code",
   "execution_count": 9,
   "id": "93469f37",
   "metadata": {},
   "outputs": [
    {
     "data": {
      "text/plain": [
       "'file-BhaoZzUWz2Pq7Sas70cpbJBP'"
      ]
     },
     "execution_count": 9,
     "metadata": {},
     "output_type": "execute_result"
    }
   ],
   "source": [
    "train_file_id = train_upload_response.id\n",
    "train_file_id"
   ]
  },
  {
   "cell_type": "markdown",
   "id": "23752834-f9ad-43e2-b6cf-2c7e75789663",
   "metadata": {},
   "source": [
    "### Validation set"
   ]
  },
  {
   "cell_type": "code",
   "execution_count": 10,
   "id": "e3596175-6af9-4ef6-b1e0-160dde532030",
   "metadata": {},
   "outputs": [],
   "source": [
    "val_upload_response = client.files.create(\n",
    "    file = Path(val_file_name),\n",
    "    purpose = \"fine-tune\"\n",
    ")"
   ]
  },
  {
   "cell_type": "code",
   "execution_count": 11,
   "id": "29c803d6-fa65-44fa-9a67-65b96ae8f608",
   "metadata": {},
   "outputs": [
    {
     "data": {
      "text/plain": [
       "FileObject(id='file-J0YJJaVCoK9TdWra09z8ZwRR', bytes=179708, created_at=1705247650, filename='data_val_v4.jsonl', object='file', purpose='fine-tune', status='processed', status_details=None)"
      ]
     },
     "execution_count": 11,
     "metadata": {},
     "output_type": "execute_result"
    }
   ],
   "source": [
    "val_upload_response"
   ]
  },
  {
   "cell_type": "code",
   "execution_count": 12,
   "id": "f8945390-a59f-480a-98da-21e070eb54f2",
   "metadata": {},
   "outputs": [
    {
     "data": {
      "text/plain": [
       "'file-J0YJJaVCoK9TdWra09z8ZwRR'"
      ]
     },
     "execution_count": 12,
     "metadata": {},
     "output_type": "execute_result"
    }
   ],
   "source": [
    "val_file_id = val_upload_response.id\n",
    "val_file_id"
   ]
  },
  {
   "cell_type": "markdown",
   "id": "9fc20229-021d-4857-938c-54babda2e325",
   "metadata": {},
   "source": [
    "### Test set"
   ]
  },
  {
   "cell_type": "raw",
   "id": "7f796704-ca46-4922-becd-0d49dc0c7917",
   "metadata": {},
   "source": [
    "test_upload_response = client.files.create(\n",
    "    file = Path(test_file_name),\n",
    "    purpose = \"fine-tune\"\n",
    ")"
   ]
  },
  {
   "cell_type": "raw",
   "id": "2733cfb9-1d80-43d3-b38d-8de791698640",
   "metadata": {},
   "source": [
    "test_upload_response"
   ]
  },
  {
   "cell_type": "raw",
   "id": "cc948baa-2a0d-4d98-a323-8a30566877c2",
   "metadata": {},
   "source": [
    "test_file_id = test_upload_response.id\n",
    "test_file_id"
   ]
  },
  {
   "cell_type": "markdown",
   "id": "3e1007a6",
   "metadata": {},
   "source": [
    "## Fine-tune model"
   ]
  },
  {
   "cell_type": "code",
   "execution_count": 13,
   "id": "5001b848-a9df-41c9-90c3-767e948cc17e",
   "metadata": {},
   "outputs": [],
   "source": [
    "# Launch fine-tuning\n",
    "\n",
    "finetune_response = client.fine_tuning.jobs.create(\n",
    "    training_file = train_file_id,\n",
    "    validation_file = val_file_id,\n",
    "    model = \"gpt-3.5-turbo\",\n",
    "    hyperparameters = {\"n_epochs\": 1},\n",
    "    suffix = \"pe_finetune_v4\"\n",
    ")"
   ]
  },
  {
   "cell_type": "code",
   "execution_count": 14,
   "id": "acf26822-1066-4fa9-ac01-6f8cdff60574",
   "metadata": {},
   "outputs": [
    {
     "name": "stdout",
     "output_type": "stream",
     "text": [
      "ftjob-BCJP4ueFBs5bYzLNA1c7J77r\n"
     ]
    }
   ],
   "source": [
    "print(finetune_response.id)"
   ]
  },
  {
   "cell_type": "code",
   "execution_count": 17,
   "id": "8cc7d767-b12b-4fdc-8cd1-dbf5c089939d",
   "metadata": {
    "scrolled": true,
    "tags": []
   },
   "outputs": [
    {
     "data": {
      "text/plain": [
       "{'data': [{'id': 'ftevent-V8V5zkJC45DGFBx8jkKh0L5H',\n",
       "   'created_at': 1705248226,\n",
       "   'level': 'info',\n",
       "   'message': 'Step 141/290: training loss=0.13, validation loss=0.06',\n",
       "   'object': 'fine_tuning.job.event',\n",
       "   'data': {'step': 141,\n",
       "    'train_loss': 0.1271219253540039,\n",
       "    'valid_loss': 0.05853742168795678,\n",
       "    'train_mean_token_accuracy': 0.9347826242446899,\n",
       "    'valid_mean_token_accuracy': 0.7580645161290323},\n",
       "   'type': 'metrics'},\n",
       "  {'id': 'ftevent-lYf0JpYjcy1KggnS0v3gMfwX',\n",
       "   'created_at': 1705248206,\n",
       "   'level': 'info',\n",
       "   'message': 'Step 131/290: training loss=0.07, validation loss=0.08',\n",
       "   'object': 'fine_tuning.job.event',\n",
       "   'data': {'step': 131,\n",
       "    'train_loss': 0.07114148885011673,\n",
       "    'valid_loss': 0.0757993475183264,\n",
       "    'train_mean_token_accuracy': 0.9767441749572754,\n",
       "    'valid_mean_token_accuracy': 0.7402597402597403},\n",
       "   'type': 'metrics'},\n",
       "  {'id': 'ftevent-gky5xjaHzIP5ooQTt51RxSCF',\n",
       "   'created_at': 1705248188,\n",
       "   'level': 'info',\n",
       "   'message': 'Step 121/290: training loss=0.12, validation loss=0.02',\n",
       "   'object': 'fine_tuning.job.event',\n",
       "   'data': {'step': 121,\n",
       "    'train_loss': 0.11868002265691757,\n",
       "    'valid_loss': 0.021116125172582167,\n",
       "    'train_mean_token_accuracy': 0.930232584476471,\n",
       "    'valid_mean_token_accuracy': 0.7471264367816092},\n",
       "   'type': 'metrics'},\n",
       "  {'id': 'ftevent-FTQkilVjjcIAyFefeWgawTlf',\n",
       "   'created_at': 1705248166,\n",
       "   'level': 'info',\n",
       "   'message': 'Step 111/290: training loss=0.01, validation loss=0.06',\n",
       "   'object': 'fine_tuning.job.event',\n",
       "   'data': {'step': 111,\n",
       "    'train_loss': 0.011178378947079182,\n",
       "    'valid_loss': 0.06437719008501838,\n",
       "    'train_mean_token_accuracy': 1.0,\n",
       "    'valid_mean_token_accuracy': 0.7411764705882353},\n",
       "   'type': 'metrics'},\n",
       "  {'id': 'ftevent-aoKQN0FL6MUh8BP4dxOODfH5',\n",
       "   'created_at': 1705248146,\n",
       "   'level': 'info',\n",
       "   'message': 'Step 101/290: training loss=0.10, validation loss=0.02',\n",
       "   'object': 'fine_tuning.job.event',\n",
       "   'data': {'step': 101,\n",
       "    'train_loss': 0.09657047688961029,\n",
       "    'valid_loss': 0.02457566354788986,\n",
       "    'train_mean_token_accuracy': 0.9516128897666931,\n",
       "    'valid_mean_token_accuracy': 0.7647058823529411},\n",
       "   'type': 'metrics'},\n",
       "  {'id': 'ftevent-PDUre9Smn5EjF3Xb0Z5dLLwh',\n",
       "   'created_at': 1705248126,\n",
       "   'level': 'info',\n",
       "   'message': 'Step 91/290: training loss=0.12, validation loss=0.07',\n",
       "   'object': 'fine_tuning.job.event',\n",
       "   'data': {'step': 91,\n",
       "    'train_loss': 0.12257345765829086,\n",
       "    'valid_loss': 0.07325211549416566,\n",
       "    'train_mean_token_accuracy': 0.9583333134651184,\n",
       "    'valid_mean_token_accuracy': 0.7692307692307693},\n",
       "   'type': 'metrics'},\n",
       "  {'id': 'ftevent-tOmD6DDOroTvJ9QR1WyamAl2',\n",
       "   'created_at': 1705248108,\n",
       "   'level': 'info',\n",
       "   'message': 'Step 81/290: training loss=0.05, validation loss=0.22',\n",
       "   'object': 'fine_tuning.job.event',\n",
       "   'data': {'step': 81,\n",
       "    'train_loss': 0.05218661576509476,\n",
       "    'valid_loss': 0.21999320005759215,\n",
       "    'train_mean_token_accuracy': 0.9756097793579102,\n",
       "    'valid_mean_token_accuracy': 0.717948717948718},\n",
       "   'type': 'metrics'},\n",
       "  {'id': 'ftevent-6e2ZmsbtIiI5F735JLyt4WL6',\n",
       "   'created_at': 1705248086,\n",
       "   'level': 'info',\n",
       "   'message': 'Step 71/290: training loss=0.12, validation loss=0.17',\n",
       "   'object': 'fine_tuning.job.event',\n",
       "   'data': {'step': 71,\n",
       "    'train_loss': 0.11776504665613174,\n",
       "    'valid_loss': 0.17351199305334755,\n",
       "    'train_mean_token_accuracy': 0.930232584476471,\n",
       "    'valid_mean_token_accuracy': 0.7441860465116279},\n",
       "   'type': 'metrics'},\n",
       "  {'id': 'ftevent-o84JpNaVfgD4wsqEiQttSxwY',\n",
       "   'created_at': 1705248066,\n",
       "   'level': 'info',\n",
       "   'message': 'Step 61/290: training loss=0.16, validation loss=0.16',\n",
       "   'object': 'fine_tuning.job.event',\n",
       "   'data': {'step': 61,\n",
       "    'train_loss': 0.1593511551618576,\n",
       "    'valid_loss': 0.16342451765730576,\n",
       "    'train_mean_token_accuracy': 0.9615384340286255,\n",
       "    'valid_mean_token_accuracy': 0.7162162162162162},\n",
       "   'type': 'metrics'},\n",
       "  {'id': 'ftevent-b1UkmOwidW5A3IHszsJ63i7V',\n",
       "   'created_at': 1705248047,\n",
       "   'level': 'info',\n",
       "   'message': 'Step 51/290: training loss=0.08, validation loss=0.08',\n",
       "   'object': 'fine_tuning.job.event',\n",
       "   'data': {'step': 51,\n",
       "    'train_loss': 0.07990143448114395,\n",
       "    'valid_loss': 0.07822914123535156,\n",
       "    'train_mean_token_accuracy': 0.9482758641242981,\n",
       "    'valid_mean_token_accuracy': 0.7428571428571429},\n",
       "   'type': 'metrics'}],\n",
       " 'object': 'list',\n",
       " 'has_more': True}"
      ]
     },
     "execution_count": 17,
     "metadata": {},
     "output_type": "execute_result"
    }
   ],
   "source": [
    "# Checking progress\n",
    "\n",
    "finetune_events = client.fine_tuning.jobs.list_events(fine_tuning_job_id=finetune_response.id, limit=10)\n",
    "finetune_events.model_dump()"
   ]
  },
  {
   "cell_type": "code",
   "execution_count": 18,
   "id": "a16b21e6-ca6e-4175-a308-adf1087050e5",
   "metadata": {
    "scrolled": true,
    "tags": []
   },
   "outputs": [
    {
     "data": {
      "text/plain": [
       "{'id': 'ftjob-BCJP4ueFBs5bYzLNA1c7J77r',\n",
       " 'created_at': 1705247654,\n",
       " 'error': None,\n",
       " 'fine_tuned_model': 'ft:gpt-3.5-turbo-0613:personal:pe-finetune-v4:8gxKRVCr',\n",
       " 'finished_at': 1705248526,\n",
       " 'hyperparameters': {'n_epochs': 1,\n",
       "  'batch_size': 1,\n",
       "  'learning_rate_multiplier': 2},\n",
       " 'model': 'gpt-3.5-turbo-0613',\n",
       " 'object': 'fine_tuning.job',\n",
       " 'organization_id': 'org-ao865HLfwm7KSarTu10iG90O',\n",
       " 'result_files': ['file-ejF8LosyejQJ8eVEysf1GV6s'],\n",
       " 'status': 'succeeded',\n",
       " 'trained_tokens': 376063,\n",
       " 'training_file': 'file-BhaoZzUWz2Pq7Sas70cpbJBP',\n",
       " 'validation_file': 'file-J0YJJaVCoK9TdWra09z8ZwRR'}"
      ]
     },
     "execution_count": 18,
     "metadata": {},
     "output_type": "execute_result"
    }
   ],
   "source": [
    "retrieve_response = client.fine_tuning.jobs.retrieve(finetune_response.id)\n",
    "retrieve_response.model_dump()"
   ]
  },
  {
   "cell_type": "markdown",
   "id": "07e846ed",
   "metadata": {},
   "source": [
    "## Save fine-tuned model"
   ]
  },
  {
   "cell_type": "code",
   "execution_count": 21,
   "id": "73f756f7-5449-4520-9464-de25c7270836",
   "metadata": {},
   "outputs": [],
   "source": [
    "# Option 3\n",
    "\n",
    "if retrieve_response.fine_tuned_model == None:\n",
    "    \n",
    "    finetuned_model = client.fine_tuning.jobs.retrieve(\"<JOB ID from API>\").fine_tuned_model\n",
    "\n",
    "else:\n",
    "    \n",
    "    finetuned_model = retrieve_response.model_dump()[\"fine_tuned_model\"]"
   ]
  },
  {
   "cell_type": "code",
   "execution_count": 22,
   "id": "6302c323-b95b-4f8c-baae-26dc684b6044",
   "metadata": {},
   "outputs": [
    {
     "data": {
      "text/plain": [
       "'ft:gpt-3.5-turbo-0613:personal:pe-finetune-v4:8gxKRVCr'"
      ]
     },
     "execution_count": 22,
     "metadata": {},
     "output_type": "execute_result"
    }
   ],
   "source": [
    "finetuned_model"
   ]
  },
  {
   "cell_type": "markdown",
   "id": "8601df11",
   "metadata": {},
   "source": [
    "## Evaluate on test set"
   ]
  },
  {
   "cell_type": "code",
   "execution_count": 23,
   "id": "aa5d0b37-ce31-45c7-8610-b0b1de5782bc",
   "metadata": {},
   "outputs": [
    {
     "name": "stdout",
     "output_type": "stream",
     "text": [
      "0 samples processed\n",
      "10 samples processed\n",
      "20 samples processed\n",
      "30 samples processed\n",
      "40 samples processed\n",
      "50 samples processed\n",
      "60 samples processed\n",
      "70 samples processed\n"
     ]
    }
   ],
   "source": [
    "# Evaluate the whole test set\n",
    "\n",
    "predictions_l = []\n",
    "\n",
    "with open(os.path.join(data_dir, \"data_test_v4.jsonl\"), 'r') as fh:\n",
    "    \n",
    "    lines_l = [json.loads(line) for line in fh]\n",
    "    \n",
    "    for i, line in enumerate(lines_l):\n",
    "        \n",
    "        if i%10 == 0:\n",
    "            print(f\"{i} samples processed\")\n",
    "        \n",
    "        messages = line[\"messages\"]\n",
    "        \n",
    "        response = client.chat.completions.create(\n",
    "        model=finetuned_model,\n",
    "        messages=messages\n",
    "        )\n",
    "\n",
    "        predictions_l.append(response.choices[0].message.content)"
   ]
  },
  {
   "cell_type": "code",
   "execution_count": 127,
   "id": "af6d5b99-bef6-4894-89c9-ead2a2426aaa",
   "metadata": {},
   "outputs": [
    {
     "data": {
      "text/plain": [
       "80"
      ]
     },
     "execution_count": 127,
     "metadata": {},
     "output_type": "execute_result"
    }
   ],
   "source": [
    "len(predictions_l)"
   ]
  },
  {
   "cell_type": "code",
   "execution_count": 128,
   "id": "dad5c4e1",
   "metadata": {},
   "outputs": [],
   "source": [
    "# predictions_l[0].strip(\"][\").split(\", \")#[0][1:-1]"
   ]
  },
  {
   "cell_type": "code",
   "execution_count": 129,
   "id": "5fb7eca7",
   "metadata": {},
   "outputs": [],
   "source": [
    "def str2list(l):\n",
    "    \n",
    "    results_l = []\n",
    "    \n",
    "    for preds in l:\n",
    "        \n",
    "        tmp = preds.strip(\"][\").split(\", \")\n",
    "        tmp = [x[1:-1] for x in tmp]\n",
    "\n",
    "        results_l.append(tmp)\n",
    "    \n",
    "    return results_l"
   ]
  },
  {
   "cell_type": "code",
   "execution_count": 130,
   "id": "d0036797",
   "metadata": {},
   "outputs": [
    {
     "data": {
      "text/plain": [
       "80"
      ]
     },
     "execution_count": 130,
     "metadata": {},
     "output_type": "execute_result"
    }
   ],
   "source": [
    "predictions_l_final = str2list(predictions_l)\n",
    "len(predictions_l_final)"
   ]
  },
  {
   "cell_type": "code",
   "execution_count": 131,
   "id": "6012815a",
   "metadata": {},
   "outputs": [],
   "source": [
    "def flatten_list(ll):\n",
    "    return [item for l in ll for item in l]"
   ]
  },
  {
   "cell_type": "code",
   "execution_count": 132,
   "id": "d0525358",
   "metadata": {},
   "outputs": [
    {
     "data": {
      "text/plain": [
       "{\"'premise\", 'claim', 'major claim', 'premise', \"premise',\\n'major claim\"}"
      ]
     },
     "execution_count": 132,
     "metadata": {},
     "output_type": "execute_result"
    }
   ],
   "source": [
    "set(flatten_list(predictions_l_final))"
   ]
  },
  {
   "cell_type": "code",
   "execution_count": 133,
   "id": "1d2bcaae",
   "metadata": {},
   "outputs": [
    {
     "data": {
      "text/plain": [
       "80"
      ]
     },
     "execution_count": 133,
     "metadata": {},
     "output_type": "execute_result"
    }
   ],
   "source": [
    "# CLEAN THE DATA !!!\n",
    "\n",
    "for l in predictions_l_final:\n",
    "    \n",
    "    for i in range(len(l)):\n",
    "        \n",
    "        if l[i] == \"'premise\":\n",
    "            l[i] = 'premise'\n",
    "            \n",
    "        if l[i] == \"premise',\\n'major claim\":\n",
    "            l[i] = 'premise'\n",
    "            l.insert(i+1, 'major claim')\n",
    "            \n",
    "len(predictions_l_final)"
   ]
  },
  {
   "cell_type": "code",
   "execution_count": 134,
   "id": "e5978135-2171-4043-80d1-4fa3bc54a7f5",
   "metadata": {},
   "outputs": [],
   "source": [
    "with open(os.path.join(data_dir, 'predictions_l_v4.pkl'), 'wb') as f:\n",
    "    \n",
    "    pickle.dump(predictions_l_final, f)"
   ]
  },
  {
   "cell_type": "raw",
   "id": "2f1e86e1-1e0b-468e-83d8-d11e09733192",
   "metadata": {},
   "source": [
    "with open(os.path.join(data_dir, 'predictions_l_v2.pkl'), 'rb') as f:\n",
    "    \n",
    "    predictions_l2 = pickle.load(f)"
   ]
  },
  {
   "cell_type": "raw",
   "id": "df0c0bfa-debf-4e6a-8247-d029952e9be1",
   "metadata": {},
   "source": [
    "predictions_l == predictions_l2"
   ]
  },
  {
   "cell_type": "markdown",
   "id": "4d25b453-6278-4e2e-a47d-8e785cf221ae",
   "metadata": {},
   "source": [
    "## Results"
   ]
  },
  {
   "cell_type": "code",
   "execution_count": 135,
   "id": "59afc7d7-3ea4-473a-9a86-8796166e04ce",
   "metadata": {},
   "outputs": [],
   "source": [
    "df = pd.read_csv(os.path.join(data_dir, \"persuasive_essays_dataset.csv\"), index_col=0)"
   ]
  },
  {
   "cell_type": "code",
   "execution_count": 136,
   "id": "d276741e",
   "metadata": {},
   "outputs": [],
   "source": [
    "test_df = df[df.split == 'TEST']\n",
    "# test_df"
   ]
  },
  {
   "cell_type": "code",
   "execution_count": 137,
   "id": "b8b481c2",
   "metadata": {},
   "outputs": [
    {
     "data": {
      "text/plain": [
       "80"
      ]
     },
     "execution_count": 137,
     "metadata": {},
     "output_type": "execute_result"
    }
   ],
   "source": [
    "essay_files_l = list(df[df.split==\"TEST\"].essay_file.value_counts().index)\n",
    "len(essay_files_l)"
   ]
  },
  {
   "cell_type": "code",
   "execution_count": 138,
   "id": "f4fc042b",
   "metadata": {},
   "outputs": [],
   "source": [
    "grounds_l = []\n",
    "\n",
    "for essay in essay_files_l:\n",
    "    \n",
    "    sub_df = test_df[test_df.essay_file==essay]\n",
    "    labels = list(sub_df.label.values)\n",
    "    \n",
    "    grounds_l.append(labels)\n",
    "\n",
    "    \n",
    "def rename_labels(l):\n",
    "    \n",
    "    l = list(map(lambda x: x.replace(\"MajorClaim\", \"major claim\"), l))\n",
    "    l = list(map(lambda x: x.replace(\"Claim\", \"claim\"), l))\n",
    "    l = list(map(lambda x: x.replace(\"Premise\", \"premise\"), l))\n",
    "    \n",
    "    return l\n",
    "\n",
    "for i, labels in enumerate(grounds_l):\n",
    "    \n",
    "    grounds_l[i] = rename_labels(labels)"
   ]
  },
  {
   "cell_type": "code",
   "execution_count": 139,
   "id": "d755007e",
   "metadata": {},
   "outputs": [
    {
     "name": "stdout",
     "output_type": "stream",
     "text": [
      "Essay no 12: nb of preds: 20 / nb of labels: 21\n"
     ]
    }
   ],
   "source": [
    "counter = 1\n",
    "\n",
    "for l1, l2 in zip(predictions_l_final, grounds_l):\n",
    "    \n",
    "    if len(l1) != len(l2):\n",
    "        print(f\"Essay no {counter}:\", f\"nb of preds: {len(l1)}\", f\"/ nb of labels: {len(l2)}\")\n",
    "    \n",
    "    counter += 1"
   ]
  },
  {
   "cell_type": "markdown",
   "id": "b33ea7c4",
   "metadata": {},
   "source": [
    "- Only for essay #12, the model predictions and the labels do not match. We add a last **wrong** prediction for matching purposes.\n",
    "- For the rest, the number of predictions matches the number of labels."
   ]
  },
  {
   "cell_type": "code",
   "execution_count": 140,
   "id": "6203582b",
   "metadata": {},
   "outputs": [],
   "source": [
    "predictions_l_final[11] = predictions_l_final[11] + [\"premise\"]"
   ]
  },
  {
   "cell_type": "code",
   "execution_count": 141,
   "id": "7d2e5172",
   "metadata": {},
   "outputs": [],
   "source": [
    "for l1, l2 in zip(predictions_l_final, grounds_l):\n",
    "    \n",
    "    if len(l1) != len(l2):\n",
    "        print(f\"Essay no {counter}:\", f\"nb of pred: {len(l1)}\", f\"/ nb of pred: {len(l2)}\")\n",
    "    \n",
    "    counter += 1"
   ]
  },
  {
   "cell_type": "code",
   "execution_count": 142,
   "id": "1c1454a0",
   "metadata": {},
   "outputs": [
    {
     "data": {
      "text/plain": [
       "(1266, 1266)"
      ]
     },
     "execution_count": 142,
     "metadata": {},
     "output_type": "execute_result"
    }
   ],
   "source": [
    "def flatten_list(ll):\n",
    "    return [item for l in ll for item in l]\n",
    "\n",
    "grounds_l_final = flatten_list(grounds_l)\n",
    "predictions_l_final_v2 = flatten_list(predictions_l_final)\n",
    "\n",
    "len(grounds_l_final), len(predictions_l_final_v2)"
   ]
  },
  {
   "cell_type": "code",
   "execution_count": 143,
   "id": "35a557d6-49c4-4522-b5d3-e6bca714bcb5",
   "metadata": {},
   "outputs": [
    {
     "name": "stdout",
     "output_type": "stream",
     "text": [
      "              precision    recall  f1-score   support\n",
      "\n",
      "       claim      0.662     0.664     0.663       304\n",
      " major claim      0.907     0.895     0.901       153\n",
      "     premise      0.889     0.890     0.889       809\n",
      "\n",
      "    accuracy                          0.836      1266\n",
      "   macro avg      0.819     0.817     0.818      1266\n",
      "weighted avg      0.837     0.836     0.837      1266\n",
      "\n"
     ]
    }
   ],
   "source": [
    "print(classification_report(grounds_l_final, predictions_l_final_v2, digits=3))"
   ]
  },
  {
   "cell_type": "markdown",
   "id": "b8d1d04e",
   "metadata": {},
   "source": [
    "```\n",
    "Results for 1 epoch\n",
    "\n",
    "              precision    recall  f1-score   support\n",
    "\n",
    "       claim      0.662     0.664     0.663       304\n",
    " major claim      0.907     0.895     0.901       153\n",
    "     premise      0.889     0.890     0.889       809\n",
    "\n",
    "    accuracy                          0.836      1266\n",
    "   macro avg      0.819     0.817     0.818      1266\n",
    "weighted avg      0.837     0.836     0.837      1266\n",
    "```"
   ]
  },
  {
   "cell_type": "code",
   "execution_count": null,
   "id": "d81a7c16",
   "metadata": {},
   "outputs": [],
   "source": []
  }
 ],
 "metadata": {
  "kernelspec": {
   "display_name": "base",
   "language": "python",
   "name": "base"
  },
  "language_info": {
   "codemirror_mode": {
    "name": "ipython",
    "version": 3
   },
   "file_extension": ".py",
   "mimetype": "text/x-python",
   "name": "python",
   "nbconvert_exporter": "python",
   "pygments_lexer": "ipython3",
   "version": "3.9.5"
  }
 },
 "nbformat": 4,
 "nbformat_minor": 5
}
