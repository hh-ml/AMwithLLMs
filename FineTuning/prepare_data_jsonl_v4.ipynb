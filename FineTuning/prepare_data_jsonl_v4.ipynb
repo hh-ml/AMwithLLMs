{
 "cells": [
  {
   "cell_type": "markdown",
   "id": "9b092f16-851d-4a47-ae4f-2a85603d6c77",
   "metadata": {},
   "source": [
    "# Prepare dataset (jsonl file)\n",
    "\n",
    "Datasets with **features as text (explicit form)** for **all-in-one predictions**"
   ]
  },
  {
   "cell_type": "markdown",
   "id": "047b22ba-a6e8-4ed1-8a3c-e98095ed7c06",
   "metadata": {},
   "source": [
    "https://jsonlines.org/"
   ]
  },
  {
   "cell_type": "markdown",
   "id": "afdfbf4b-663f-41af-85a1-266a48239c9e",
   "metadata": {},
   "source": [
    "## Libraries"
   ]
  },
  {
   "cell_type": "code",
   "execution_count": 1,
   "id": "872238e4-5235-4176-bd84-4cc384bca8d4",
   "metadata": {},
   "outputs": [],
   "source": [
    "import os\n",
    "import json\n",
    "import pandas as pd\n",
    "import random"
   ]
  },
  {
   "cell_type": "markdown",
   "id": "7af75678-bbcc-4cfa-9b81-c9a66d170182",
   "metadata": {},
   "source": [
    "## Load csv file"
   ]
  },
  {
   "cell_type": "code",
   "execution_count": 2,
   "id": "0da5ee17-0803-41cc-91c9-1cec32f672d4",
   "metadata": {},
   "outputs": [],
   "source": [
    "data_dir = os.path.join(os.getcwd(), \"data\")"
   ]
  },
  {
   "cell_type": "code",
   "execution_count": 3,
   "id": "54f71f0d-b9eb-499d-b9a4-fd010bc6d874",
   "metadata": {},
   "outputs": [],
   "source": [
    "df = pd.read_csv(os.path.join(data_dir, \"persuasive_essays_dataset.csv\"), index_col=0)"
   ]
  },
  {
   "cell_type": "code",
   "execution_count": 4,
   "id": "7931292a-fd5c-4f8e-a9e8-24b5f5a16d4b",
   "metadata": {},
   "outputs": [],
   "source": [
    "# df.isna().sum()"
   ]
  },
  {
   "cell_type": "code",
   "execution_count": 5,
   "id": "6718a38d-9608-475c-9584-0976b928ea30",
   "metadata": {},
   "outputs": [
    {
     "data": {
      "text/html": [
       "<div>\n",
       "<style scoped>\n",
       "    .dataframe tbody tr th:only-of-type {\n",
       "        vertical-align: middle;\n",
       "    }\n",
       "\n",
       "    .dataframe tbody tr th {\n",
       "        vertical-align: top;\n",
       "    }\n",
       "\n",
       "    .dataframe thead th {\n",
       "        text-align: right;\n",
       "    }\n",
       "</style>\n",
       "<table border=\"1\" class=\"dataframe\">\n",
       "  <thead>\n",
       "    <tr style=\"text-align: right;\">\n",
       "      <th></th>\n",
       "      <th>tag</th>\n",
       "      <th>label</th>\n",
       "      <th>start</th>\n",
       "      <th>end</th>\n",
       "      <th>argument_component</th>\n",
       "      <th>essay_file</th>\n",
       "      <th>essay_title</th>\n",
       "      <th>essay_text</th>\n",
       "      <th>sentence</th>\n",
       "      <th>nr_essay_paragraphs</th>\n",
       "      <th>paragraph_nr</th>\n",
       "      <th>paragraph</th>\n",
       "      <th>is_component_in_intro_paragraph</th>\n",
       "      <th>is_component_in_conclusion_paragraph</th>\n",
       "      <th>is_component_first_in_paragraph</th>\n",
       "      <th>is_component_last_in_paragraph</th>\n",
       "      <th>split</th>\n",
       "      <th>structral_featxt</th>\n",
       "      <th>argument_counter</th>\n",
       "    </tr>\n",
       "  </thead>\n",
       "  <tbody>\n",
       "    <tr>\n",
       "      <th>0</th>\n",
       "      <td>T1</td>\n",
       "      <td>MajorClaim</td>\n",
       "      <td>503</td>\n",
       "      <td>575</td>\n",
       "      <td>we should attach more importance to cooperatio...</td>\n",
       "      <td>essay001.txt</td>\n",
       "      <td>Should students be taught to compete or to coo...</td>\n",
       "      <td>Should students be taught to compete or to coo...</td>\n",
       "      <td>From this point of view, I firmly believe that...</td>\n",
       "      <td>4</td>\n",
       "      <td>1</td>\n",
       "      <td>It is always said that competition can effecti...</td>\n",
       "      <td>1</td>\n",
       "      <td>0</td>\n",
       "      <td>1</td>\n",
       "      <td>1</td>\n",
       "      <td>TRAIN</td>\n",
       "      <td>Topic: Should students be taught to compete or...</td>\n",
       "      <td>1</td>\n",
       "    </tr>\n",
       "    <tr>\n",
       "      <th>1</th>\n",
       "      <td>T3</td>\n",
       "      <td>Claim</td>\n",
       "      <td>591</td>\n",
       "      <td>714</td>\n",
       "      <td>through cooperation, children can learn about ...</td>\n",
       "      <td>essay001.txt</td>\n",
       "      <td>Should students be taught to compete or to coo...</td>\n",
       "      <td>Should students be taught to compete or to coo...</td>\n",
       "      <td>First of all, through cooperation, children ca...</td>\n",
       "      <td>4</td>\n",
       "      <td>2</td>\n",
       "      <td>First of all, through cooperation, children ca...</td>\n",
       "      <td>0</td>\n",
       "      <td>0</td>\n",
       "      <td>1</td>\n",
       "      <td>0</td>\n",
       "      <td>TRAIN</td>\n",
       "      <td>Topic: Should students be taught to compete or...</td>\n",
       "      <td>2</td>\n",
       "    </tr>\n",
       "    <tr>\n",
       "      <th>2</th>\n",
       "      <td>T4</td>\n",
       "      <td>Premise</td>\n",
       "      <td>716</td>\n",
       "      <td>851</td>\n",
       "      <td>What we acquired from team work is not only ho...</td>\n",
       "      <td>essay001.txt</td>\n",
       "      <td>Should students be taught to compete or to coo...</td>\n",
       "      <td>Should students be taught to compete or to coo...</td>\n",
       "      <td>What we acquired from team work is not only ho...</td>\n",
       "      <td>4</td>\n",
       "      <td>2</td>\n",
       "      <td>First of all, through cooperation, children ca...</td>\n",
       "      <td>0</td>\n",
       "      <td>0</td>\n",
       "      <td>0</td>\n",
       "      <td>0</td>\n",
       "      <td>TRAIN</td>\n",
       "      <td>Topic: Should students be taught to compete or...</td>\n",
       "      <td>3</td>\n",
       "    </tr>\n",
       "    <tr>\n",
       "      <th>3</th>\n",
       "      <td>T5</td>\n",
       "      <td>Premise</td>\n",
       "      <td>853</td>\n",
       "      <td>1086</td>\n",
       "      <td>During the process of cooperation, children ca...</td>\n",
       "      <td>essay001.txt</td>\n",
       "      <td>Should students be taught to compete or to coo...</td>\n",
       "      <td>Should students be taught to compete or to coo...</td>\n",
       "      <td>During the process of cooperation, children ca...</td>\n",
       "      <td>4</td>\n",
       "      <td>2</td>\n",
       "      <td>First of all, through cooperation, children ca...</td>\n",
       "      <td>0</td>\n",
       "      <td>0</td>\n",
       "      <td>0</td>\n",
       "      <td>0</td>\n",
       "      <td>TRAIN</td>\n",
       "      <td>Topic: Should students be taught to compete or...</td>\n",
       "      <td>4</td>\n",
       "    </tr>\n",
       "    <tr>\n",
       "      <th>4</th>\n",
       "      <td>T6</td>\n",
       "      <td>Premise</td>\n",
       "      <td>1088</td>\n",
       "      <td>1191</td>\n",
       "      <td>All of these skills help them to get on well w...</td>\n",
       "      <td>essay001.txt</td>\n",
       "      <td>Should students be taught to compete or to coo...</td>\n",
       "      <td>Should students be taught to compete or to coo...</td>\n",
       "      <td>All of these skills help them to get on well w...</td>\n",
       "      <td>4</td>\n",
       "      <td>2</td>\n",
       "      <td>First of all, through cooperation, children ca...</td>\n",
       "      <td>0</td>\n",
       "      <td>0</td>\n",
       "      <td>0</td>\n",
       "      <td>1</td>\n",
       "      <td>TRAIN</td>\n",
       "      <td>Topic: Should students be taught to compete or...</td>\n",
       "      <td>5</td>\n",
       "    </tr>\n",
       "  </tbody>\n",
       "</table>\n",
       "</div>"
      ],
      "text/plain": [
       "  tag       label  start   end  \\\n",
       "0  T1  MajorClaim    503   575   \n",
       "1  T3       Claim    591   714   \n",
       "2  T4     Premise    716   851   \n",
       "3  T5     Premise    853  1086   \n",
       "4  T6     Premise   1088  1191   \n",
       "\n",
       "                                  argument_component    essay_file  \\\n",
       "0  we should attach more importance to cooperatio...  essay001.txt   \n",
       "1  through cooperation, children can learn about ...  essay001.txt   \n",
       "2  What we acquired from team work is not only ho...  essay001.txt   \n",
       "3  During the process of cooperation, children ca...  essay001.txt   \n",
       "4  All of these skills help them to get on well w...  essay001.txt   \n",
       "\n",
       "                                         essay_title  \\\n",
       "0  Should students be taught to compete or to coo...   \n",
       "1  Should students be taught to compete or to coo...   \n",
       "2  Should students be taught to compete or to coo...   \n",
       "3  Should students be taught to compete or to coo...   \n",
       "4  Should students be taught to compete or to coo...   \n",
       "\n",
       "                                          essay_text  \\\n",
       "0  Should students be taught to compete or to coo...   \n",
       "1  Should students be taught to compete or to coo...   \n",
       "2  Should students be taught to compete or to coo...   \n",
       "3  Should students be taught to compete or to coo...   \n",
       "4  Should students be taught to compete or to coo...   \n",
       "\n",
       "                                            sentence  nr_essay_paragraphs  \\\n",
       "0  From this point of view, I firmly believe that...                    4   \n",
       "1  First of all, through cooperation, children ca...                    4   \n",
       "2  What we acquired from team work is not only ho...                    4   \n",
       "3  During the process of cooperation, children ca...                    4   \n",
       "4  All of these skills help them to get on well w...                    4   \n",
       "\n",
       "   paragraph_nr                                          paragraph  \\\n",
       "0             1  It is always said that competition can effecti...   \n",
       "1             2  First of all, through cooperation, children ca...   \n",
       "2             2  First of all, through cooperation, children ca...   \n",
       "3             2  First of all, through cooperation, children ca...   \n",
       "4             2  First of all, through cooperation, children ca...   \n",
       "\n",
       "   is_component_in_intro_paragraph  is_component_in_conclusion_paragraph  \\\n",
       "0                                1                                     0   \n",
       "1                                0                                     0   \n",
       "2                                0                                     0   \n",
       "3                                0                                     0   \n",
       "4                                0                                     0   \n",
       "\n",
       "   is_component_first_in_paragraph  is_component_last_in_paragraph  split  \\\n",
       "0                                1                               1  TRAIN   \n",
       "1                                1                               0  TRAIN   \n",
       "2                                0                               0  TRAIN   \n",
       "3                                0                               0  TRAIN   \n",
       "4                                0                               1  TRAIN   \n",
       "\n",
       "                                    structral_featxt  argument_counter  \n",
       "0  Topic: Should students be taught to compete or...                 1  \n",
       "1  Topic: Should students be taught to compete or...                 2  \n",
       "2  Topic: Should students be taught to compete or...                 3  \n",
       "3  Topic: Should students be taught to compete or...                 4  \n",
       "4  Topic: Should students be taught to compete or...                 5  "
      ]
     },
     "execution_count": 5,
     "metadata": {},
     "output_type": "execute_result"
    }
   ],
   "source": [
    "df.head()"
   ]
  },
  {
   "cell_type": "code",
   "execution_count": 6,
   "id": "fdd9688b-e03a-40c9-9fac-e77ccc017b3c",
   "metadata": {},
   "outputs": [
    {
     "data": {
      "text/plain": [
       "6089"
      ]
     },
     "execution_count": 6,
     "metadata": {},
     "output_type": "execute_result"
    }
   ],
   "source": [
    "len(df)"
   ]
  },
  {
   "cell_type": "code",
   "execution_count": 7,
   "id": "3e06a175-4f49-4a4d-881c-95a6b1bda7b2",
   "metadata": {},
   "outputs": [
    {
     "data": {
      "text/plain": [
       "split\n",
       "TRAIN    4823\n",
       "TEST     1266\n",
       "Name: count, dtype: int64"
      ]
     },
     "execution_count": 7,
     "metadata": {},
     "output_type": "execute_result"
    }
   ],
   "source": [
    "df.split.value_counts()"
   ]
  },
  {
   "cell_type": "code",
   "execution_count": 8,
   "id": "da9e707d-901e-4f03-884e-cec8ce182640",
   "metadata": {},
   "outputs": [
    {
     "data": {
      "text/plain": [
       "322"
      ]
     },
     "execution_count": 8,
     "metadata": {},
     "output_type": "execute_result"
    }
   ],
   "source": [
    "train_essays_l = list(df[df.split==\"TRAIN\"].essay_file.value_counts().index)\n",
    "len(train_essays_l)"
   ]
  },
  {
   "cell_type": "code",
   "execution_count": 9,
   "id": "86135f26-11d3-4325-a2d8-74438092c681",
   "metadata": {},
   "outputs": [
    {
     "data": {
      "text/plain": [
       "32"
      ]
     },
     "execution_count": 9,
     "metadata": {},
     "output_type": "execute_result"
    }
   ],
   "source": [
    "# validation set: 10% of train set\n",
    "\n",
    "val_size = int(322 * 10/100)\n",
    "val_size"
   ]
  },
  {
   "cell_type": "code",
   "execution_count": 10,
   "id": "37c7355a-4bb7-4a75-a277-108f27c6a8de",
   "metadata": {},
   "outputs": [],
   "source": [
    "random.seed(42)\n",
    "val_essays_l = random.sample(train_essays_l, val_size)"
   ]
  },
  {
   "cell_type": "code",
   "execution_count": 11,
   "id": "e91177bd-2dc6-4019-ab83-2a4df2365823",
   "metadata": {},
   "outputs": [
    {
     "data": {
      "text/plain": [
       "32"
      ]
     },
     "execution_count": 11,
     "metadata": {},
     "output_type": "execute_result"
    }
   ],
   "source": [
    "len(val_essays_l)\n",
    "# val_essays_l"
   ]
  },
  {
   "cell_type": "code",
   "execution_count": 12,
   "id": "274e77db-4c4f-4a2e-a615-fc12fb5e991c",
   "metadata": {},
   "outputs": [
    {
     "data": {
      "text/plain": [
       "290"
      ]
     },
     "execution_count": 12,
     "metadata": {},
     "output_type": "execute_result"
    }
   ],
   "source": [
    "train_essays_l = list(set(train_essays_l) - set(val_essays_l))\n",
    "len(train_essays_l)"
   ]
  },
  {
   "cell_type": "code",
   "execution_count": 13,
   "id": "b0bb5aec",
   "metadata": {},
   "outputs": [
    {
     "data": {
      "text/plain": [
       "80"
      ]
     },
     "execution_count": 13,
     "metadata": {},
     "output_type": "execute_result"
    }
   ],
   "source": [
    "test_essays_l = list(df[df.split==\"TEST\"].essay_file.value_counts().index)\n",
    "len(test_essays_l)"
   ]
  },
  {
   "cell_type": "code",
   "execution_count": 14,
   "id": "ceb13653",
   "metadata": {},
   "outputs": [],
   "source": [
    "# test_essays_l"
   ]
  },
  {
   "cell_type": "markdown",
   "id": "63a578e2-63f5-4860-965c-ef5e659149a7",
   "metadata": {},
   "source": [
    "## Prepare prompt"
   ]
  },
  {
   "cell_type": "code",
   "execution_count": 15,
   "id": "f02ffd05-4249-4830-9752-5b96c2d48d27",
   "metadata": {},
   "outputs": [],
   "source": [
    "# Dataset in chat completion format\n",
    "\n",
    "def formatting_fct(task_description=\"\", question=\"\", answer=\"\", mode=\"train\"):\n",
    "    \n",
    "    prompt_d = {\"messages\": [\n",
    "        {\"role\": \"system\", \"content\": f\"{task_description}\"},\n",
    "        {\"role\": \"user\", \"content\": f\"{question}\"},\n",
    "        {\"role\": \"assistant\", \"content\": f\"{answer if mode=='train' else ''}\"}\n",
    "    ]\n",
    "             }\n",
    "    \n",
    "    return prompt_d"
   ]
  },
  {
   "cell_type": "code",
   "execution_count": 16,
   "id": "427b49a6-e02e-4bcc-a8c2-defbc87157d9",
   "metadata": {},
   "outputs": [],
   "source": [
    "my_task_description = \"\"\"### Your task is to classify an ordered list of argument components from an essay into three possible classes: major claim, claim, or premise. For this purpose, we give you the following information in order:\n",
    "A. The essay in which the argument components appear\n",
    "B. The ordered list of argument components, where each component is followed by 5 structural features: paragraph number of the component, is the component in the introduction (1=yes/0=no), is the component in the conclusion (1=yes/0=no), is the component first in its paragraph (1=yes/0=no), is the component last in its paragraph (1=yes/0=no).\n",
    "\"\"\""
   ]
  },
  {
   "cell_type": "code",
   "execution_count": 17,
   "id": "9d3f085d-1921-4e57-adbd-dbfd8bd2d386",
   "metadata": {},
   "outputs": [
    {
     "name": "stdout",
     "output_type": "stream",
     "text": [
      "### Your task is to classify an ordered list of argument components from an essay into three possible classes: major claim, claim, or premise. For this purpose, we give you the following information in order:\n",
      "A. The essay in which the argument components appear\n",
      "B. The ordered list of argument components, where each component is followed by 5 structural features: paragraph number of the component, is the component in the introduction (1=yes/0=no), is the component in the conclusion (1=yes/0=no), is the component first in its paragraph (1=yes/0=no), is the component last in its paragraph (1=yes/0=no).\n",
      "\n"
     ]
    }
   ],
   "source": [
    "print(my_task_description)"
   ]
  },
  {
   "cell_type": "code",
   "execution_count": 18,
   "id": "d4ff99b0",
   "metadata": {},
   "outputs": [
    {
     "data": {
      "text/plain": [
       "Index(['tag', 'label', 'start', 'end', 'argument_component', 'essay_file',\n",
       "       'essay_title', 'essay_text', 'sentence', 'nr_essay_paragraphs',\n",
       "       'paragraph_nr', 'paragraph', 'is_component_in_intro_paragraph',\n",
       "       'is_component_in_conclusion_paragraph',\n",
       "       'is_component_first_in_paragraph', 'is_component_last_in_paragraph',\n",
       "       'split', 'structral_featxt', 'argument_counter'],\n",
       "      dtype='object')"
      ]
     },
     "execution_count": 18,
     "metadata": {},
     "output_type": "execute_result"
    }
   ],
   "source": [
    "df.columns"
   ]
  },
  {
   "cell_type": "code",
   "execution_count": 19,
   "id": "2d4526d5-1263-41d0-b96a-7d379c29c3c6",
   "metadata": {},
   "outputs": [],
   "source": [
    "def build_question(essay_text, argument_components, structural_features):\n",
    "    \n",
    "    ac_l = \"\"\n",
    "    \n",
    "    for i, x in enumerate(argument_components):\n",
    "        \n",
    "        ac_l = ac_l + f\"\"\"argument {i+1}: {x}\n",
    "Structural features {i+1}: {structural_features[\"paragraph_nr\"][i]}, {structural_features[\"is_component_in_intro_paragraph\"][i]}, {structural_features[\"is_component_in_conclusion_paragraph\"][i]}, {structural_features[\"is_component_first_in_paragraph\"][i]}, {structural_features[\"is_component_last_in_paragraph\"][i]}.\n",
    "\"\"\"\n",
    "    \n",
    "    question = f\"\"\"### Here is the information about the argument components:\n",
    "A. Essay:\\n{essay_text}\n",
    "\n",
    "B. Ordered list of argument components:\\n{ac_l}\n",
    "You must return the list of classes of the sucessive argument components given in point B in format [<class of argument 1>,...,<class of argument n>]. The list must be of lenght n, where n is the number of components. The 3 possible classes are major claim, claim or premise.\n",
    "\"\"\"\n",
    "    \n",
    "    return question"
   ]
  },
  {
   "cell_type": "code",
   "execution_count": 20,
   "id": "cc45a09b-43a4-4eaa-a35e-24c54de65f3b",
   "metadata": {},
   "outputs": [
    {
     "data": {
      "text/plain": [
       "Index(['tag', 'label', 'start', 'end', 'argument_component', 'essay_file',\n",
       "       'essay_title', 'essay_text', 'sentence', 'nr_essay_paragraphs',\n",
       "       'paragraph_nr', 'paragraph', 'is_component_in_intro_paragraph',\n",
       "       'is_component_in_conclusion_paragraph',\n",
       "       'is_component_first_in_paragraph', 'is_component_last_in_paragraph',\n",
       "       'split', 'structral_featxt', 'argument_counter'],\n",
       "      dtype='object')"
      ]
     },
     "execution_count": 20,
     "metadata": {},
     "output_type": "execute_result"
    }
   ],
   "source": [
    "df.columns"
   ]
  },
  {
   "cell_type": "code",
   "execution_count": 21,
   "id": "f95e7b2f-6436-4c52-aca2-80f4b6c9ed94",
   "metadata": {},
   "outputs": [
    {
     "name": "stdout",
     "output_type": "stream",
     "text": [
      "### Here is the information about the argument components:\n",
      "A. Essay:\n",
      "Advertising impact on people's choice of consumption\n",
      "\n",
      "Nowdays, people's choice of consumption is heavily affected by various of advertising on television, street, magazine etc. This argument may be true that people will be swayed by the advertising and buy things they do not need it for their life. For example, in most asian countries, advertisement company usually hire popular singers or actors to advertise the products to boosts the sales, and some people, especially adolescent may buy things from their favourite singer advertised to support their idol instead of to fill their needs.\n",
      "In addition, products usually look more gorgeous and with good quality in advertisement, people are more likely to buy goods impulsively without a second thought. A good advertisement can convince people to believe that it is what they want, even though it is not the real needs of the society. And there are always people purchase particular products swayed by advertising which makes it a trend to follow for other people who is unnecessarily need it.\n",
      "However, buying habit is a very personal things for individuals, the advertisement is not the only cause for people to buy, sometimes it depends on one's needs and ability of consumption. It is unlikely to buy things impulsively for adults who have concern of arranging disposable income. Most of them have to allocate the money if they doing other purchase. On the other hand, children and adolescents who is not economic independence is more possible to buy things impulsively without considering whether they need it or not, since they do not have financial pressure from life and ability to define what is necessary.\n",
      "In my opinion, I think buying habit is people's choice to make, not entirely affected by advertisements. But for children or adolescents who is not mentally develop, it might be hard for them not to swayed by advertising. So it is important that government needs to impose rules on particularly advertisement company (for example, toys company) to avoid youngster have bias thought on what they really need.\n",
      "\n",
      "B. Ordered list of argument components:\n",
      "argument 1: people will be swayed by the advertising and buy things they do not need it for their life\n",
      "Structural features 1: 1, 1, 0, 1, 0.\n",
      "argument 2: in most asian countries, advertisement company usually hire popular singers or actors to advertise the products to boosts the sales, and some people, especially adolescent may buy things from their favourite singer advertised to support their idol instead of to fill their needs\n",
      "Structural features 2: 1, 1, 0, 0, 1.\n",
      "argument 3: products usually look more gorgeous and with good quality in advertisement, people are more likely to buy goods impulsively without a second thought\n",
      "Structural features 3: 2, 0, 0, 1, 0.\n",
      "argument 4: A good advertisement can convince people to believe that it is what they want, even though it is not the real needs of the society\n",
      "Structural features 4: 2, 0, 0, 0, 0.\n",
      "argument 5: there are always people purchase particular products swayed by advertising which makes it a trend to follow for other people who is unnecessarily need it\n",
      "Structural features 5: 2, 0, 0, 0, 1.\n",
      "argument 6: buying habit is a very personal things for individuals\n",
      "Structural features 6: 3, 0, 0, 1, 0.\n",
      "argument 7: the advertisement is not the only cause for people to buy\n",
      "Structural features 7: 3, 0, 0, 0, 0.\n",
      "argument 8: sometimes it depends on one's needs and ability of consumption\n",
      "Structural features 8: 3, 0, 0, 0, 0.\n",
      "argument 9: It is unlikely to buy things impulsively for adults who have concern of arranging disposable income\n",
      "Structural features 9: 3, 0, 0, 0, 0.\n",
      "argument 10: Most of them have to allocate the money if they doing other purchase\n",
      "Structural features 10: 3, 0, 0, 0, 0.\n",
      "argument 11: children and adolescents who is not economic independence is more possible to buy things impulsively without considering whether they need it or not\n",
      "Structural features 11: 3, 0, 0, 0, 0.\n",
      "argument 12: they do not have financial pressure from life and ability to define what is necessary\n",
      "Structural features 12: 3, 0, 0, 0, 1.\n",
      "argument 13: buying habit is people's choice to make, not entirely affected by advertisements\n",
      "Structural features 13: 4, 0, 1, 1, 0.\n",
      "argument 14: for children or adolescents who is not mentally develop, it might be hard for them not to swayed by advertising\n",
      "Structural features 14: 4, 0, 1, 0, 0.\n",
      "argument 15: it is important that government needs to impose rules on particularly advertisement company (for example, toys company) to avoid youngster have bias thought on what they really need\n",
      "Structural features 15: 4, 0, 1, 0, 1.\n",
      "\n",
      "You must return the list of classes of the sucessive argument components given in point B in format [<class of argument 1>,...,<class of argument n>]. The list must be of lenght n, where n is the number of components. The 3 possible classes are major claim, claim or premise.\n",
      "\n"
     ]
    }
   ],
   "source": [
    "essay_file = train_essays_l[0]\n",
    "essay_sub_df = df[df.essay_file==essay_file]\n",
    "essay_text = essay_sub_df.iloc[0].essay_text\n",
    "argument_components = list(essay_sub_df.argument_component.values)\n",
    "structural_fts = essay_sub_df[[\"paragraph_nr\",\n",
    "                               \"is_component_in_intro_paragraph\",\n",
    "                               \"is_component_in_conclusion_paragraph\", \n",
    "                               \"is_component_first_in_paragraph\", \n",
    "                               \"is_component_last_in_paragraph\"]].to_dict(orient=\"list\")\n",
    "argument_labels = list(essay_sub_df.label.values)\n",
    "\n",
    "question = build_question(essay_text, argument_components, structural_fts)\n",
    "print(question)"
   ]
  },
  {
   "cell_type": "code",
   "execution_count": 22,
   "id": "7cbf4933-227b-4895-8fc4-b07020d3b66b",
   "metadata": {},
   "outputs": [],
   "source": [
    "def build_answer(argument_labels):\n",
    "    \n",
    "    map_d = {\"MajorClaim\": \"major claim\", \"Claim\": \"claim\", \"Premise\": \"premise\"}\n",
    "    \n",
    "    return [map_d[x] for x in argument_labels]"
   ]
  },
  {
   "cell_type": "code",
   "execution_count": 23,
   "id": "3675a7b1-72cd-42bc-aeed-9a48c16d88be",
   "metadata": {},
   "outputs": [
    {
     "name": "stdout",
     "output_type": "stream",
     "text": [
      "['claim', 'premise', 'premise', 'claim', 'premise', 'premise', 'claim', 'premise', 'premise', 'premise', 'claim', 'premise', 'major claim', 'premise', 'claim']\n"
     ]
    }
   ],
   "source": [
    "answer = build_answer(argument_labels)\n",
    "print(answer)"
   ]
  },
  {
   "cell_type": "code",
   "execution_count": 24,
   "id": "919a1870-1ae1-4491-a06e-c90ebb2aaad4",
   "metadata": {},
   "outputs": [
    {
     "name": "stdout",
     "output_type": "stream",
     "text": [
      "{'messages': [{'role': 'system', 'content': '### Your task is to classify an ordered list of argument components from an essay into three possible classes: major claim, claim, or premise. For this purpose, we give you the following information in order:\\nA. The essay in which the argument components appear\\nB. The ordered list of argument components, where each component is followed by 5 structural features: paragraph number of the component, is the component in the introduction (1=yes/0=no), is the component in the conclusion (1=yes/0=no), is the component first in its paragraph (1=yes/0=no), is the component last in its paragraph (1=yes/0=no).\\n'}, {'role': 'user', 'content': \"### Here is the information about the argument components:\\nA. Essay:\\nAdvertising impact on people's choice of consumption\\n\\nNowdays, people's choice of consumption is heavily affected by various of advertising on television, street, magazine etc. This argument may be true that people will be swayed by the advertising and buy things they do not need it for their life. For example, in most asian countries, advertisement company usually hire popular singers or actors to advertise the products to boosts the sales, and some people, especially adolescent may buy things from their favourite singer advertised to support their idol instead of to fill their needs.\\nIn addition, products usually look more gorgeous and with good quality in advertisement, people are more likely to buy goods impulsively without a second thought. A good advertisement can convince people to believe that it is what they want, even though it is not the real needs of the society. And there are always people purchase particular products swayed by advertising which makes it a trend to follow for other people who is unnecessarily need it.\\nHowever, buying habit is a very personal things for individuals, the advertisement is not the only cause for people to buy, sometimes it depends on one's needs and ability of consumption. It is unlikely to buy things impulsively for adults who have concern of arranging disposable income. Most of them have to allocate the money if they doing other purchase. On the other hand, children and adolescents who is not economic independence is more possible to buy things impulsively without considering whether they need it or not, since they do not have financial pressure from life and ability to define what is necessary.\\nIn my opinion, I think buying habit is people's choice to make, not entirely affected by advertisements. But for children or adolescents who is not mentally develop, it might be hard for them not to swayed by advertising. So it is important that government needs to impose rules on particularly advertisement company (for example, toys company) to avoid youngster have bias thought on what they really need.\\n\\nB. Ordered list of argument components:\\nargument 1: people will be swayed by the advertising and buy things they do not need it for their life\\nStructural features 1: 1, 1, 0, 1, 0.\\nargument 2: in most asian countries, advertisement company usually hire popular singers or actors to advertise the products to boosts the sales, and some people, especially adolescent may buy things from their favourite singer advertised to support their idol instead of to fill their needs\\nStructural features 2: 1, 1, 0, 0, 1.\\nargument 3: products usually look more gorgeous and with good quality in advertisement, people are more likely to buy goods impulsively without a second thought\\nStructural features 3: 2, 0, 0, 1, 0.\\nargument 4: A good advertisement can convince people to believe that it is what they want, even though it is not the real needs of the society\\nStructural features 4: 2, 0, 0, 0, 0.\\nargument 5: there are always people purchase particular products swayed by advertising which makes it a trend to follow for other people who is unnecessarily need it\\nStructural features 5: 2, 0, 0, 0, 1.\\nargument 6: buying habit is a very personal things for individuals\\nStructural features 6: 3, 0, 0, 1, 0.\\nargument 7: the advertisement is not the only cause for people to buy\\nStructural features 7: 3, 0, 0, 0, 0.\\nargument 8: sometimes it depends on one's needs and ability of consumption\\nStructural features 8: 3, 0, 0, 0, 0.\\nargument 9: It is unlikely to buy things impulsively for adults who have concern of arranging disposable income\\nStructural features 9: 3, 0, 0, 0, 0.\\nargument 10: Most of them have to allocate the money if they doing other purchase\\nStructural features 10: 3, 0, 0, 0, 0.\\nargument 11: children and adolescents who is not economic independence is more possible to buy things impulsively without considering whether they need it or not\\nStructural features 11: 3, 0, 0, 0, 0.\\nargument 12: they do not have financial pressure from life and ability to define what is necessary\\nStructural features 12: 3, 0, 0, 0, 1.\\nargument 13: buying habit is people's choice to make, not entirely affected by advertisements\\nStructural features 13: 4, 0, 1, 1, 0.\\nargument 14: for children or adolescents who is not mentally develop, it might be hard for them not to swayed by advertising\\nStructural features 14: 4, 0, 1, 0, 0.\\nargument 15: it is important that government needs to impose rules on particularly advertisement company (for example, toys company) to avoid youngster have bias thought on what they really need\\nStructural features 15: 4, 0, 1, 0, 1.\\n\\nYou must return the list of classes of the sucessive argument components given in point B in format [<class of argument 1>,...,<class of argument n>]. The list must be of lenght n, where n is the number of components. The 3 possible classes are major claim, claim or premise.\\n\"}, {'role': 'assistant', 'content': \"['claim', 'premise', 'premise', 'claim', 'premise', 'premise', 'claim', 'premise', 'premise', 'premise', 'claim', 'premise', 'major claim', 'premise', 'claim']\"}]}\n"
     ]
    }
   ],
   "source": [
    "print(formatting_fct(my_task_description, question, answer, mode=\"train\"))"
   ]
  },
  {
   "cell_type": "markdown",
   "id": "9056fd22-4718-436e-bfc3-42a433d5bf3f",
   "metadata": {},
   "source": [
    "## Prepare data files"
   ]
  },
  {
   "cell_type": "markdown",
   "id": "b0baac15-666a-4181-b5c4-af9f7ab668b9",
   "metadata": {},
   "source": [
    "### Train set"
   ]
  },
  {
   "cell_type": "code",
   "execution_count": 25,
   "id": "c9c0f082-2f50-4543-abcd-7a64726ad7ff",
   "metadata": {},
   "outputs": [],
   "source": [
    "data_file_train = []\n",
    "\n",
    "for essay_file in train_essays_l:\n",
    "    \n",
    "    essay_sub_df = df[df.essay_file==essay_file]\n",
    "    essay_text = essay_sub_df.iloc[0].essay_text\n",
    "    argument_components = list(essay_sub_df.argument_component.values)\n",
    "    structural_fts = essay_sub_df[[\"paragraph_nr\",\n",
    "                               \"is_component_in_intro_paragraph\",\n",
    "                               \"is_component_in_conclusion_paragraph\", \n",
    "                               \"is_component_first_in_paragraph\", \n",
    "                               \"is_component_last_in_paragraph\"]].to_dict(orient=\"list\")\n",
    "    argument_labels = list(essay_sub_df.label.values)\n",
    "\n",
    "    question = build_question(essay_text, argument_components, structural_fts)\n",
    "    answer = build_answer(argument_labels)\n",
    "    \n",
    "    data_file_train.append( formatting_fct(my_task_description, question, answer, mode=\"train\") )"
   ]
  },
  {
   "cell_type": "code",
   "execution_count": 26,
   "id": "52f56e72-44f2-44e9-8a91-dc4023de5dde",
   "metadata": {},
   "outputs": [
    {
     "data": {
      "text/plain": [
       "290"
      ]
     },
     "execution_count": 26,
     "metadata": {},
     "output_type": "execute_result"
    }
   ],
   "source": [
    "len(data_file_train)"
   ]
  },
  {
   "cell_type": "code",
   "execution_count": 27,
   "id": "6597503e-a445-49fc-b190-87825192ace1",
   "metadata": {},
   "outputs": [
    {
     "name": "stdout",
     "output_type": "stream",
     "text": [
      "{'messages': [{'role': 'system', 'content': '### Your task is to classify an ordered list of argument components from an essay into three possible classes: major claim, claim, or premise. For this purpose, we give you the following information in order:\\nA. The essay in which the argument components appear\\nB. The ordered list of argument components, where each component is followed by 5 structural features: paragraph number of the component, is the component in the introduction (1=yes/0=no), is the component in the conclusion (1=yes/0=no), is the component first in its paragraph (1=yes/0=no), is the component last in its paragraph (1=yes/0=no).\\n'}, {'role': 'user', 'content': \"### Here is the information about the argument components:\\nA. Essay:\\nAdvertising impact on people's choice of consumption\\n\\nNowdays, people's choice of consumption is heavily affected by various of advertising on television, street, magazine etc. This argument may be true that people will be swayed by the advertising and buy things they do not need it for their life. For example, in most asian countries, advertisement company usually hire popular singers or actors to advertise the products to boosts the sales, and some people, especially adolescent may buy things from their favourite singer advertised to support their idol instead of to fill their needs.\\nIn addition, products usually look more gorgeous and with good quality in advertisement, people are more likely to buy goods impulsively without a second thought. A good advertisement can convince people to believe that it is what they want, even though it is not the real needs of the society. And there are always people purchase particular products swayed by advertising which makes it a trend to follow for other people who is unnecessarily need it.\\nHowever, buying habit is a very personal things for individuals, the advertisement is not the only cause for people to buy, sometimes it depends on one's needs and ability of consumption. It is unlikely to buy things impulsively for adults who have concern of arranging disposable income. Most of them have to allocate the money if they doing other purchase. On the other hand, children and adolescents who is not economic independence is more possible to buy things impulsively without considering whether they need it or not, since they do not have financial pressure from life and ability to define what is necessary.\\nIn my opinion, I think buying habit is people's choice to make, not entirely affected by advertisements. But for children or adolescents who is not mentally develop, it might be hard for them not to swayed by advertising. So it is important that government needs to impose rules on particularly advertisement company (for example, toys company) to avoid youngster have bias thought on what they really need.\\n\\nB. Ordered list of argument components:\\nargument 1: people will be swayed by the advertising and buy things they do not need it for their life\\nStructural features 1: 1, 1, 0, 1, 0.\\nargument 2: in most asian countries, advertisement company usually hire popular singers or actors to advertise the products to boosts the sales, and some people, especially adolescent may buy things from their favourite singer advertised to support their idol instead of to fill their needs\\nStructural features 2: 1, 1, 0, 0, 1.\\nargument 3: products usually look more gorgeous and with good quality in advertisement, people are more likely to buy goods impulsively without a second thought\\nStructural features 3: 2, 0, 0, 1, 0.\\nargument 4: A good advertisement can convince people to believe that it is what they want, even though it is not the real needs of the society\\nStructural features 4: 2, 0, 0, 0, 0.\\nargument 5: there are always people purchase particular products swayed by advertising which makes it a trend to follow for other people who is unnecessarily need it\\nStructural features 5: 2, 0, 0, 0, 1.\\nargument 6: buying habit is a very personal things for individuals\\nStructural features 6: 3, 0, 0, 1, 0.\\nargument 7: the advertisement is not the only cause for people to buy\\nStructural features 7: 3, 0, 0, 0, 0.\\nargument 8: sometimes it depends on one's needs and ability of consumption\\nStructural features 8: 3, 0, 0, 0, 0.\\nargument 9: It is unlikely to buy things impulsively for adults who have concern of arranging disposable income\\nStructural features 9: 3, 0, 0, 0, 0.\\nargument 10: Most of them have to allocate the money if they doing other purchase\\nStructural features 10: 3, 0, 0, 0, 0.\\nargument 11: children and adolescents who is not economic independence is more possible to buy things impulsively without considering whether they need it or not\\nStructural features 11: 3, 0, 0, 0, 0.\\nargument 12: they do not have financial pressure from life and ability to define what is necessary\\nStructural features 12: 3, 0, 0, 0, 1.\\nargument 13: buying habit is people's choice to make, not entirely affected by advertisements\\nStructural features 13: 4, 0, 1, 1, 0.\\nargument 14: for children or adolescents who is not mentally develop, it might be hard for them not to swayed by advertising\\nStructural features 14: 4, 0, 1, 0, 0.\\nargument 15: it is important that government needs to impose rules on particularly advertisement company (for example, toys company) to avoid youngster have bias thought on what they really need\\nStructural features 15: 4, 0, 1, 0, 1.\\n\\nYou must return the list of classes of the sucessive argument components given in point B in format [<class of argument 1>,...,<class of argument n>]. The list must be of lenght n, where n is the number of components. The 3 possible classes are major claim, claim or premise.\\n\"}, {'role': 'assistant', 'content': \"['claim', 'premise', 'premise', 'claim', 'premise', 'premise', 'claim', 'premise', 'premise', 'premise', 'claim', 'premise', 'major claim', 'premise', 'claim']\"}]}\n",
      "\n",
      "{'messages': [{'role': 'system', 'content': '### Your task is to classify an ordered list of argument components from an essay into three possible classes: major claim, claim, or premise. For this purpose, we give you the following information in order:\\nA. The essay in which the argument components appear\\nB. The ordered list of argument components, where each component is followed by 5 structural features: paragraph number of the component, is the component in the introduction (1=yes/0=no), is the component in the conclusion (1=yes/0=no), is the component first in its paragraph (1=yes/0=no), is the component last in its paragraph (1=yes/0=no).\\n'}, {'role': 'user', 'content': \"### Here is the information about the argument components:\\nA. Essay:\\nTechnology inspires children's creativity instead of weakening it\\n\\nTechnology accelerates human's evolving pace. With advanced technology, many things that seemed impossible in the past, have become realities. For example, people in the past never dreamed of talking to anyone whenever they wanted or see someone overseas on a computer screen, both of these can be achieved with cellphone and internet. However, some people point that technology has made children less creative. I don't deny that technology may have some negative effects on children, but I think technology makes children even more creative.\\nFirst, technology inspires children to create new things. Children are curious about everything around them, so when they come across a high-tech product like a cellphone, they will be obsessed with its mysterious functions and eager to know how it works. For example, Bill Gates was attracted by the original huge computer, then he did everything he could to understand how it worked. After he had figured out all the stuff, he then began to promote the computer. In the end, he successfully invented a computer that was easy to use and lightweight. Therefore, instead of interfering children's creativity, technology actually encourages children to learn and to create.\\nSecond, technology widen children's knowledge. In the past, children were only able to see things from one perspective. However, with highly advanced technology, children are able to get information from foreign countries and even communicate with foreign friends. Therefore, they will be able to learn about different cultures and different ways of thinking. Knowledge is the base of creativity. The diverse knowledge that children gained from different parts of the world, inspires children and encourage them to create new things.\\nAdmittedly, technology may have negative effects on children. Technology has made life too easy for most children. In comfortable conditions, children may be satisfied with the world around them and refuse to make a change. Nonetheless, with the development of technology, increasingly more young people become obsessed with high-tech products. They kept researching new technology and became successful at a very young age. \\n\\nB. Ordered list of argument components:\\nargument 1: technology may have some negative effects on children\\nStructural features 1: 1, 1, 0, 1, 0.\\nargument 2: technology makes children even more creative\\nStructural features 2: 1, 1, 0, 0, 1.\\nargument 3: technology inspires children to create new things\\nStructural features 3: 2, 0, 0, 1, 0.\\nargument 4: Children are curious about everything around them\\nStructural features 4: 2, 0, 0, 0, 0.\\nargument 5: when they come across a high-tech product like a cellphone, they will be obsessed with its mysterious functions and eager to know how it works\\nStructural features 5: 2, 0, 0, 0, 0.\\nargument 6: Bill Gates was attracted by the original huge computer, then he did everything he could to understand how it worked\\nStructural features 6: 2, 0, 0, 0, 0.\\nargument 7: After he had figured out all the stuff, he then began to promote the computer\\nStructural features 7: 2, 0, 0, 0, 0.\\nargument 8: In the end, he successfully invented a computer that was easy to use and lightweight\\nStructural features 8: 2, 0, 0, 0, 0.\\nargument 9: instead of interfering children's creativity, technology actually encourages children to learn and to create\\nStructural features 9: 2, 0, 0, 0, 1.\\nargument 10: technology widen children's knowledge\\nStructural features 10: 3, 0, 0, 1, 0.\\nargument 11: In the past, children were only able to see things from one perspective\\nStructural features 11: 3, 0, 0, 0, 0.\\nargument 12: with highly advanced technology, children are able to get information from foreign countries and even communicate with foreign friends\\nStructural features 12: 3, 0, 0, 0, 0.\\nargument 13: they will be able to learn about different cultures and different ways of thinking\\nStructural features 13: 3, 0, 0, 0, 0.\\nargument 14: Knowledge is the base of creativity\\nStructural features 14: 3, 0, 0, 0, 0.\\nargument 15: The diverse knowledge that children gained from different parts of the world, inspires children and encourage them to create new things\\nStructural features 15: 3, 0, 0, 0, 1.\\nargument 16: technology may have negative effects on children\\nStructural features 16: 4, 0, 1, 1, 0.\\nargument 17: Technology has made life too easy for most children\\nStructural features 17: 4, 0, 1, 0, 0.\\nargument 18: In comfortable conditions, children may be satisfied with the world around them and refuse to make a change\\nStructural features 18: 4, 0, 1, 0, 0.\\nargument 19: with the development of technology, increasingly more young people become obsessed with high-tech products\\nStructural features 19: 4, 0, 1, 0, 0.\\nargument 20: They kept researching new technology and became successful at a very young age\\nStructural features 20: 4, 0, 1, 0, 1.\\n\\nYou must return the list of classes of the sucessive argument components given in point B in format [<class of argument 1>,...,<class of argument n>]. The list must be of lenght n, where n is the number of components. The 3 possible classes are major claim, claim or premise.\\n\"}, {'role': 'assistant', 'content': \"['claim', 'major claim', 'premise', 'premise', 'premise', 'premise', 'premise', 'premise', 'claim', 'premise', 'premise', 'premise', 'premise', 'premise', 'claim', 'claim', 'premise', 'premise', 'premise', 'major claim']\"}]}\n",
      "\n",
      "{'messages': [{'role': 'system', 'content': '### Your task is to classify an ordered list of argument components from an essay into three possible classes: major claim, claim, or premise. For this purpose, we give you the following information in order:\\nA. The essay in which the argument components appear\\nB. The ordered list of argument components, where each component is followed by 5 structural features: paragraph number of the component, is the component in the introduction (1=yes/0=no), is the component in the conclusion (1=yes/0=no), is the component first in its paragraph (1=yes/0=no), is the component last in its paragraph (1=yes/0=no).\\n'}, {'role': 'user', 'content': '### Here is the information about the argument components:\\nA. Essay:\\nEffects of globalization\\n\\nDuring the history of the world, every change has its own positive and negative sides. Globalization as a gradual change affecting all over the world is not an exception. Although it has undeniable effects on the economics of the world; it has side effects which make it a controversial issue.\\nSome people prefer to recognize globalization as a threat to ethnic and religious values of people of their country. They think that the idea of globalization put their inherited culture in danger of uncontrolled change and make them vulnerable against the attack of imperialistic governments.\\nThose who disagree, believe that globalization contribute effectively to the global improvement of the world in many aspects. Developing globalization, people can have more access to many natural resources of the world and it leads to increasing the pace of scientific and economic promotions of the entire world. In addition, they admit that globalization can be considered a chance for people of each country to promote their lifestyle through the stuffs and services imported from other countries.\\nMoreover, the proponents of globalization idea point out globalization results in considerable decrease in global tension due to convergence of benefits of people of the world which is a natural consequence of globalization.\\nIn conclusion, I would rather classify myself in the proponents of globalization as a speeding factor of global progress. I think it is more likely to solve the problems of the world rather than intensifying them.\\n\\n\\nB. Ordered list of argument components:\\nargument 1: Some people prefer to recognize globalization as a threat to ethnic and religious values of people of their country\\nStructural features 1: 2, 0, 0, 1, 0.\\nargument 2: the idea of globalization put their inherited culture in danger of uncontrolled change and make them vulnerable against the attack of imperialistic governments\\nStructural features 2: 2, 0, 0, 0, 1.\\nargument 3: globalization contribute effectively to the global improvement of the world in many aspects\\nStructural features 3: 3, 0, 0, 1, 0.\\nargument 4: Developing globalization, people can have more access to many natural resources of the world and it leads to increasing the pace of scientific and economic promotions of the entire world\\nStructural features 4: 3, 0, 0, 0, 0.\\nargument 5: they admit that globalization can be considered a chance for people of each country to promote their lifestyle through the stuffs and services imported from other countries\\nStructural features 5: 3, 0, 0, 0, 1.\\nargument 6: globalization results in considerable decrease in global tension\\nStructural features 6: 4, 0, 0, 1, 0.\\nargument 7: convergence of benefits of people of the world which is a natural consequence of globalization\\nStructural features 7: 4, 0, 0, 0, 1.\\nargument 8: I would rather classify myself in the proponents of globalization as a speeding factor of global progress\\nStructural features 8: 5, 0, 1, 1, 1.\\n\\nYou must return the list of classes of the sucessive argument components given in point B in format [<class of argument 1>,...,<class of argument n>]. The list must be of lenght n, where n is the number of components. The 3 possible classes are major claim, claim or premise.\\n'}, {'role': 'assistant', 'content': \"['claim', 'premise', 'claim', 'premise', 'premise', 'claim', 'premise', 'major claim']\"}]}\n",
      "\n"
     ]
    }
   ],
   "source": [
    "for i in range(3):\n",
    "    \n",
    "    print(data_file_train[i])\n",
    "    print()"
   ]
  },
  {
   "cell_type": "markdown",
   "id": "415f6f40-ce08-4d31-896b-013e05c49537",
   "metadata": {},
   "source": [
    "### Validation set"
   ]
  },
  {
   "cell_type": "code",
   "execution_count": 28,
   "id": "6895be27-d3a8-4990-a033-02e059ad1854",
   "metadata": {},
   "outputs": [],
   "source": [
    "data_file_val = []\n",
    "\n",
    "for essay_file in val_essays_l:\n",
    "    \n",
    "    essay_sub_df = df[df.essay_file==essay_file]\n",
    "    essay_text = essay_sub_df.iloc[0].essay_text\n",
    "    argument_components = list(essay_sub_df.argument_component.values)\n",
    "    argument_labels = list(essay_sub_df.label.values)\n",
    "    structural_fts = essay_sub_df[[\"paragraph_nr\",\n",
    "                               \"is_component_in_intro_paragraph\",\n",
    "                               \"is_component_in_conclusion_paragraph\", \n",
    "                               \"is_component_first_in_paragraph\", \n",
    "                               \"is_component_last_in_paragraph\"]].to_dict(orient=\"list\")\n",
    "    question = build_question(essay_text, argument_components, structural_fts)\n",
    "    answer = build_answer(argument_labels)\n",
    "    \n",
    "    data_file_val.append( formatting_fct(my_task_description, question, answer, mode=\"train\") )"
   ]
  },
  {
   "cell_type": "code",
   "execution_count": 29,
   "id": "331ab12d-d648-44d7-9d12-09a819139ea0",
   "metadata": {},
   "outputs": [
    {
     "data": {
      "text/plain": [
       "32"
      ]
     },
     "execution_count": 29,
     "metadata": {},
     "output_type": "execute_result"
    }
   ],
   "source": [
    "len(data_file_val)"
   ]
  },
  {
   "cell_type": "code",
   "execution_count": 30,
   "id": "a236eb04-4d63-4cbc-8512-e3b81cc59d97",
   "metadata": {},
   "outputs": [
    {
     "name": "stdout",
     "output_type": "stream",
     "text": [
      "{'messages': [{'role': 'system', 'content': '### Your task is to classify an ordered list of argument components from an essay into three possible classes: major claim, claim, or premise. For this purpose, we give you the following information in order:\\nA. The essay in which the argument components appear\\nB. The ordered list of argument components, where each component is followed by 5 structural features: paragraph number of the component, is the component in the introduction (1=yes/0=no), is the component in the conclusion (1=yes/0=no), is the component first in its paragraph (1=yes/0=no), is the component last in its paragraph (1=yes/0=no).\\n'}, {'role': 'user', 'content': '### Here is the information about the argument components:\\nA. Essay:\\nSome people believe that the Earth is being harmed by human\\n\\nWhether human activity is making the Earth a better place to live or damaging it is a debatable issue. Some people advocate the idea that human activity is advantageously influencing to the Earth. However, I strongly believe that human activities are having a bad effect upon our planet, for human are polluting the Earth\\'s environment, exhausting natural resource and threatening the living of other species.\\nPeople are corrupting their ecosphere. In recent decades, concurrently with the increase of human consume, the waste discarded by human also multiplies. These wastes including household waste and industrial waste are so big that a \"new\" continent is now being formed in the sea from garbage. Furthermore, the industrial exhaust gases are adulterating the air, causing the insalubrious phenomenon such as acid rain, global warming or climate change.\\nBesides, people are draining the Earth\\'s natural resources. These resources such as oil, coal are vital for human activity, therefore nowadays, the exploitation activities of these resources are increasing dramatically to adapt to the infinite need of people. Researchers indicated that most of natural resources are un-recyclable and only several decades after, the Earth\\'s natural resources are totally exhausted. At that time, human activity will be seriously affected due to the dependence on these resources.\\nAlso, people are endangering other species\\' live. Hunting has been a fundamental activity of human for having food. Through million years of hunting, especially in recent centuries with the innovation of rifle and dynamite, people have killed many animals and even have made some kinds of them become extinct. Moreover, people, suffering from the population pressure, are expanding their living area; consequently, the living area of other species narrowed. This narrowing of living region is pushing many creatures to the brink of extinction.\\nAll in all, from discussed reasons, we can conclude that human activity are gradually destroy the Earth since it is polluting the Earth environment, depleting the resource and imperiling other species\\' lives.\\n\\nB. Ordered list of argument components:\\nargument 1: human activities are having a bad effect upon our planet\\nStructural features 1: 1, 1, 0, 1, 0.\\nargument 2: human are polluting the Earth\\'s environment, exhausting natural resource and threatening the living of other species\\nStructural features 2: 1, 1, 0, 0, 1.\\nargument 3: People are corrupting their ecosphere\\nStructural features 3: 2, 0, 0, 1, 0.\\nargument 4: In recent decades, concurrently with the increase of human consume, the waste discarded by human also multiplies\\nStructural features 4: 2, 0, 0, 0, 0.\\nargument 5: These wastes including household waste and industrial waste are so big that a \"new\" continent is now being formed in the sea from garbage\\nStructural features 5: 2, 0, 0, 0, 0.\\nargument 6: the industrial exhaust gases are adulterating the air, causing the insalubrious phenomenon such as acid rain, global warming or climate change\\nStructural features 6: 2, 0, 0, 0, 1.\\nargument 7: people are draining the Earth\\'s natural resources\\nStructural features 7: 3, 0, 0, 1, 0.\\nargument 8: These resources such as oil, coal are vital for human activity\\nStructural features 8: 3, 0, 0, 0, 0.\\nargument 9: nowadays, the exploitation activities of these resources are increasing dramatically to adapt to the infinite need of people\\nStructural features 9: 3, 0, 0, 0, 0.\\nargument 10: Researchers indicated that most of natural resources are un-recyclable and only several decades after, the Earth\\'s natural resources are totally exhausted\\nStructural features 10: 3, 0, 0, 0, 0.\\nargument 11: At that time, human activity will be seriously affected due to the dependence on these resources\\nStructural features 11: 3, 0, 0, 0, 1.\\nargument 12: people are endangering other species\\' live\\nStructural features 12: 4, 0, 0, 1, 0.\\nargument 13: Hunting has been a fundamental activity of human for having food\\nStructural features 13: 4, 0, 0, 0, 0.\\nargument 14: Through million years of hunting, especially in recent centuries with the innovation of rifle and dynamite, people have killed many animals and even have made some kinds of them become extinct\\nStructural features 14: 4, 0, 0, 0, 0.\\nargument 15: people, suffering from the population pressure, are expanding their living area\\nStructural features 15: 4, 0, 0, 0, 0.\\nargument 16: the living area of other species narrowed\\nStructural features 16: 4, 0, 0, 0, 0.\\nargument 17: This narrowing of living region is pushing many creatures to the brink of extinction\\nStructural features 17: 4, 0, 0, 0, 1.\\nargument 18: human activity are gradually destroy the Earth\\nStructural features 18: 5, 0, 1, 1, 0.\\nargument 19: it is polluting the Earth environment, depleting the resource and imperiling other species\\' lives\\nStructural features 19: 5, 0, 1, 0, 1.\\n\\nYou must return the list of classes of the sucessive argument components given in point B in format [<class of argument 1>,...,<class of argument n>]. The list must be of lenght n, where n is the number of components. The 3 possible classes are major claim, claim or premise.\\n'}, {'role': 'assistant', 'content': \"['major claim', 'claim', 'claim', 'premise', 'premise', 'premise', 'claim', 'premise', 'premise', 'premise', 'premise', 'claim', 'premise', 'premise', 'premise', 'premise', 'premise', 'major claim', 'claim']\"}]}\n",
      "\n",
      "{'messages': [{'role': 'system', 'content': '### Your task is to classify an ordered list of argument components from an essay into three possible classes: major claim, claim, or premise. For this purpose, we give you the following information in order:\\nA. The essay in which the argument components appear\\nB. The ordered list of argument components, where each component is followed by 5 structural features: paragraph number of the component, is the component in the introduction (1=yes/0=no), is the component in the conclusion (1=yes/0=no), is the component first in its paragraph (1=yes/0=no), is the component last in its paragraph (1=yes/0=no).\\n'}, {'role': 'user', 'content': \"### Here is the information about the argument components:\\nA. Essay:\\nDo you think it is good for teenagers to work while schooling?\\n\\nIn my opinion, it is not the good idea for teenagers to have job while they are still students. Although, many argue that it provide good working experience, but I think it can interfere with their life in various ways. Having jobs would affect the health of the student. It divert their mind from studies and would take away their childhood phase from their life.\\nA student has to do lots of studies in today's competitive world to prove himself. He has to spend his most of time in school to get a good grades. If the student get involved himself in job in rest of the time, then it would cause an extra burden on them. Furthermore, jobs has various responsibilities like attendance, sometimes extra work and so on. This would result in stress, tension and tiredness. They won't be able to get proper time for relaxation, sleep. Thus, would affect their mental and physical health.\\nAnother reason, jobs can divert students from their studies. If students started earning in earlier age in their life, then they get attracted towards money. They feel themselves independent and would prefer to work more for money. This would affect their studies, they loose their interest from studies. Moreover, they drop out their studies so as to earn more money.\\nIn addition to this, the main drawback of teenagers job is that, they miss out the fun of their childhood time. He would miss various childhood activities such as hang out with friends, clubs and fun activities and social interaction with others. They have whole life to do job and prove themselves, but the childhood phase will never return in their life. Therefore, they should take advantage of life as much possible they can.\\nThus, for a teenager it is important to pay attention on their studies. Having job would affect their health, divert them from studies and take away one of the important phase from their life.\\n\\nB. Ordered list of argument components:\\nargument 1: it is not the good idea for teenagers to have job while they are still students\\nStructural features 1: 1, 1, 0, 1, 0.\\nargument 2: many argue that it provide good working experience\\nStructural features 2: 1, 1, 0, 0, 0.\\nargument 3: it can interfere with their life in various ways\\nStructural features 3: 1, 1, 0, 0, 0.\\nargument 4: Having jobs would affect the health of the student\\nStructural features 4: 1, 1, 0, 0, 0.\\nargument 5: It divert their mind from studies and would take away their childhood phase from their life\\nStructural features 5: 1, 1, 0, 0, 1.\\nargument 6: A student has to do lots of studies in today's competitive world to prove himself\\nStructural features 6: 2, 0, 0, 1, 0.\\nargument 7: He has to spend his most of time in school to get a good grades\\nStructural features 7: 2, 0, 0, 0, 0.\\nargument 8: If the student get involved himself in job in rest of the time, then it would cause an extra burden on them\\nStructural features 8: 2, 0, 0, 0, 0.\\nargument 9: jobs has various responsibilities like attendance, sometimes extra work and so on\\nStructural features 9: 2, 0, 0, 0, 0.\\nargument 10: This would result in stress, tension and tiredness\\nStructural features 10: 2, 0, 0, 0, 0.\\nargument 11: They won't be able to get proper time for relaxation, sleep\\nStructural features 11: 2, 0, 0, 0, 0.\\nargument 12: would affect their mental and physical health\\nStructural features 12: 2, 0, 0, 0, 1.\\nargument 13: jobs can divert students from their studies\\nStructural features 13: 3, 0, 0, 1, 0.\\nargument 14: If students started earning in earlier age in their life, then they get attracted towards money\\nStructural features 14: 3, 0, 0, 0, 0.\\nargument 15: They feel themselves independent and would prefer to work more for money\\nStructural features 15: 3, 0, 0, 0, 0.\\nargument 16: This would affect their studies, they loose their interest from studies\\nStructural features 16: 3, 0, 0, 0, 0.\\nargument 17: they drop out their studies so as to earn more money\\nStructural features 17: 3, 0, 0, 0, 1.\\nargument 18: the main drawback of teenagers job is that, they miss out the fun of their childhood time\\nStructural features 18: 4, 0, 0, 1, 0.\\nargument 19: He would miss various childhood activities such as hang out with friends, clubs and fun activities and social interaction with others\\nStructural features 19: 4, 0, 0, 0, 0.\\nargument 20: They have whole life to do job and prove themselves, but the childhood phase will never return in their life\\nStructural features 20: 4, 0, 0, 0, 0.\\nargument 21: they should take advantage of life as much possible they can\\nStructural features 21: 4, 0, 0, 0, 1.\\nargument 22: for a teenager it is important to pay attention on their studies\\nStructural features 22: 5, 0, 1, 1, 0.\\nargument 23: Having job would affect their health, divert them from studies and take away one of the important phase from their life\\nStructural features 23: 5, 0, 1, 0, 1.\\n\\nYou must return the list of classes of the sucessive argument components given in point B in format [<class of argument 1>,...,<class of argument n>]. The list must be of lenght n, where n is the number of components. The 3 possible classes are major claim, claim or premise.\\n\"}, {'role': 'assistant', 'content': \"['major claim', 'claim', 'major claim', 'claim', 'claim', 'premise', 'premise', 'claim', 'premise', 'premise', 'premise', 'claim', 'claim', 'premise', 'premise', 'premise', 'premise', 'premise', 'premise', 'premise', 'claim', 'major claim', 'claim']\"}]}\n",
      "\n",
      "{'messages': [{'role': 'system', 'content': '### Your task is to classify an ordered list of argument components from an essay into three possible classes: major claim, claim, or premise. For this purpose, we give you the following information in order:\\nA. The essay in which the argument components appear\\nB. The ordered list of argument components, where each component is followed by 5 structural features: paragraph number of the component, is the component in the introduction (1=yes/0=no), is the component in the conclusion (1=yes/0=no), is the component first in its paragraph (1=yes/0=no), is the component last in its paragraph (1=yes/0=no).\\n'}, {'role': 'user', 'content': \"### Here is the information about the argument components:\\nA. Essay:\\nOnce you are unique enough, you are already on the way to success\\n\\nAchieving success is everybody's goal for life and there are absolutely many different directions that can lead people to success. Some people choose to be normal to wait for chances, while some other people prefer to be different from everyone else. Which one is the promising way to succeed? In my opinion, I believe that once you are unique enough, you are already on the way to success.\\nFirst, being positively different from everyone else usually means that you've achieved something that is superior than others. As living in a competent world, we are like playing a survival game. Only who has the sharpest weapon can survive. If you don't make yourself outstanding enough or you fail to distinguish yourself from others, you will be easily replaced and eliminated by someone who is better than you. Take myself for example, when I was in college, I was always chosen to be the presenter of group report because I was the only one in my group who could present the report thoroughly and fluently.\\nSecond, being unique can create your own value which can never be taken by others. In other words, once you are special and unique, pursuing success is a matter of actively creating the fashion rather than passively waiting for other people to recognize and appreciate you. Take the most popular and prestigious technology company- Apple- for example. The reason why it gains such a tremendous success is because it achieves some brilliant qualities that can never be caught up by other competitors. It has its operating systems that can run smoother than any other companies and its design always wins the popularity among consumers. It is the uniqueness of Apple design that creates its own value.\\nIn conclusion, being different and unique is the better way to achieve success. It not only shows your competence but also creates your own value, making you take the lead in your way towards success. \\n\\nB. Ordered list of argument components:\\nargument 1: once you are unique enough, you are already on the way to success\\nStructural features 1: 1, 1, 0, 1, 1.\\nargument 2: being positively different from everyone else usually means that you've achieved something that is superior than others\\nStructural features 2: 2, 0, 0, 1, 0.\\nargument 3: As living in a competent world, we are like playing a survival game\\nStructural features 3: 2, 0, 0, 0, 0.\\nargument 4: Only who has the sharpest weapon can survive\\nStructural features 4: 2, 0, 0, 0, 0.\\nargument 5: If you don't make yourself outstanding enough or you fail to distinguish yourself from others, you will be easily replaced and eliminated by someone who is better than you\\nStructural features 5: 2, 0, 0, 0, 0.\\nargument 6: when I was in college, I was always chosen to be the presenter of group report\\nStructural features 6: 2, 0, 0, 0, 0.\\nargument 7: I was the only one in my group who could present the report thoroughly and fluently\\nStructural features 7: 2, 0, 0, 0, 1.\\nargument 8: being unique can create your own value which can never be taken by others\\nStructural features 8: 3, 0, 0, 1, 0.\\nargument 9: once you are special and unique, pursuing success is a matter of actively creating the fashion rather than passively waiting for other people to recognize and appreciate you\\nStructural features 9: 3, 0, 0, 0, 0.\\nargument 10: Take the most popular and prestigious technology company- Apple- for example\\nStructural features 10: 3, 0, 0, 0, 0.\\nargument 11: The reason why it gains such a tremendous success is because it achieves some brilliant qualities that can never be caught up by other competitors\\nStructural features 11: 3, 0, 0, 0, 0.\\nargument 12: It has its operating systems that can run smoother than any other companies and its design always wins the popularity among consumers\\nStructural features 12: 3, 0, 0, 0, 0.\\nargument 13: It is the uniqueness of Apple design that creates its own value\\nStructural features 13: 3, 0, 0, 0, 1.\\nargument 14: being different and unique is the better way to achieve success\\nStructural features 14: 4, 0, 1, 1, 0.\\nargument 15: It not only shows your competence but also creates your own value, making you take the lead in your way towards success\\nStructural features 15: 4, 0, 1, 0, 1.\\n\\nYou must return the list of classes of the sucessive argument components given in point B in format [<class of argument 1>,...,<class of argument n>]. The list must be of lenght n, where n is the number of components. The 3 possible classes are major claim, claim or premise.\\n\"}, {'role': 'assistant', 'content': \"['major claim', 'premise', 'premise', 'premise', 'claim', 'premise', 'premise', 'claim', 'premise', 'premise', 'premise', 'premise', 'premise', 'major claim', 'claim']\"}]}\n",
      "\n"
     ]
    }
   ],
   "source": [
    "for i in range(3):\n",
    "    \n",
    "    print(data_file_val[i])\n",
    "    print()"
   ]
  },
  {
   "cell_type": "markdown",
   "id": "2d704569-fbb9-4fdd-bc3a-4baf4acbbb38",
   "metadata": {},
   "source": [
    "### Test set"
   ]
  },
  {
   "cell_type": "code",
   "execution_count": 31,
   "id": "a5b4ba42-30cb-4ea2-b2de-a9f12d4eeb9f",
   "metadata": {},
   "outputs": [],
   "source": [
    "data_file_test = []\n",
    "\n",
    "for essay_file in test_essays_l:\n",
    "    \n",
    "    essay_sub_df = df[df.essay_file==essay_file]\n",
    "    essay_text = essay_sub_df.iloc[0].essay_text\n",
    "    argument_components = list(essay_sub_df.argument_component.values)\n",
    "    argument_labels = list(essay_sub_df.label.values)\n",
    "    structural_fts = essay_sub_df[[\"paragraph_nr\",\n",
    "                               \"is_component_in_intro_paragraph\",\n",
    "                               \"is_component_in_conclusion_paragraph\", \n",
    "                               \"is_component_first_in_paragraph\", \n",
    "                               \"is_component_last_in_paragraph\"]].to_dict(orient=\"list\")\n",
    "    question = build_question(essay_text, argument_components, structural_fts)\n",
    "    answer = build_answer(argument_labels)\n",
    "    \n",
    "    data_file_test.append( formatting_fct(my_task_description, question, answer, mode=\"test\") )"
   ]
  },
  {
   "cell_type": "code",
   "execution_count": 32,
   "id": "0edc2c43-0f6f-42a6-b73b-1643150b451b",
   "metadata": {},
   "outputs": [
    {
     "data": {
      "text/plain": [
       "80"
      ]
     },
     "execution_count": 32,
     "metadata": {},
     "output_type": "execute_result"
    }
   ],
   "source": [
    "len(data_file_test)"
   ]
  },
  {
   "cell_type": "code",
   "execution_count": 33,
   "id": "63843ae8-4157-47da-8ae1-4113ca764535",
   "metadata": {},
   "outputs": [
    {
     "name": "stdout",
     "output_type": "stream",
     "text": [
      "{'messages': [{'role': 'system', 'content': '### Your task is to classify an ordered list of argument components from an essay into three possible classes: major claim, claim, or premise. For this purpose, we give you the following information in order:\\nA. The essay in which the argument components appear\\nB. The ordered list of argument components, where each component is followed by 5 structural features: paragraph number of the component, is the component in the introduction (1=yes/0=no), is the component in the conclusion (1=yes/0=no), is the component first in its paragraph (1=yes/0=no), is the component last in its paragraph (1=yes/0=no).\\n'}, {'role': 'user', 'content': \"### Here is the information about the argument components:\\nA. Essay:\\nThe precondition of doing research by professors\\n\\nNowadays, many professors conduct research while teaching in colleges or universities. Although research could bring funding and latest achievements in the field, the research takes up too much teaching time. As far as I am concerned, professors should spend more time on preparing courses than research.\\nTo begin with, it is vital that professors should assist students to acquire knowledge. The professors' duty is to nurture students, and prepare excellent courses. If professors spend a lot of time on research, he will cut the time on preparing courses is reduced, which may decrease the quality of classes. The reason why people enter a university is that they want to learn cutting-edged technologies. In this way, professors should provide well-preparation courses to convey the state-of-art knowledge for college and university students. Therefore, professors should pay more attention on how to teach students rather than conduct research.\\nOn the other hand, if professors are busy in doing research, ignoring preparing appropriate courses for students, it would ruin the reputation of universities. Students are unsatisfied with the unprepared course, and the enrollment of universities may decline. Many students would not choose these kinds of universities to study. In this way, hardly can professors find assistants to help with projects. It is adverse to the whole academic field. Accordingly, spending more time to nurture excellent students is more consequential to professors, rather than research.\\nNevertheless, professors could teach students through research and projects. Some students enjoy taking part in some research. Through to use the equipment and invent their own work, they may get more experience in the process of research. For instance, electronic students always invent new machines such as robots, MP3 and remote control car. They can manage the electric theory in practical skills. And some students will be rewarded by investing new inventions. However, only under specific circumstance, when students master all of the systematic knowledge, can they accomplish research. This is requires professors provide high quality courses. In other word, professor should concern about preparing class.\\nConsequently, conducting research is helpful for professors and students to some extent. However, the precondition of doing research is growing students' solid theory fundamental. Only by developing students, can we have a better academic field. Professors could combine doing research and preparing good courses in a dynamic way.\\n\\nB. Ordered list of argument components:\\nargument 1: research could bring funding and latest achievements in the field\\nStructural features 1: 1, 1, 0, 1, 0.\\nargument 2: the research takes up too much teaching time\\nStructural features 2: 1, 1, 0, 0, 0.\\nargument 3: professors should spend more time on preparing courses than research\\nStructural features 3: 1, 1, 0, 0, 1.\\nargument 4: professors should assist students to acquire knowledge\\nStructural features 4: 2, 0, 0, 1, 0.\\nargument 5: The professors' duty is to nurture students, and prepare excellent courses\\nStructural features 5: 2, 0, 0, 0, 0.\\nargument 6: If professors spend a lot of time on research, he will cut the time on preparing courses is reduced, which may decrease the quality of classes\\nStructural features 6: 2, 0, 0, 0, 0.\\nargument 7: The reason why people enter a university is that they want to learn cutting-edged technologies\\nStructural features 7: 2, 0, 0, 0, 0.\\nargument 8: professors should provide well-preparation courses to convey the state-of-art knowledge for college and university students\\nStructural features 8: 2, 0, 0, 0, 0.\\nargument 9: professors should pay more attention on how to teach students rather than conduct research\\nStructural features 9: 2, 0, 0, 0, 1.\\nargument 10: if professors are busy in doing research, ignoring preparing appropriate courses for students, it would ruin the reputation of universities\\nStructural features 10: 3, 0, 0, 1, 0.\\nargument 11: Students are unsatisfied with the unprepared course, and the enrollment of universities may decline\\nStructural features 11: 3, 0, 0, 0, 0.\\nargument 12: Many students would not choose these kinds of universities to study\\nStructural features 12: 3, 0, 0, 0, 0.\\nargument 13: hardly can professors find assistants to help with projects\\nStructural features 13: 3, 0, 0, 0, 0.\\nargument 14: It is adverse to the whole academic field\\nStructural features 14: 3, 0, 0, 0, 0.\\nargument 15: spending more time to nurture excellent students is more consequential to professors, rather than research\\nStructural features 15: 3, 0, 0, 0, 1.\\nargument 16: professors could teach students through research and projects\\nStructural features 16: 4, 0, 0, 1, 0.\\nargument 17: Some students enjoy taking part in some research\\nStructural features 17: 4, 0, 0, 0, 0.\\nargument 18: Through to use the equipment and invent their own work, they may get more experience in the process of research\\nStructural features 18: 4, 0, 0, 0, 0.\\nargument 19: electronic students always invent new machines such as robots, MP3 and remote control car\\nStructural features 19: 4, 0, 0, 0, 0.\\nargument 20: They can manage the electric theory in practical skills\\nStructural features 20: 4, 0, 0, 0, 0.\\nargument 21: And some students will be rewarded by investing new inventions\\nStructural features 21: 4, 0, 0, 0, 0.\\nargument 22: only under specific circumstance, when students master all of the systematic knowledge, can they accomplish research\\nStructural features 22: 4, 0, 0, 0, 0.\\nargument 23: This is requires professors provide high quality courses\\nStructural features 23: 4, 0, 0, 0, 0.\\nargument 24: professor should concern about preparing class\\nStructural features 24: 4, 0, 0, 0, 1.\\nargument 25: conducting research is helpful for professors and students to some extent\\nStructural features 25: 5, 0, 1, 1, 0.\\nargument 26: the precondition of doing research is growing students' solid theory fundamental\\nStructural features 26: 5, 0, 1, 0, 0.\\nargument 27: Only by developing students, can we have a better academic field\\nStructural features 27: 5, 0, 1, 0, 0.\\nargument 28: Professors could combine doing research and preparing good courses in a dynamic way\\nStructural features 28: 5, 0, 1, 0, 1.\\n\\nYou must return the list of classes of the sucessive argument components given in point B in format [<class of argument 1>,...,<class of argument n>]. The list must be of lenght n, where n is the number of components. The 3 possible classes are major claim, claim or premise.\\n\"}, {'role': 'assistant', 'content': ''}]}\n",
      "\n",
      "{'messages': [{'role': 'system', 'content': '### Your task is to classify an ordered list of argument components from an essay into three possible classes: major claim, claim, or premise. For this purpose, we give you the following information in order:\\nA. The essay in which the argument components appear\\nB. The ordered list of argument components, where each component is followed by 5 structural features: paragraph number of the component, is the component in the introduction (1=yes/0=no), is the component in the conclusion (1=yes/0=no), is the component first in its paragraph (1=yes/0=no), is the component last in its paragraph (1=yes/0=no).\\n'}, {'role': 'user', 'content': \"### Here is the information about the argument components:\\nA. Essay:\\nLiving with a roommate is better than Living alone\\n\\nMany single people have difficulties deciding whether to live with a roommate or to live alone. Each makes different decisions. Some people choose to live alone for privacy, while others choose to live with a roommate for practical reasons. As far as I am concerned, I prefer to live with a roommate. This is because it saves me money, enables me to socialize, and allows me to get help.\\nLiving with a roommate saves me a lot of money. If you have roommates, you can split the rent and utilities among them. This means you can get more for less. For example, last year, I shared a room off-campus with my friend, and we decided to split the rent and heating bills into half: I was able to save about fifty dollars for heating, and two hundred dollars for rent monthly. I was able to save a lot of money by sharing wasted heating and rooms with my friend and splitting the bills.\\nApart from saving a lot of money, living with a roommate also enables me to socialize more easily. It is always easier to socialize when you have a lot of people around you. You can invite your roommates' friends over to your room and have fun together. For instance, one night, my roommate, Millan, brought his friends along. Even though his friends and I were total strangers to each other, we quickly got to know each other. We soon found out that everyone loved playing video games. We played a video game called 'Halo' together all night, and became good friends. Living with a roommate made socializing much easier for me.\\nFinally, living with a roommate allows me to get help. It often is the case that your roommates have the skills or knowledge you need. When you run into a problem, you can ask your roommates if they can help. Some of them may have something to offer. To illustrate, when my computer mysteriously broke down, I dialed up the manufacturer and asked for help. They failed to give me any useful solutions. To my surprise, one of my roommates noticed my problems and offered to help. He was very good with computers, and he managed to fix the problem quickly.\\nIn conclusion, while many people decide to live alone for various reasons, I prefer to live with a roommate, and I always will. This is because it offers me many advantages, such as less spending, more socializing, and more help. I think single people should live with a roommate, if they want to enjoy their lives.\\n\\nB. Ordered list of argument components:\\nargument 1: I prefer to live with a roommate\\nStructural features 1: 1, 1, 0, 1, 0.\\nargument 2: it saves me money, enables me to socialize, and allows me to get help\\nStructural features 2: 1, 1, 0, 0, 1.\\nargument 3: Living with a roommate saves me a lot of money\\nStructural features 3: 2, 0, 0, 1, 0.\\nargument 4: If you have roommates, you can split the rent and utilities among them\\nStructural features 4: 2, 0, 0, 0, 0.\\nargument 5: you can get more for less\\nStructural features 5: 2, 0, 0, 0, 0.\\nargument 6: last year, I shared a room off-campus with my friend, and we decided to split the rent and heating bills into half: I was able to save about fifty dollars for heating, and two hundred dollars for rent monthly\\nStructural features 6: 2, 0, 0, 0, 0.\\nargument 7: I was able to save a lot of money by sharing wasted heating and rooms with my friend and splitting the bills\\nStructural features 7: 2, 0, 0, 0, 1.\\nargument 8: living with a roommate also enables me to socialize more easily\\nStructural features 8: 3, 0, 0, 1, 0.\\nargument 9: It is always easier to socialize when you have a lot of people around you\\nStructural features 9: 3, 0, 0, 0, 0.\\nargument 10: You can invite your roommates' friends over to your room and have fun together\\nStructural features 10: 3, 0, 0, 0, 0.\\nargument 11: one night, my roommate, Millan, brought his friends along\\nStructural features 11: 3, 0, 0, 0, 0.\\nargument 12: Even though his friends and I were total strangers to each other, we quickly got to know each other\\nStructural features 12: 3, 0, 0, 0, 0.\\nargument 13: We soon found out that everyone loved playing video games\\nStructural features 13: 3, 0, 0, 0, 0.\\nargument 14: We played a video game called 'Halo' together all night, and became good friends\\nStructural features 14: 3, 0, 0, 0, 0.\\nargument 15: Living with a roommate made socializing much easier for me\\nStructural features 15: 3, 0, 0, 0, 1.\\nargument 16: living with a roommate allows me to get help\\nStructural features 16: 4, 0, 0, 1, 0.\\nargument 17: It often is the case that your roommates have the skills or knowledge you need\\nStructural features 17: 4, 0, 0, 0, 0.\\nargument 18: When you run into a problem, you can ask your roommates if they can help\\nStructural features 18: 4, 0, 0, 0, 0.\\nargument 19: Some of them may have something to offer\\nStructural features 19: 4, 0, 0, 0, 0.\\nargument 20: when my computer mysteriously broke down, I dialed up the manufacturer and asked for help\\nStructural features 20: 4, 0, 0, 0, 0.\\nargument 21: They failed to give me any useful solutions\\nStructural features 21: 4, 0, 0, 0, 0.\\nargument 22: To my surprise, one of my roommates noticed my problems and offered to help\\nStructural features 22: 4, 0, 0, 0, 0.\\nargument 23: He was very good with computers, and he managed to fix the problem quickly\\nStructural features 23: 4, 0, 0, 0, 1.\\nargument 24: many people decide to live alone for various reasons\\nStructural features 24: 5, 0, 1, 1, 0.\\nargument 25: I prefer to live with a roommate, and I always will\\nStructural features 25: 5, 0, 1, 0, 0.\\nargument 26: it offers me many advantages, such as less spending, more socializing, and more help\\nStructural features 26: 5, 0, 1, 0, 1.\\n\\nYou must return the list of classes of the sucessive argument components given in point B in format [<class of argument 1>,...,<class of argument n>]. The list must be of lenght n, where n is the number of components. The 3 possible classes are major claim, claim or premise.\\n\"}, {'role': 'assistant', 'content': ''}]}\n",
      "\n",
      "{'messages': [{'role': 'system', 'content': '### Your task is to classify an ordered list of argument components from an essay into three possible classes: major claim, claim, or premise. For this purpose, we give you the following information in order:\\nA. The essay in which the argument components appear\\nB. The ordered list of argument components, where each component is followed by 5 structural features: paragraph number of the component, is the component in the introduction (1=yes/0=no), is the component in the conclusion (1=yes/0=no), is the component first in its paragraph (1=yes/0=no), is the component last in its paragraph (1=yes/0=no).\\n'}, {'role': 'user', 'content': \"### Here is the information about the argument components:\\nA. Essay:\\nGetting opinions from many sources could augment people's performance.\\n\\nGetting opinions from many sources could augment people's performance. Thereby, evaluating from students is one of the ways to improve quality of educational system. Not only teachers could amplify their performance but the whole education system are also improve performance from evaluation made by students. Therefore, I agree with this notion that students should be asked to evaluate their teachers.\\nTo begin with, Evaluating teachers made by students could improve teachers' performance. For example, evaluation made by students is similar to feedback from customer that business owners need to know in order to improve their product. Students might complain about their teachers spoke too fast that students could not catch up on information. Consequently, teachers could improve themselves by speaking slower to make sure that students could get all information that they want to give. Therefore, evaluating from students could improve teachers' performance.\\nAdditionally, this evaluation from students could improve schools' quality. Teachers could augment their quality. Consequently, When school gather teachers that have great performance, school are gaining higher quality. For instance, in many cooperation such as Microsoft that could produce many great products because they have employees whose performance are very high. Schools could produce intellectual students because school have teachers who are always improve their quality from evaluation made by students.\\nFinally, people who get the most advantage from evaluation is students. Students could study in class that have teachers who have experienced and greater performance. Because teachers are always adapt the way they teach in order to make students easy to understand their subjects, students could comprehend their subject easily. As a result, students, who study from great schools which have great performance teacher, graduate with great knowledge to survive in next steps of life.\\nIn conclusion, I agree with this statement that school should ask students to evaluate their teachers because teachers could improve their performance. Moreover, schools are also improve their quality because they have high performance teachers. Furthermore, students are easy to understand their subjects. Thus, I believe that there are benefits to ask students to evaluate their teachers.\\n\\nB. Ordered list of argument components:\\nargument 1: students should be asked to evaluate their teachers\\nStructural features 1: 1, 1, 0, 1, 1.\\nargument 2: Evaluating teachers made by students could improve teachers' performance\\nStructural features 2: 2, 0, 0, 1, 0.\\nargument 3: evaluation made by students is similar to feedback from customer that business owners need to know in order to improve their product\\nStructural features 3: 2, 0, 0, 0, 0.\\nargument 4: Students might complain about their teachers spoke too fast that students could not catch up on information\\nStructural features 4: 2, 0, 0, 0, 0.\\nargument 5: teachers could improve themselves by speaking slower to make sure that students could get all information that they want to give\\nStructural features 5: 2, 0, 0, 0, 0.\\nargument 6: evaluating from students could improve teachers' performance\\nStructural features 6: 2, 0, 0, 0, 1.\\nargument 7: this evaluation from students could improve schools' quality\\nStructural features 7: 3, 0, 0, 1, 0.\\nargument 8: Teachers could augment their quality\\nStructural features 8: 3, 0, 0, 0, 0.\\nargument 9: When school gather teachers that have great performance, school are gaining higher quality\\nStructural features 9: 3, 0, 0, 0, 0.\\nargument 10: in many cooperation such as Microsoft that could produce many great products\\nStructural features 10: 3, 0, 0, 0, 0.\\nargument 11: they have employees whose performance are very high\\nStructural features 11: 3, 0, 0, 0, 0.\\nargument 12: Schools could produce intellectual students\\nStructural features 12: 3, 0, 0, 0, 0.\\nargument 13: school have teachers who are always improve their quality from evaluation made by students\\nStructural features 13: 3, 0, 0, 0, 1.\\nargument 14: people who get the most advantage from evaluation is students\\nStructural features 14: 4, 0, 0, 1, 0.\\nargument 15: Students could study in class that have teachers who have experienced and greater performance\\nStructural features 15: 4, 0, 0, 0, 0.\\nargument 16: teachers are always adapt the way they teach in order to make students easy to understand their subjects\\nStructural features 16: 4, 0, 0, 0, 0.\\nargument 17: students could comprehend their subject easily\\nStructural features 17: 4, 0, 0, 0, 0.\\nargument 18: students, who study from great schools which have great performance teacher, graduate with great knowledge to survive in next steps of life\\nStructural features 18: 4, 0, 0, 0, 1.\\nargument 19: school should ask students to evaluate their teachers\\nStructural features 19: 5, 0, 1, 1, 0.\\nargument 20: teachers could improve their performance\\nStructural features 20: 5, 0, 1, 0, 0.\\nargument 21: schools are also improve their quality\\nStructural features 21: 5, 0, 1, 0, 0.\\nargument 22: they have high performance teachers\\nStructural features 22: 5, 0, 1, 0, 0.\\nargument 23: students are easy to understand their subjects\\nStructural features 23: 5, 0, 1, 0, 0.\\nargument 24: there are benefits to ask students to evaluate their teachers\\nStructural features 24: 5, 0, 1, 0, 1.\\n\\nYou must return the list of classes of the sucessive argument components given in point B in format [<class of argument 1>,...,<class of argument n>]. The list must be of lenght n, where n is the number of components. The 3 possible classes are major claim, claim or premise.\\n\"}, {'role': 'assistant', 'content': ''}]}\n",
      "\n"
     ]
    }
   ],
   "source": [
    "for i in range(3):\n",
    "    \n",
    "    print(data_file_test[i])\n",
    "    print()"
   ]
  },
  {
   "cell_type": "markdown",
   "id": "13a8dad5-0a92-4460-a027-64e9d6ffba6a",
   "metadata": {},
   "source": [
    "## Save `jsonl` files"
   ]
  },
  {
   "cell_type": "code",
   "execution_count": 34,
   "id": "b353533d-cc7a-4582-93c8-a1647b5fcb95",
   "metadata": {},
   "outputs": [],
   "source": [
    "file_name = \"data_train_v4.jsonl\"\n",
    "\n",
    "with open(os.path.join(data_dir, file_name), 'w') as fh:\n",
    "    \n",
    "    for entry in data_file_train:\n",
    "        \n",
    "        json.dump(entry, fh)\n",
    "        fh.write('\\n')"
   ]
  },
  {
   "cell_type": "code",
   "execution_count": 35,
   "id": "5e1fc48e-882d-4123-ba65-9edcd7101868",
   "metadata": {},
   "outputs": [],
   "source": [
    "file_name = \"data_val_v4.jsonl\"\n",
    "\n",
    "with open(os.path.join(data_dir, file_name), 'w') as fh:\n",
    "    \n",
    "    for entry in data_file_val:\n",
    "        \n",
    "        json.dump(entry, fh)\n",
    "        fh.write('\\n')"
   ]
  },
  {
   "cell_type": "code",
   "execution_count": 36,
   "id": "9b30305e-307d-4c3a-be3c-9c984bfdf788",
   "metadata": {},
   "outputs": [],
   "source": [
    "file_name = \"data_test_v4.jsonl\"\n",
    "\n",
    "with open(os.path.join(data_dir, file_name), 'w') as fh:\n",
    "    \n",
    "    for entry in data_file_test:\n",
    "        \n",
    "        json.dump(entry, fh)\n",
    "        fh.write('\\n')"
   ]
  },
  {
   "cell_type": "code",
   "execution_count": null,
   "id": "fe2795f0-baec-43dc-a2fa-9bee8c1953d2",
   "metadata": {},
   "outputs": [],
   "source": []
  }
 ],
 "metadata": {
  "kernelspec": {
   "display_name": "base",
   "language": "python",
   "name": "base"
  },
  "language_info": {
   "codemirror_mode": {
    "name": "ipython",
    "version": 3
   },
   "file_extension": ".py",
   "mimetype": "text/x-python",
   "name": "python",
   "nbconvert_exporter": "python",
   "pygments_lexer": "ipython3",
   "version": "3.9.5"
  }
 },
 "nbformat": 4,
 "nbformat_minor": 5
}
