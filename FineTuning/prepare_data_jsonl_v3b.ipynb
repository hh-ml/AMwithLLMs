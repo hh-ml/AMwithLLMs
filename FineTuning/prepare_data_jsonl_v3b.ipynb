{
 "cells": [
  {
   "cell_type": "markdown",
   "id": "9b092f16-851d-4a47-ae4f-2a85603d6c77",
   "metadata": {},
   "source": [
    "# Prepare dataset (jsonl file)\n",
    "\n",
    "Datasets with **features as text** for **all-in-one predictions**"
   ]
  },
  {
   "cell_type": "markdown",
   "id": "047b22ba-a6e8-4ed1-8a3c-e98095ed7c06",
   "metadata": {},
   "source": [
    "https://jsonlines.org/"
   ]
  },
  {
   "cell_type": "markdown",
   "id": "afdfbf4b-663f-41af-85a1-266a48239c9e",
   "metadata": {},
   "source": [
    "## Libraries"
   ]
  },
  {
   "cell_type": "code",
   "execution_count": 1,
   "id": "872238e4-5235-4176-bd84-4cc384bca8d4",
   "metadata": {},
   "outputs": [],
   "source": [
    "import os\n",
    "import json\n",
    "import pandas as pd\n",
    "import random"
   ]
  },
  {
   "cell_type": "markdown",
   "id": "7af75678-bbcc-4cfa-9b81-c9a66d170182",
   "metadata": {},
   "source": [
    "## Load csv file"
   ]
  },
  {
   "cell_type": "code",
   "execution_count": 2,
   "id": "0da5ee17-0803-41cc-91c9-1cec32f672d4",
   "metadata": {},
   "outputs": [],
   "source": [
    "data_dir = os.path.join(os.getcwd(), \"data\")"
   ]
  },
  {
   "cell_type": "code",
   "execution_count": 3,
   "id": "54f71f0d-b9eb-499d-b9a4-fd010bc6d874",
   "metadata": {},
   "outputs": [],
   "source": [
    "df = pd.read_csv(os.path.join(data_dir, \"persuasive_essays_dataset.csv\"), index_col=0)"
   ]
  },
  {
   "cell_type": "code",
   "execution_count": 4,
   "id": "7931292a-fd5c-4f8e-a9e8-24b5f5a16d4b",
   "metadata": {},
   "outputs": [],
   "source": [
    "# df.isna().sum()"
   ]
  },
  {
   "cell_type": "code",
   "execution_count": 5,
   "id": "6718a38d-9608-475c-9584-0976b928ea30",
   "metadata": {},
   "outputs": [
    {
     "data": {
      "text/html": [
       "<div>\n",
       "<style scoped>\n",
       "    .dataframe tbody tr th:only-of-type {\n",
       "        vertical-align: middle;\n",
       "    }\n",
       "\n",
       "    .dataframe tbody tr th {\n",
       "        vertical-align: top;\n",
       "    }\n",
       "\n",
       "    .dataframe thead th {\n",
       "        text-align: right;\n",
       "    }\n",
       "</style>\n",
       "<table border=\"1\" class=\"dataframe\">\n",
       "  <thead>\n",
       "    <tr style=\"text-align: right;\">\n",
       "      <th></th>\n",
       "      <th>tag</th>\n",
       "      <th>label</th>\n",
       "      <th>start</th>\n",
       "      <th>end</th>\n",
       "      <th>argument_component</th>\n",
       "      <th>essay_file</th>\n",
       "      <th>essay_title</th>\n",
       "      <th>essay_text</th>\n",
       "      <th>sentence</th>\n",
       "      <th>nr_essay_paragraphs</th>\n",
       "      <th>paragraph_nr</th>\n",
       "      <th>paragraph</th>\n",
       "      <th>is_component_in_intro_paragraph</th>\n",
       "      <th>is_component_in_conclusion_paragraph</th>\n",
       "      <th>is_component_first_in_paragraph</th>\n",
       "      <th>is_component_last_in_paragraph</th>\n",
       "      <th>split</th>\n",
       "      <th>structral_featxt</th>\n",
       "      <th>argument_counter</th>\n",
       "    </tr>\n",
       "  </thead>\n",
       "  <tbody>\n",
       "    <tr>\n",
       "      <th>0</th>\n",
       "      <td>T1</td>\n",
       "      <td>MajorClaim</td>\n",
       "      <td>503</td>\n",
       "      <td>575</td>\n",
       "      <td>we should attach more importance to cooperatio...</td>\n",
       "      <td>essay001.txt</td>\n",
       "      <td>Should students be taught to compete or to coo...</td>\n",
       "      <td>Should students be taught to compete or to coo...</td>\n",
       "      <td>From this point of view, I firmly believe that...</td>\n",
       "      <td>4</td>\n",
       "      <td>1</td>\n",
       "      <td>It is always said that competition can effecti...</td>\n",
       "      <td>1</td>\n",
       "      <td>0</td>\n",
       "      <td>1</td>\n",
       "      <td>1</td>\n",
       "      <td>TRAIN</td>\n",
       "      <td>Topic: Should students be taught to compete or...</td>\n",
       "      <td>1</td>\n",
       "    </tr>\n",
       "    <tr>\n",
       "      <th>1</th>\n",
       "      <td>T3</td>\n",
       "      <td>Claim</td>\n",
       "      <td>591</td>\n",
       "      <td>714</td>\n",
       "      <td>through cooperation, children can learn about ...</td>\n",
       "      <td>essay001.txt</td>\n",
       "      <td>Should students be taught to compete or to coo...</td>\n",
       "      <td>Should students be taught to compete or to coo...</td>\n",
       "      <td>First of all, through cooperation, children ca...</td>\n",
       "      <td>4</td>\n",
       "      <td>2</td>\n",
       "      <td>First of all, through cooperation, children ca...</td>\n",
       "      <td>0</td>\n",
       "      <td>0</td>\n",
       "      <td>1</td>\n",
       "      <td>0</td>\n",
       "      <td>TRAIN</td>\n",
       "      <td>Topic: Should students be taught to compete or...</td>\n",
       "      <td>2</td>\n",
       "    </tr>\n",
       "    <tr>\n",
       "      <th>2</th>\n",
       "      <td>T4</td>\n",
       "      <td>Premise</td>\n",
       "      <td>716</td>\n",
       "      <td>851</td>\n",
       "      <td>What we acquired from team work is not only ho...</td>\n",
       "      <td>essay001.txt</td>\n",
       "      <td>Should students be taught to compete or to coo...</td>\n",
       "      <td>Should students be taught to compete or to coo...</td>\n",
       "      <td>What we acquired from team work is not only ho...</td>\n",
       "      <td>4</td>\n",
       "      <td>2</td>\n",
       "      <td>First of all, through cooperation, children ca...</td>\n",
       "      <td>0</td>\n",
       "      <td>0</td>\n",
       "      <td>0</td>\n",
       "      <td>0</td>\n",
       "      <td>TRAIN</td>\n",
       "      <td>Topic: Should students be taught to compete or...</td>\n",
       "      <td>3</td>\n",
       "    </tr>\n",
       "    <tr>\n",
       "      <th>3</th>\n",
       "      <td>T5</td>\n",
       "      <td>Premise</td>\n",
       "      <td>853</td>\n",
       "      <td>1086</td>\n",
       "      <td>During the process of cooperation, children ca...</td>\n",
       "      <td>essay001.txt</td>\n",
       "      <td>Should students be taught to compete or to coo...</td>\n",
       "      <td>Should students be taught to compete or to coo...</td>\n",
       "      <td>During the process of cooperation, children ca...</td>\n",
       "      <td>4</td>\n",
       "      <td>2</td>\n",
       "      <td>First of all, through cooperation, children ca...</td>\n",
       "      <td>0</td>\n",
       "      <td>0</td>\n",
       "      <td>0</td>\n",
       "      <td>0</td>\n",
       "      <td>TRAIN</td>\n",
       "      <td>Topic: Should students be taught to compete or...</td>\n",
       "      <td>4</td>\n",
       "    </tr>\n",
       "    <tr>\n",
       "      <th>4</th>\n",
       "      <td>T6</td>\n",
       "      <td>Premise</td>\n",
       "      <td>1088</td>\n",
       "      <td>1191</td>\n",
       "      <td>All of these skills help them to get on well w...</td>\n",
       "      <td>essay001.txt</td>\n",
       "      <td>Should students be taught to compete or to coo...</td>\n",
       "      <td>Should students be taught to compete or to coo...</td>\n",
       "      <td>All of these skills help them to get on well w...</td>\n",
       "      <td>4</td>\n",
       "      <td>2</td>\n",
       "      <td>First of all, through cooperation, children ca...</td>\n",
       "      <td>0</td>\n",
       "      <td>0</td>\n",
       "      <td>0</td>\n",
       "      <td>1</td>\n",
       "      <td>TRAIN</td>\n",
       "      <td>Topic: Should students be taught to compete or...</td>\n",
       "      <td>5</td>\n",
       "    </tr>\n",
       "  </tbody>\n",
       "</table>\n",
       "</div>"
      ],
      "text/plain": [
       "  tag       label  start   end  \\\n",
       "0  T1  MajorClaim    503   575   \n",
       "1  T3       Claim    591   714   \n",
       "2  T4     Premise    716   851   \n",
       "3  T5     Premise    853  1086   \n",
       "4  T6     Premise   1088  1191   \n",
       "\n",
       "                                  argument_component    essay_file  \\\n",
       "0  we should attach more importance to cooperatio...  essay001.txt   \n",
       "1  through cooperation, children can learn about ...  essay001.txt   \n",
       "2  What we acquired from team work is not only ho...  essay001.txt   \n",
       "3  During the process of cooperation, children ca...  essay001.txt   \n",
       "4  All of these skills help them to get on well w...  essay001.txt   \n",
       "\n",
       "                                         essay_title  \\\n",
       "0  Should students be taught to compete or to coo...   \n",
       "1  Should students be taught to compete or to coo...   \n",
       "2  Should students be taught to compete or to coo...   \n",
       "3  Should students be taught to compete or to coo...   \n",
       "4  Should students be taught to compete or to coo...   \n",
       "\n",
       "                                          essay_text  \\\n",
       "0  Should students be taught to compete or to coo...   \n",
       "1  Should students be taught to compete or to coo...   \n",
       "2  Should students be taught to compete or to coo...   \n",
       "3  Should students be taught to compete or to coo...   \n",
       "4  Should students be taught to compete or to coo...   \n",
       "\n",
       "                                            sentence  nr_essay_paragraphs  \\\n",
       "0  From this point of view, I firmly believe that...                    4   \n",
       "1  First of all, through cooperation, children ca...                    4   \n",
       "2  What we acquired from team work is not only ho...                    4   \n",
       "3  During the process of cooperation, children ca...                    4   \n",
       "4  All of these skills help them to get on well w...                    4   \n",
       "\n",
       "   paragraph_nr                                          paragraph  \\\n",
       "0             1  It is always said that competition can effecti...   \n",
       "1             2  First of all, through cooperation, children ca...   \n",
       "2             2  First of all, through cooperation, children ca...   \n",
       "3             2  First of all, through cooperation, children ca...   \n",
       "4             2  First of all, through cooperation, children ca...   \n",
       "\n",
       "   is_component_in_intro_paragraph  is_component_in_conclusion_paragraph  \\\n",
       "0                                1                                     0   \n",
       "1                                0                                     0   \n",
       "2                                0                                     0   \n",
       "3                                0                                     0   \n",
       "4                                0                                     0   \n",
       "\n",
       "   is_component_first_in_paragraph  is_component_last_in_paragraph  split  \\\n",
       "0                                1                               1  TRAIN   \n",
       "1                                1                               0  TRAIN   \n",
       "2                                0                               0  TRAIN   \n",
       "3                                0                               0  TRAIN   \n",
       "4                                0                               1  TRAIN   \n",
       "\n",
       "                                    structral_featxt  argument_counter  \n",
       "0  Topic: Should students be taught to compete or...                 1  \n",
       "1  Topic: Should students be taught to compete or...                 2  \n",
       "2  Topic: Should students be taught to compete or...                 3  \n",
       "3  Topic: Should students be taught to compete or...                 4  \n",
       "4  Topic: Should students be taught to compete or...                 5  "
      ]
     },
     "execution_count": 5,
     "metadata": {},
     "output_type": "execute_result"
    }
   ],
   "source": [
    "df.head()"
   ]
  },
  {
   "cell_type": "code",
   "execution_count": 6,
   "id": "fdd9688b-e03a-40c9-9fac-e77ccc017b3c",
   "metadata": {},
   "outputs": [
    {
     "data": {
      "text/plain": [
       "6089"
      ]
     },
     "execution_count": 6,
     "metadata": {},
     "output_type": "execute_result"
    }
   ],
   "source": [
    "len(df)"
   ]
  },
  {
   "cell_type": "code",
   "execution_count": 7,
   "id": "3e06a175-4f49-4a4d-881c-95a6b1bda7b2",
   "metadata": {},
   "outputs": [
    {
     "data": {
      "text/plain": [
       "split\n",
       "TRAIN    4823\n",
       "TEST     1266\n",
       "Name: count, dtype: int64"
      ]
     },
     "execution_count": 7,
     "metadata": {},
     "output_type": "execute_result"
    }
   ],
   "source": [
    "df.split.value_counts()"
   ]
  },
  {
   "cell_type": "code",
   "execution_count": 8,
   "id": "da9e707d-901e-4f03-884e-cec8ce182640",
   "metadata": {},
   "outputs": [
    {
     "data": {
      "text/plain": [
       "322"
      ]
     },
     "execution_count": 8,
     "metadata": {},
     "output_type": "execute_result"
    }
   ],
   "source": [
    "train_essays_l = list(df[df.split==\"TRAIN\"].essay_file.value_counts().index)\n",
    "len(train_essays_l)"
   ]
  },
  {
   "cell_type": "code",
   "execution_count": 9,
   "id": "86135f26-11d3-4325-a2d8-74438092c681",
   "metadata": {},
   "outputs": [
    {
     "data": {
      "text/plain": [
       "32"
      ]
     },
     "execution_count": 9,
     "metadata": {},
     "output_type": "execute_result"
    }
   ],
   "source": [
    "# validation set: 10% of train set\n",
    "\n",
    "val_size = int(322 * 10/100)\n",
    "val_size"
   ]
  },
  {
   "cell_type": "code",
   "execution_count": 10,
   "id": "37c7355a-4bb7-4a75-a277-108f27c6a8de",
   "metadata": {},
   "outputs": [],
   "source": [
    "random.seed(42)\n",
    "val_essays_l = random.sample(train_essays_l, val_size)"
   ]
  },
  {
   "cell_type": "code",
   "execution_count": 11,
   "id": "e91177bd-2dc6-4019-ab83-2a4df2365823",
   "metadata": {},
   "outputs": [
    {
     "data": {
      "text/plain": [
       "32"
      ]
     },
     "execution_count": 11,
     "metadata": {},
     "output_type": "execute_result"
    }
   ],
   "source": [
    "len(val_essays_l)\n",
    "# val_essays_l"
   ]
  },
  {
   "cell_type": "code",
   "execution_count": 12,
   "id": "274e77db-4c4f-4a2e-a615-fc12fb5e991c",
   "metadata": {},
   "outputs": [
    {
     "data": {
      "text/plain": [
       "290"
      ]
     },
     "execution_count": 12,
     "metadata": {},
     "output_type": "execute_result"
    }
   ],
   "source": [
    "train_essays_l = list(set(train_essays_l) - set(val_essays_l))\n",
    "len(train_essays_l)"
   ]
  },
  {
   "cell_type": "code",
   "execution_count": 13,
   "id": "b0bb5aec",
   "metadata": {},
   "outputs": [
    {
     "data": {
      "text/plain": [
       "80"
      ]
     },
     "execution_count": 13,
     "metadata": {},
     "output_type": "execute_result"
    }
   ],
   "source": [
    "test_essays_l = list(df[df.split==\"TEST\"].essay_file.value_counts().index)\n",
    "len(test_essays_l)"
   ]
  },
  {
   "cell_type": "code",
   "execution_count": 14,
   "id": "ceb13653",
   "metadata": {},
   "outputs": [
    {
     "data": {
      "text/plain": [
       "['essay169.txt',\n",
       " 'essay154.txt',\n",
       " 'essay289.txt',\n",
       " 'essay243.txt',\n",
       " 'essay252.txt',\n",
       " 'essay310.txt',\n",
       " 'essay172.txt',\n",
       " 'essay221.txt',\n",
       " 'essay373.txt',\n",
       " 'essay149.txt',\n",
       " 'essay202.txt',\n",
       " 'essay061.txt',\n",
       " 'essay180.txt',\n",
       " 'essay331.txt',\n",
       " 'essay182.txt',\n",
       " 'essay220.txt',\n",
       " 'essay234.txt',\n",
       " 'essay204.txt',\n",
       " 'essay006.txt',\n",
       " 'essay278.txt',\n",
       " 'essay097.txt',\n",
       " 'essay126.txt',\n",
       " 'essay328.txt',\n",
       " 'essay021.txt',\n",
       " 'essay265.txt',\n",
       " 'essay212.txt',\n",
       " 'essay364.txt',\n",
       " 'essay142.txt',\n",
       " 'essay229.txt',\n",
       " 'essay301.txt',\n",
       " 'essay211.txt',\n",
       " 'essay245.txt',\n",
       " 'essay306.txt',\n",
       " 'essay322.txt',\n",
       " 'essay348.txt',\n",
       " 'essay359.txt',\n",
       " 'essay266.txt',\n",
       " 'essay398.txt',\n",
       " 'essay193.txt',\n",
       " 'essay163.txt',\n",
       " 'essay129.txt',\n",
       " 'essay104.txt',\n",
       " 'essay086.txt',\n",
       " 'essay117.txt',\n",
       " 'essay218.txt',\n",
       " 'essay187.txt',\n",
       " 'essay341.txt',\n",
       " 'essay255.txt',\n",
       " 'essay241.txt',\n",
       " 'essay091.txt',\n",
       " 'essay287.txt',\n",
       " 'essay316.txt',\n",
       " 'essay277.txt',\n",
       " 'essay052.txt',\n",
       " 'essay077.txt',\n",
       " 'essay072.txt',\n",
       " 'essay355.txt',\n",
       " 'essay199.txt',\n",
       " 'essay227.txt',\n",
       " 'essay139.txt',\n",
       " 'essay259.txt',\n",
       " 'essay393.txt',\n",
       " 'essay005.txt',\n",
       " 'essay352.txt',\n",
       " 'essay160.txt',\n",
       " 'essay108.txt',\n",
       " 'essay136.txt',\n",
       " 'essay192.txt',\n",
       " 'essay068.txt',\n",
       " 'essay098.txt',\n",
       " 'essay042.txt',\n",
       " 'essay004.txt',\n",
       " 'essay082.txt',\n",
       " 'essay240.txt',\n",
       " 'essay119.txt',\n",
       " 'essay382.txt',\n",
       " 'essay386.txt',\n",
       " 'essay071.txt',\n",
       " 'essay335.txt',\n",
       " 'essay103.txt']"
      ]
     },
     "execution_count": 14,
     "metadata": {},
     "output_type": "execute_result"
    }
   ],
   "source": [
    "test_essays_l"
   ]
  },
  {
   "cell_type": "markdown",
   "id": "63a578e2-63f5-4860-965c-ef5e659149a7",
   "metadata": {},
   "source": [
    "## Prepare prompt"
   ]
  },
  {
   "cell_type": "code",
   "execution_count": 15,
   "id": "f02ffd05-4249-4830-9752-5b96c2d48d27",
   "metadata": {},
   "outputs": [],
   "source": [
    "# Dataset in chat completion format\n",
    "\n",
    "def formatting_fct(task_description=\"\", question=\"\", answer=\"\", mode=\"train\"):\n",
    "    \n",
    "    prompt_d = {\"messages\": [\n",
    "        {\"role\": \"system\", \"content\": f\"{task_description}\"},\n",
    "        {\"role\": \"user\", \"content\": f\"{question}\"},\n",
    "        {\"role\": \"assistant\", \"content\": f\"{answer if mode=='train' else ''}\"}\n",
    "    ]\n",
    "             }\n",
    "    \n",
    "    return prompt_d"
   ]
  },
  {
   "cell_type": "code",
   "execution_count": 68,
   "id": "427b49a6-e02e-4bcc-a8c2-defbc87157d9",
   "metadata": {},
   "outputs": [],
   "source": [
    "my_task_description = \"\"\"### Your task is to classify an ordered list of argument components from an essay. Each argument component must be classified into one of the three possible classes: 'major claim', 'claim', or 'premise'. For this purpose, we give you the following information in order:\n",
    "A. The essay in which the argument components appear\n",
    "B. The ordered list of argument components\n",
    "\"\"\""
   ]
  },
  {
   "cell_type": "code",
   "execution_count": 69,
   "id": "9d3f085d-1921-4e57-adbd-dbfd8bd2d386",
   "metadata": {},
   "outputs": [
    {
     "name": "stdout",
     "output_type": "stream",
     "text": [
      "### Your task is to classify an ordered list of argument components from an essay. Each argument component must be classified into one of the three possible classes: 'major claim', 'claim', or 'premise'. For this purpose, we give you the following information in order:\n",
      "A. The essay in which the argument components appear\n",
      "B. The ordered list of argument components\n",
      "\n"
     ]
    }
   ],
   "source": [
    "print(my_task_description)"
   ]
  },
  {
   "cell_type": "code",
   "execution_count": 70,
   "id": "2d4526d5-1263-41d0-b96a-7d379c29c3c6",
   "metadata": {},
   "outputs": [],
   "source": [
    "def build_question(essay_text, argument_components):\n",
    "    \n",
    "    ac_l = \"\"\n",
    "    for i, x in enumerate(argument_components):\n",
    "        ac_l = ac_l + f\"\"\"argument {i+1}: {x}\\n\"\"\"\n",
    "    \n",
    "    question = f\"\"\"### Here is the information about the argument components:\n",
    "A. Essay:\\n{essay_text}\\n\n",
    "B. Ordered list of argument components:\\n{ac_l}\"\"\" + \"\"\"\n",
    "You must return a JSON with format {'Argument 1': <predicted class for Argument 1 (str)>, ..., 'Argument n': <predicted class for Argument n (str)>}. The 3 possible classes are: 'major claim', 'claim' or 'premise'.\n",
    "\"\"\"\n",
    "    return question"
   ]
  },
  {
   "cell_type": "code",
   "execution_count": 71,
   "id": "cc45a09b-43a4-4eaa-a35e-24c54de65f3b",
   "metadata": {},
   "outputs": [
    {
     "data": {
      "text/plain": [
       "Index(['tag', 'label', 'start', 'end', 'argument_component', 'essay_file',\n",
       "       'essay_title', 'essay_text', 'sentence', 'nr_essay_paragraphs',\n",
       "       'paragraph_nr', 'paragraph', 'is_component_in_intro_paragraph',\n",
       "       'is_component_in_conclusion_paragraph',\n",
       "       'is_component_first_in_paragraph', 'is_component_last_in_paragraph',\n",
       "       'split', 'structral_featxt', 'argument_counter'],\n",
       "      dtype='object')"
      ]
     },
     "execution_count": 71,
     "metadata": {},
     "output_type": "execute_result"
    }
   ],
   "source": [
    "df.columns"
   ]
  },
  {
   "cell_type": "code",
   "execution_count": 72,
   "id": "f95e7b2f-6436-4c52-aca2-80f4b6c9ed94",
   "metadata": {
    "scrolled": false
   },
   "outputs": [
    {
     "name": "stdout",
     "output_type": "stream",
     "text": [
      "### Here is the information about the argument components:\n",
      "A. Essay:\n",
      "Reading fictions is more pleasant\n",
      "\n",
      "There are many different opinions regarding hobbies. Some people would rather watch TV. However, in my view, reading fiction is more enjoyable than watching movies for the following reasons.\n",
      "Firstly, fiction books pay more attention to details. In fact, we can know characters, places, and times of a novel very well during reading it. Most of the novels describe not only main characters but also other people in the novels, where each scene is happening. For example, after I read animal farms which is a story of Russian revolution, I could understand the leaders and different segments of the Russian people. However, a movie just gives us a very small review of its stories and characters.\n",
      "Secondly, reading a novel is more convenient. Some novels have around 100 pages and readers cannot finish them in just one hour. Yet these people can continue to read their novels wherever they find free time such as in bus or trains. For example, I have started to read a novel since last week. I do not have enough time to read a novel in one day, so I usually read it when I am coming home from English class. In contrast, I cannot watch a complete movie because I can just sit in front of TV for 15 minutes and after that, I have to study.\n",
      "Some people might argue that people enjoy watching TV when they know they can learn many things such as learning a language by watching movies. This point has some merits on the surface; however, movies are not a good idea to learn a language for beginners since characters in movies speak very fast and unclear for language learners. For these learners it is better to start by reading some novels which are more comprehensible and enjoyable.\n",
      "To sum up, reading fictions is more pleasant because these books have more depth, are much easier to use, and more useful for language learners.\n",
      "\n",
      "B. Ordered list of argument components:\n",
      "argument 1: reading fiction is more enjoyable than watching movies\n",
      "argument 2: fiction books pay more attention to details\n",
      "argument 3: we can know characters, places, and times of a novel very well during reading it\n",
      "argument 4: Most of the novels describe not only main characters but also other people in the novels, where each scene is happening\n",
      "argument 5: after I read animal farms which is a story of Russian revolution, I could understand the leaders and different segments of the Russian people\n",
      "argument 6: a movie just gives us a very small review of its stories and characters\n",
      "argument 7: reading a novel is more convenient\n",
      "argument 8: Some novels have around 100 pages and readers cannot finish them in just one hour\n",
      "argument 9: Yet these people can continue to read their novels wherever they find free time such as in bus or trains\n",
      "argument 10: I have started to read a novel since last week\n",
      "argument 11: I do not have enough time to read a novel in one day, so I usually read it when I am coming home from English class\n",
      "argument 12: I cannot watch a complete movie\n",
      "argument 13: I can just sit in front of TV for 15 minutes and after that, I have to study\n",
      "argument 14: people enjoy watching TV\n",
      "argument 15: they can learn many things such as learning a language by watching movies\n",
      "argument 16: movies are not a good idea to learn a language for beginners\n",
      "argument 17: characters in movies speak very fast and unclear for language learners\n",
      "argument 18: For these learners it is better to start by reading some novels which are more comprehensible and enjoyable\n",
      "argument 19: reading fictions is more pleasant\n",
      "argument 20: these books have more depth, are much easier to use, and more useful for language learners\n",
      "\n",
      "You must return a JSON with format {'Argument 1': <predicted class for Argument 1 (str)>, ..., 'Argument n': <predicted class for Argument n (str)>}. The 3 possible classes are: 'major claim', 'claim' or 'premise'.\n",
      "\n"
     ]
    }
   ],
   "source": [
    "essay_file = train_essays_l[0]\n",
    "essay_sub_df = df[df.essay_file==essay_file]\n",
    "essay_text = essay_sub_df.iloc[0].essay_text\n",
    "argument_components = list(essay_sub_df.argument_component.values)\n",
    "argument_labels = list(essay_sub_df.label.values)\n",
    "\n",
    "question = build_question(essay_text, argument_components)\n",
    "print(question)"
   ]
  },
  {
   "cell_type": "code",
   "execution_count": 73,
   "id": "7cbf4933-227b-4895-8fc4-b07020d3b66b",
   "metadata": {},
   "outputs": [],
   "source": [
    "def build_answer(argument_labels):\n",
    "    \n",
    "    map_d = {\"MajorClaim\": \"major claim\", \"Claim\": \"claim\", \"Premise\": \"premise\"}\n",
    "    \n",
    "    return {f\"Argument {i+1}\": map_d[x] for i, x in enumerate(argument_labels)}"
   ]
  },
  {
   "cell_type": "code",
   "execution_count": 74,
   "id": "3675a7b1-72cd-42bc-aeed-9a48c16d88be",
   "metadata": {},
   "outputs": [
    {
     "name": "stdout",
     "output_type": "stream",
     "text": [
      "{'Argument 1': 'major claim', 'Argument 2': 'claim', 'Argument 3': 'premise', 'Argument 4': 'premise', 'Argument 5': 'premise', 'Argument 6': 'premise', 'Argument 7': 'claim', 'Argument 8': 'premise', 'Argument 9': 'premise', 'Argument 10': 'premise', 'Argument 11': 'premise', 'Argument 12': 'premise', 'Argument 13': 'premise', 'Argument 14': 'claim', 'Argument 15': 'premise', 'Argument 16': 'premise', 'Argument 17': 'premise', 'Argument 18': 'premise', 'Argument 19': 'major claim', 'Argument 20': 'claim'}\n"
     ]
    }
   ],
   "source": [
    "answer = build_answer(argument_labels)\n",
    "print(answer)"
   ]
  },
  {
   "cell_type": "code",
   "execution_count": 75,
   "id": "919a1870-1ae1-4491-a06e-c90ebb2aaad4",
   "metadata": {},
   "outputs": [
    {
     "name": "stdout",
     "output_type": "stream",
     "text": [
      "{'messages': [{'role': 'system', 'content': \"### Your task is to classify an ordered list of argument components from an essay. Each argument component must be classified into one of the three possible classes: 'major claim', 'claim', or 'premise'. For this purpose, we give you the following information in order:\\nA. The essay in which the argument components appear\\nB. The ordered list of argument components\\n\"}, {'role': 'user', 'content': \"### Here is the information about the argument components:\\nA. Essay:\\nReading fictions is more pleasant\\n\\nThere are many different opinions regarding hobbies. Some people would rather watch TV. However, in my view, reading fiction is more enjoyable than watching movies for the following reasons.\\nFirstly, fiction books pay more attention to details. In fact, we can know characters, places, and times of a novel very well during reading it. Most of the novels describe not only main characters but also other people in the novels, where each scene is happening. For example, after I read animal farms which is a story of Russian revolution, I could understand the leaders and different segments of the Russian people. However, a movie just gives us a very small review of its stories and characters.\\nSecondly, reading a novel is more convenient. Some novels have around 100 pages and readers cannot finish them in just one hour. Yet these people can continue to read their novels wherever they find free time such as in bus or trains. For example, I have started to read a novel since last week. I do not have enough time to read a novel in one day, so I usually read it when I am coming home from English class. In contrast, I cannot watch a complete movie because I can just sit in front of TV for 15 minutes and after that, I have to study.\\nSome people might argue that people enjoy watching TV when they know they can learn many things such as learning a language by watching movies. This point has some merits on the surface; however, movies are not a good idea to learn a language for beginners since characters in movies speak very fast and unclear for language learners. For these learners it is better to start by reading some novels which are more comprehensible and enjoyable.\\nTo sum up, reading fictions is more pleasant because these books have more depth, are much easier to use, and more useful for language learners.\\n\\nB. Ordered list of argument components:\\nargument 1: reading fiction is more enjoyable than watching movies\\nargument 2: fiction books pay more attention to details\\nargument 3: we can know characters, places, and times of a novel very well during reading it\\nargument 4: Most of the novels describe not only main characters but also other people in the novels, where each scene is happening\\nargument 5: after I read animal farms which is a story of Russian revolution, I could understand the leaders and different segments of the Russian people\\nargument 6: a movie just gives us a very small review of its stories and characters\\nargument 7: reading a novel is more convenient\\nargument 8: Some novels have around 100 pages and readers cannot finish them in just one hour\\nargument 9: Yet these people can continue to read their novels wherever they find free time such as in bus or trains\\nargument 10: I have started to read a novel since last week\\nargument 11: I do not have enough time to read a novel in one day, so I usually read it when I am coming home from English class\\nargument 12: I cannot watch a complete movie\\nargument 13: I can just sit in front of TV for 15 minutes and after that, I have to study\\nargument 14: people enjoy watching TV\\nargument 15: they can learn many things such as learning a language by watching movies\\nargument 16: movies are not a good idea to learn a language for beginners\\nargument 17: characters in movies speak very fast and unclear for language learners\\nargument 18: For these learners it is better to start by reading some novels which are more comprehensible and enjoyable\\nargument 19: reading fictions is more pleasant\\nargument 20: these books have more depth, are much easier to use, and more useful for language learners\\n\\nYou must return a JSON with format {'Argument 1': <predicted class for Argument 1 (str)>, ..., 'Argument n': <predicted class for Argument n (str)>}. The 3 possible classes are: 'major claim', 'claim' or 'premise'.\\n\"}, {'role': 'assistant', 'content': \"{'Argument 1': 'major claim', 'Argument 2': 'claim', 'Argument 3': 'premise', 'Argument 4': 'premise', 'Argument 5': 'premise', 'Argument 6': 'premise', 'Argument 7': 'claim', 'Argument 8': 'premise', 'Argument 9': 'premise', 'Argument 10': 'premise', 'Argument 11': 'premise', 'Argument 12': 'premise', 'Argument 13': 'premise', 'Argument 14': 'claim', 'Argument 15': 'premise', 'Argument 16': 'premise', 'Argument 17': 'premise', 'Argument 18': 'premise', 'Argument 19': 'major claim', 'Argument 20': 'claim'}\"}]}\n"
     ]
    }
   ],
   "source": [
    "print(formatting_fct(my_task_description, question, answer, mode=\"train\"))"
   ]
  },
  {
   "cell_type": "markdown",
   "id": "9056fd22-4718-436e-bfc3-42a433d5bf3f",
   "metadata": {},
   "source": [
    "## Prepare data files"
   ]
  },
  {
   "cell_type": "markdown",
   "id": "b0baac15-666a-4181-b5c4-af9f7ab668b9",
   "metadata": {},
   "source": [
    "### Train set"
   ]
  },
  {
   "cell_type": "code",
   "execution_count": 76,
   "id": "c9c0f082-2f50-4543-abcd-7a64726ad7ff",
   "metadata": {},
   "outputs": [],
   "source": [
    "data_file_train = []\n",
    "\n",
    "for essay_file in train_essays_l:\n",
    "    \n",
    "    essay_sub_df = df[df.essay_file==essay_file]\n",
    "    essay_text = essay_sub_df.iloc[0].essay_text\n",
    "    argument_components = list(essay_sub_df.argument_component.values)\n",
    "    argument_labels = list(essay_sub_df.label.values)\n",
    "\n",
    "    question = build_question(essay_text, argument_components)\n",
    "    answer = build_answer(argument_labels)\n",
    "    \n",
    "    data_file_train.append( formatting_fct(my_task_description, question, answer, mode=\"train\") )"
   ]
  },
  {
   "cell_type": "code",
   "execution_count": 77,
   "id": "52f56e72-44f2-44e9-8a91-dc4023de5dde",
   "metadata": {},
   "outputs": [
    {
     "data": {
      "text/plain": [
       "290"
      ]
     },
     "execution_count": 77,
     "metadata": {},
     "output_type": "execute_result"
    }
   ],
   "source": [
    "len(data_file_train)"
   ]
  },
  {
   "cell_type": "code",
   "execution_count": 78,
   "id": "6597503e-a445-49fc-b190-87825192ace1",
   "metadata": {
    "scrolled": false
   },
   "outputs": [
    {
     "name": "stdout",
     "output_type": "stream",
     "text": [
      "{'messages': [{'role': 'system', 'content': \"### Your task is to classify an ordered list of argument components from an essay. Each argument component must be classified into one of the three possible classes: 'major claim', 'claim', or 'premise'. For this purpose, we give you the following information in order:\\nA. The essay in which the argument components appear\\nB. The ordered list of argument components\\n\"}, {'role': 'user', 'content': \"### Here is the information about the argument components:\\nA. Essay:\\nReading fictions is more pleasant\\n\\nThere are many different opinions regarding hobbies. Some people would rather watch TV. However, in my view, reading fiction is more enjoyable than watching movies for the following reasons.\\nFirstly, fiction books pay more attention to details. In fact, we can know characters, places, and times of a novel very well during reading it. Most of the novels describe not only main characters but also other people in the novels, where each scene is happening. For example, after I read animal farms which is a story of Russian revolution, I could understand the leaders and different segments of the Russian people. However, a movie just gives us a very small review of its stories and characters.\\nSecondly, reading a novel is more convenient. Some novels have around 100 pages and readers cannot finish them in just one hour. Yet these people can continue to read their novels wherever they find free time such as in bus or trains. For example, I have started to read a novel since last week. I do not have enough time to read a novel in one day, so I usually read it when I am coming home from English class. In contrast, I cannot watch a complete movie because I can just sit in front of TV for 15 minutes and after that, I have to study.\\nSome people might argue that people enjoy watching TV when they know they can learn many things such as learning a language by watching movies. This point has some merits on the surface; however, movies are not a good idea to learn a language for beginners since characters in movies speak very fast and unclear for language learners. For these learners it is better to start by reading some novels which are more comprehensible and enjoyable.\\nTo sum up, reading fictions is more pleasant because these books have more depth, are much easier to use, and more useful for language learners.\\n\\nB. Ordered list of argument components:\\nargument 1: reading fiction is more enjoyable than watching movies\\nargument 2: fiction books pay more attention to details\\nargument 3: we can know characters, places, and times of a novel very well during reading it\\nargument 4: Most of the novels describe not only main characters but also other people in the novels, where each scene is happening\\nargument 5: after I read animal farms which is a story of Russian revolution, I could understand the leaders and different segments of the Russian people\\nargument 6: a movie just gives us a very small review of its stories and characters\\nargument 7: reading a novel is more convenient\\nargument 8: Some novels have around 100 pages and readers cannot finish them in just one hour\\nargument 9: Yet these people can continue to read their novels wherever they find free time such as in bus or trains\\nargument 10: I have started to read a novel since last week\\nargument 11: I do not have enough time to read a novel in one day, so I usually read it when I am coming home from English class\\nargument 12: I cannot watch a complete movie\\nargument 13: I can just sit in front of TV for 15 minutes and after that, I have to study\\nargument 14: people enjoy watching TV\\nargument 15: they can learn many things such as learning a language by watching movies\\nargument 16: movies are not a good idea to learn a language for beginners\\nargument 17: characters in movies speak very fast and unclear for language learners\\nargument 18: For these learners it is better to start by reading some novels which are more comprehensible and enjoyable\\nargument 19: reading fictions is more pleasant\\nargument 20: these books have more depth, are much easier to use, and more useful for language learners\\n\\nYou must return a JSON with format {'Argument 1': <predicted class for Argument 1 (str)>, ..., 'Argument n': <predicted class for Argument n (str)>}. The 3 possible classes are: 'major claim', 'claim' or 'premise'.\\n\"}, {'role': 'assistant', 'content': \"{'Argument 1': 'major claim', 'Argument 2': 'claim', 'Argument 3': 'premise', 'Argument 4': 'premise', 'Argument 5': 'premise', 'Argument 6': 'premise', 'Argument 7': 'claim', 'Argument 8': 'premise', 'Argument 9': 'premise', 'Argument 10': 'premise', 'Argument 11': 'premise', 'Argument 12': 'premise', 'Argument 13': 'premise', 'Argument 14': 'claim', 'Argument 15': 'premise', 'Argument 16': 'premise', 'Argument 17': 'premise', 'Argument 18': 'premise', 'Argument 19': 'major claim', 'Argument 20': 'claim'}\"}]}\n",
      "\n",
      "{'messages': [{'role': 'system', 'content': \"### Your task is to classify an ordered list of argument components from an essay. Each argument component must be classified into one of the three possible classes: 'major claim', 'claim', or 'premise'. For this purpose, we give you the following information in order:\\nA. The essay in which the argument components appear\\nB. The ordered list of argument components\\n\"}, {'role': 'user', 'content': \"### Here is the information about the argument components:\\nA. Essay:\\nUniversity education restriction\\n\\nUniverstiy is an entrance to life. It equips us with a package of wisdom and virtue to succeed. It is the importance of university that raises a question whether students with best scholastic performance deserve university study or just any young wishful people. Both sides are to be discussed before a conclusion is reached.\\nTo begin with, outstanding academic students are eligible for university due to their intellectual advantage. To be precise, such abstract or complicated informatin, easily absorbed by those students, may prove as a matter of pressure for those who lack equivalent skills. Besides, it is undeniable that one deserves what he has done. University is like a gift presented to those who have gone to great length to attain.\\nHowever, university is not just about academic studies but also a place to nurture artistic talent and develop soft skills. Therefore, it should be up for grabs for a majority of young people, who wish to pursue their passion as well as develop comprehensively. \\nWhat is more, there is a tendency for social vices to rise if university is to be restricted to only the best people. Apart from the disheartened ones, many devoiding of neccessary preparations are likely to be recipes for failure when applying for jobs, mostly the white-collar ones.\\nIn conclusion, university restriction has both pros and cons. In my opinion, it will yield more negative results than positive ones. That's why it should be made available for a wide range of learners.\\n\\nB. Ordered list of argument components:\\nargument 1: outstanding academic students are eligible for university due to their intellectual advantage\\nargument 2: such abstract or complicated informatin, easily absorbed by those students, may prove as a matter of pressure for those who lack equivalent skills\\nargument 3: it is undeniable that one deserves what he has done\\nargument 4: University is like a gift presented to those who have gone to great length to attain\\nargument 5: university is not just about academic studies but also a place to nurture artistic talent and develop soft skills\\nargument 6: it should be up for grabs for a majority of young people, who wish to pursue their passion as well as develop comprehensively\\nargument 7: there is a tendency for social vices to rise if university is to be restricted to only the best people\\nargument 8: Apart from the disheartened ones, many devoiding of neccessary preparations are likely to be recipes for failure when applying for jobs, mostly the white-collar ones\\nargument 9: it will yield more negative results than positive ones\\nargument 10: it should be made available for a wide range of learners\\n\\nYou must return a JSON with format {'Argument 1': <predicted class for Argument 1 (str)>, ..., 'Argument n': <predicted class for Argument n (str)>}. The 3 possible classes are: 'major claim', 'claim' or 'premise'.\\n\"}, {'role': 'assistant', 'content': \"{'Argument 1': 'claim', 'Argument 2': 'premise', 'Argument 3': 'premise', 'Argument 4': 'premise', 'Argument 5': 'premise', 'Argument 6': 'claim', 'Argument 7': 'claim', 'Argument 8': 'premise', 'Argument 9': 'major claim', 'Argument 10': 'major claim'}\"}]}\n",
      "\n",
      "{'messages': [{'role': 'system', 'content': \"### Your task is to classify an ordered list of argument components from an essay. Each argument component must be classified into one of the three possible classes: 'major claim', 'claim', or 'premise'. For this purpose, we give you the following information in order:\\nA. The essay in which the argument components appear\\nB. The ordered list of argument components\\n\"}, {'role': 'user', 'content': \"### Here is the information about the argument components:\\nA. Essay:\\nPhysical exercise should be required part of every school day\\n\\nAlthough some people believe that students should spend the whole day on academic studies, I nevertheless believe that physical exercise is a crucial part of every school day. Exercise is good not only for having a good health body, but also for the mind. In addition, including exercise in children's daily routine, it is a good way to teach them the importance of physical activity from an early age.\\nPhysical activity helps children to grow up physically healthier. As studies have shown that the rate of obesity in children has increased every year, it will be very beneficial for children to have a daily physical activity and get a break from being sitting several hours at school. In addition, exercise will help them to not be less exposed to illness related with cardiovascular, higher blood and cholesterol issues.\\nDaily exercise will help also to develop children's brain function. It is well known how important it is to exercise regularly to help the body system to work better. When people exercise, the respiratory system's function is enhanced, helping all organs, including the brain, to get more oxygen in. Daily exercise will provide children with a mental break which will boost them to be efficient learners.\\nHaving children in the daily exercise routine from an early age will teach them the important value of having physical activity in their every day routine. Children are bombarded with lectures about nutrition and physical activity; however, they will be more beneficed if that knowledge can be put in practice. Moreover, they can stick with the routine and make the daily physical activities a good habit on their whole life. \\nIncluding physical activity in children's school day should be strongly considered. It will meliorate not only mental and body health, but also will establish in children a habit of doing it, giving them the opportunity to measure the worth of including such an important activity in their daily live schedules.\\n\\nB. Ordered list of argument components:\\nargument 1: physical exercise is a crucial part of every school day\\nargument 2: Exercise is good not only for having a good health body, but also for the mind\\nargument 3: including exercise in children's daily routine, it is a good way to teach them the importance of physical activity from an early age\\nargument 4: Physical activity helps children to grow up physically healthier\\nargument 5: the rate of obesity in children has increased every year, it will be very beneficial for children to have a daily physical activity and get a break from being sitting several hours at school\\nargument 6: exercise will help them to not be less exposed to illness related with cardiovascular, higher blood and cholesterol issues\\nargument 7: Daily exercise will help also to develop children's brain function\\nargument 8: It is well known how important it is to exercise regularly to help the body system to work better\\nargument 9: When people exercise, the respiratory system's function is enhanced, helping all organs, including the brain, to get more oxygen in\\nargument 10: Daily exercise will provide children with a mental break which will boost them to be efficient learners\\nargument 11: Having children in the daily exercise routine from an early age will teach them the important value of having physical activity in their every day routine\\nargument 12: Children are bombarded with lectures about nutrition and physical activity; however, they will be more beneficed if that knowledge can be put in practice\\nargument 13: they can stick with the routine and make the daily physical activities a good habit on their whole life\\nargument 14: Including physical activity in children's school day should be strongly considered\\nargument 15: It will meliorate not only mental and body health, but also will establish in children a habit of doing it, giving them the opportunity to measure the worth of including such an important activity in their daily live schedules\\n\\nYou must return a JSON with format {'Argument 1': <predicted class for Argument 1 (str)>, ..., 'Argument n': <predicted class for Argument n (str)>}. The 3 possible classes are: 'major claim', 'claim' or 'premise'.\\n\"}, {'role': 'assistant', 'content': \"{'Argument 1': 'major claim', 'Argument 2': 'claim', 'Argument 3': 'claim', 'Argument 4': 'claim', 'Argument 5': 'premise', 'Argument 6': 'premise', 'Argument 7': 'claim', 'Argument 8': 'premise', 'Argument 9': 'premise', 'Argument 10': 'premise', 'Argument 11': 'claim', 'Argument 12': 'premise', 'Argument 13': 'premise', 'Argument 14': 'major claim', 'Argument 15': 'claim'}\"}]}\n",
      "\n"
     ]
    }
   ],
   "source": [
    "for i in range(3):\n",
    "    \n",
    "    print(data_file_train[i])\n",
    "    print()"
   ]
  },
  {
   "cell_type": "markdown",
   "id": "415f6f40-ce08-4d31-896b-013e05c49537",
   "metadata": {},
   "source": [
    "### Validation set"
   ]
  },
  {
   "cell_type": "code",
   "execution_count": 79,
   "id": "6895be27-d3a8-4990-a033-02e059ad1854",
   "metadata": {},
   "outputs": [],
   "source": [
    "data_file_val = []\n",
    "\n",
    "for essay_file in val_essays_l:\n",
    "    \n",
    "    essay_sub_df = df[df.essay_file==essay_file]\n",
    "    essay_text = essay_sub_df.iloc[0].essay_text\n",
    "    argument_components = list(essay_sub_df.argument_component.values)\n",
    "    argument_labels = list(essay_sub_df.label.values)\n",
    "\n",
    "    question = build_question(essay_text, argument_components)\n",
    "    answer = build_answer(argument_labels)\n",
    "    \n",
    "    data_file_val.append( formatting_fct(my_task_description, question, answer, mode=\"train\") )"
   ]
  },
  {
   "cell_type": "code",
   "execution_count": 80,
   "id": "331ab12d-d648-44d7-9d12-09a819139ea0",
   "metadata": {},
   "outputs": [
    {
     "data": {
      "text/plain": [
       "32"
      ]
     },
     "execution_count": 80,
     "metadata": {},
     "output_type": "execute_result"
    }
   ],
   "source": [
    "len(data_file_val)"
   ]
  },
  {
   "cell_type": "code",
   "execution_count": 81,
   "id": "a236eb04-4d63-4cbc-8512-e3b81cc59d97",
   "metadata": {
    "scrolled": false
   },
   "outputs": [
    {
     "name": "stdout",
     "output_type": "stream",
     "text": [
      "{'messages': [{'role': 'system', 'content': \"### Your task is to classify an ordered list of argument components from an essay. Each argument component must be classified into one of the three possible classes: 'major claim', 'claim', or 'premise'. For this purpose, we give you the following information in order:\\nA. The essay in which the argument components appear\\nB. The ordered list of argument components\\n\"}, {'role': 'user', 'content': '### Here is the information about the argument components:\\nA. Essay:\\nSome people believe that the Earth is being harmed by human\\n\\nWhether human activity is making the Earth a better place to live or damaging it is a debatable issue. Some people advocate the idea that human activity is advantageously influencing to the Earth. However, I strongly believe that human activities are having a bad effect upon our planet, for human are polluting the Earth\\'s environment, exhausting natural resource and threatening the living of other species.\\nPeople are corrupting their ecosphere. In recent decades, concurrently with the increase of human consume, the waste discarded by human also multiplies. These wastes including household waste and industrial waste are so big that a \"new\" continent is now being formed in the sea from garbage. Furthermore, the industrial exhaust gases are adulterating the air, causing the insalubrious phenomenon such as acid rain, global warming or climate change.\\nBesides, people are draining the Earth\\'s natural resources. These resources such as oil, coal are vital for human activity, therefore nowadays, the exploitation activities of these resources are increasing dramatically to adapt to the infinite need of people. Researchers indicated that most of natural resources are un-recyclable and only several decades after, the Earth\\'s natural resources are totally exhausted. At that time, human activity will be seriously affected due to the dependence on these resources.\\nAlso, people are endangering other species\\' live. Hunting has been a fundamental activity of human for having food. Through million years of hunting, especially in recent centuries with the innovation of rifle and dynamite, people have killed many animals and even have made some kinds of them become extinct. Moreover, people, suffering from the population pressure, are expanding their living area; consequently, the living area of other species narrowed. This narrowing of living region is pushing many creatures to the brink of extinction.\\nAll in all, from discussed reasons, we can conclude that human activity are gradually destroy the Earth since it is polluting the Earth environment, depleting the resource and imperiling other species\\' lives.\\n\\nB. Ordered list of argument components:\\nargument 1: human activities are having a bad effect upon our planet\\nargument 2: human are polluting the Earth\\'s environment, exhausting natural resource and threatening the living of other species\\nargument 3: People are corrupting their ecosphere\\nargument 4: In recent decades, concurrently with the increase of human consume, the waste discarded by human also multiplies\\nargument 5: These wastes including household waste and industrial waste are so big that a \"new\" continent is now being formed in the sea from garbage\\nargument 6: the industrial exhaust gases are adulterating the air, causing the insalubrious phenomenon such as acid rain, global warming or climate change\\nargument 7: people are draining the Earth\\'s natural resources\\nargument 8: These resources such as oil, coal are vital for human activity\\nargument 9: nowadays, the exploitation activities of these resources are increasing dramatically to adapt to the infinite need of people\\nargument 10: Researchers indicated that most of natural resources are un-recyclable and only several decades after, the Earth\\'s natural resources are totally exhausted\\nargument 11: At that time, human activity will be seriously affected due to the dependence on these resources\\nargument 12: people are endangering other species\\' live\\nargument 13: Hunting has been a fundamental activity of human for having food\\nargument 14: Through million years of hunting, especially in recent centuries with the innovation of rifle and dynamite, people have killed many animals and even have made some kinds of them become extinct\\nargument 15: people, suffering from the population pressure, are expanding their living area\\nargument 16: the living area of other species narrowed\\nargument 17: This narrowing of living region is pushing many creatures to the brink of extinction\\nargument 18: human activity are gradually destroy the Earth\\nargument 19: it is polluting the Earth environment, depleting the resource and imperiling other species\\' lives\\n\\nYou must return a JSON with format {\\'Argument 1\\': <predicted class for Argument 1 (str)>, ..., \\'Argument n\\': <predicted class for Argument n (str)>}. The 3 possible classes are: \\'major claim\\', \\'claim\\' or \\'premise\\'.\\n'}, {'role': 'assistant', 'content': \"{'Argument 1': 'major claim', 'Argument 2': 'claim', 'Argument 3': 'claim', 'Argument 4': 'premise', 'Argument 5': 'premise', 'Argument 6': 'premise', 'Argument 7': 'claim', 'Argument 8': 'premise', 'Argument 9': 'premise', 'Argument 10': 'premise', 'Argument 11': 'premise', 'Argument 12': 'claim', 'Argument 13': 'premise', 'Argument 14': 'premise', 'Argument 15': 'premise', 'Argument 16': 'premise', 'Argument 17': 'premise', 'Argument 18': 'major claim', 'Argument 19': 'claim'}\"}]}\n",
      "\n",
      "{'messages': [{'role': 'system', 'content': \"### Your task is to classify an ordered list of argument components from an essay. Each argument component must be classified into one of the three possible classes: 'major claim', 'claim', or 'premise'. For this purpose, we give you the following information in order:\\nA. The essay in which the argument components appear\\nB. The ordered list of argument components\\n\"}, {'role': 'user', 'content': \"### Here is the information about the argument components:\\nA. Essay:\\nDo you think it is good for teenagers to work while schooling?\\n\\nIn my opinion, it is not the good idea for teenagers to have job while they are still students. Although, many argue that it provide good working experience, but I think it can interfere with their life in various ways. Having jobs would affect the health of the student. It divert their mind from studies and would take away their childhood phase from their life.\\nA student has to do lots of studies in today's competitive world to prove himself. He has to spend his most of time in school to get a good grades. If the student get involved himself in job in rest of the time, then it would cause an extra burden on them. Furthermore, jobs has various responsibilities like attendance, sometimes extra work and so on. This would result in stress, tension and tiredness. They won't be able to get proper time for relaxation, sleep. Thus, would affect their mental and physical health.\\nAnother reason, jobs can divert students from their studies. If students started earning in earlier age in their life, then they get attracted towards money. They feel themselves independent and would prefer to work more for money. This would affect their studies, they loose their interest from studies. Moreover, they drop out their studies so as to earn more money.\\nIn addition to this, the main drawback of teenagers job is that, they miss out the fun of their childhood time. He would miss various childhood activities such as hang out with friends, clubs and fun activities and social interaction with others. They have whole life to do job and prove themselves, but the childhood phase will never return in their life. Therefore, they should take advantage of life as much possible they can.\\nThus, for a teenager it is important to pay attention on their studies. Having job would affect their health, divert them from studies and take away one of the important phase from their life.\\n\\nB. Ordered list of argument components:\\nargument 1: it is not the good idea for teenagers to have job while they are still students\\nargument 2: many argue that it provide good working experience\\nargument 3: it can interfere with their life in various ways\\nargument 4: Having jobs would affect the health of the student\\nargument 5: It divert their mind from studies and would take away their childhood phase from their life\\nargument 6: A student has to do lots of studies in today's competitive world to prove himself\\nargument 7: He has to spend his most of time in school to get a good grades\\nargument 8: If the student get involved himself in job in rest of the time, then it would cause an extra burden on them\\nargument 9: jobs has various responsibilities like attendance, sometimes extra work and so on\\nargument 10: This would result in stress, tension and tiredness\\nargument 11: They won't be able to get proper time for relaxation, sleep\\nargument 12: would affect their mental and physical health\\nargument 13: jobs can divert students from their studies\\nargument 14: If students started earning in earlier age in their life, then they get attracted towards money\\nargument 15: They feel themselves independent and would prefer to work more for money\\nargument 16: This would affect their studies, they loose their interest from studies\\nargument 17: they drop out their studies so as to earn more money\\nargument 18: the main drawback of teenagers job is that, they miss out the fun of their childhood time\\nargument 19: He would miss various childhood activities such as hang out with friends, clubs and fun activities and social interaction with others\\nargument 20: They have whole life to do job and prove themselves, but the childhood phase will never return in their life\\nargument 21: they should take advantage of life as much possible they can\\nargument 22: for a teenager it is important to pay attention on their studies\\nargument 23: Having job would affect their health, divert them from studies and take away one of the important phase from their life\\n\\nYou must return a JSON with format {'Argument 1': <predicted class for Argument 1 (str)>, ..., 'Argument n': <predicted class for Argument n (str)>}. The 3 possible classes are: 'major claim', 'claim' or 'premise'.\\n\"}, {'role': 'assistant', 'content': \"{'Argument 1': 'major claim', 'Argument 2': 'claim', 'Argument 3': 'major claim', 'Argument 4': 'claim', 'Argument 5': 'claim', 'Argument 6': 'premise', 'Argument 7': 'premise', 'Argument 8': 'claim', 'Argument 9': 'premise', 'Argument 10': 'premise', 'Argument 11': 'premise', 'Argument 12': 'claim', 'Argument 13': 'claim', 'Argument 14': 'premise', 'Argument 15': 'premise', 'Argument 16': 'premise', 'Argument 17': 'premise', 'Argument 18': 'premise', 'Argument 19': 'premise', 'Argument 20': 'premise', 'Argument 21': 'claim', 'Argument 22': 'major claim', 'Argument 23': 'claim'}\"}]}\n",
      "\n",
      "{'messages': [{'role': 'system', 'content': \"### Your task is to classify an ordered list of argument components from an essay. Each argument component must be classified into one of the three possible classes: 'major claim', 'claim', or 'premise'. For this purpose, we give you the following information in order:\\nA. The essay in which the argument components appear\\nB. The ordered list of argument components\\n\"}, {'role': 'user', 'content': \"### Here is the information about the argument components:\\nA. Essay:\\nOnce you are unique enough, you are already on the way to success\\n\\nAchieving success is everybody's goal for life and there are absolutely many different directions that can lead people to success. Some people choose to be normal to wait for chances, while some other people prefer to be different from everyone else. Which one is the promising way to succeed? In my opinion, I believe that once you are unique enough, you are already on the way to success.\\nFirst, being positively different from everyone else usually means that you've achieved something that is superior than others. As living in a competent world, we are like playing a survival game. Only who has the sharpest weapon can survive. If you don't make yourself outstanding enough or you fail to distinguish yourself from others, you will be easily replaced and eliminated by someone who is better than you. Take myself for example, when I was in college, I was always chosen to be the presenter of group report because I was the only one in my group who could present the report thoroughly and fluently.\\nSecond, being unique can create your own value which can never be taken by others. In other words, once you are special and unique, pursuing success is a matter of actively creating the fashion rather than passively waiting for other people to recognize and appreciate you. Take the most popular and prestigious technology company- Apple- for example. The reason why it gains such a tremendous success is because it achieves some brilliant qualities that can never be caught up by other competitors. It has its operating systems that can run smoother than any other companies and its design always wins the popularity among consumers. It is the uniqueness of Apple design that creates its own value.\\nIn conclusion, being different and unique is the better way to achieve success. It not only shows your competence but also creates your own value, making you take the lead in your way towards success. \\n\\nB. Ordered list of argument components:\\nargument 1: once you are unique enough, you are already on the way to success\\nargument 2: being positively different from everyone else usually means that you've achieved something that is superior than others\\nargument 3: As living in a competent world, we are like playing a survival game\\nargument 4: Only who has the sharpest weapon can survive\\nargument 5: If you don't make yourself outstanding enough or you fail to distinguish yourself from others, you will be easily replaced and eliminated by someone who is better than you\\nargument 6: when I was in college, I was always chosen to be the presenter of group report\\nargument 7: I was the only one in my group who could present the report thoroughly and fluently\\nargument 8: being unique can create your own value which can never be taken by others\\nargument 9: once you are special and unique, pursuing success is a matter of actively creating the fashion rather than passively waiting for other people to recognize and appreciate you\\nargument 10: Take the most popular and prestigious technology company- Apple- for example\\nargument 11: The reason why it gains such a tremendous success is because it achieves some brilliant qualities that can never be caught up by other competitors\\nargument 12: It has its operating systems that can run smoother than any other companies and its design always wins the popularity among consumers\\nargument 13: It is the uniqueness of Apple design that creates its own value\\nargument 14: being different and unique is the better way to achieve success\\nargument 15: It not only shows your competence but also creates your own value, making you take the lead in your way towards success\\n\\nYou must return a JSON with format {'Argument 1': <predicted class for Argument 1 (str)>, ..., 'Argument n': <predicted class for Argument n (str)>}. The 3 possible classes are: 'major claim', 'claim' or 'premise'.\\n\"}, {'role': 'assistant', 'content': \"{'Argument 1': 'major claim', 'Argument 2': 'premise', 'Argument 3': 'premise', 'Argument 4': 'premise', 'Argument 5': 'claim', 'Argument 6': 'premise', 'Argument 7': 'premise', 'Argument 8': 'claim', 'Argument 9': 'premise', 'Argument 10': 'premise', 'Argument 11': 'premise', 'Argument 12': 'premise', 'Argument 13': 'premise', 'Argument 14': 'major claim', 'Argument 15': 'claim'}\"}]}\n",
      "\n"
     ]
    }
   ],
   "source": [
    "for i in range(3):\n",
    "    \n",
    "    print(data_file_val[i])\n",
    "    print()"
   ]
  },
  {
   "cell_type": "markdown",
   "id": "2d704569-fbb9-4fdd-bc3a-4baf4acbbb38",
   "metadata": {},
   "source": [
    "### Test set"
   ]
  },
  {
   "cell_type": "code",
   "execution_count": 82,
   "id": "a5b4ba42-30cb-4ea2-b2de-a9f12d4eeb9f",
   "metadata": {},
   "outputs": [],
   "source": [
    "data_file_test = []\n",
    "\n",
    "for essay_file in test_essays_l:\n",
    "    \n",
    "    essay_sub_df = df[df.essay_file==essay_file]\n",
    "    essay_text = essay_sub_df.iloc[0].essay_text\n",
    "    argument_components = list(essay_sub_df.argument_component.values)\n",
    "    argument_labels = list(essay_sub_df.label.values)\n",
    "\n",
    "    question = build_question(essay_text, argument_components)\n",
    "    answer = build_answer(argument_labels)\n",
    "    \n",
    "    data_file_test.append( formatting_fct(my_task_description, question, answer, mode=\"test\") )"
   ]
  },
  {
   "cell_type": "code",
   "execution_count": 83,
   "id": "0edc2c43-0f6f-42a6-b73b-1643150b451b",
   "metadata": {},
   "outputs": [
    {
     "data": {
      "text/plain": [
       "80"
      ]
     },
     "execution_count": 83,
     "metadata": {},
     "output_type": "execute_result"
    }
   ],
   "source": [
    "len(data_file_test)"
   ]
  },
  {
   "cell_type": "code",
   "execution_count": 84,
   "id": "63843ae8-4157-47da-8ae1-4113ca764535",
   "metadata": {
    "scrolled": false
   },
   "outputs": [
    {
     "name": "stdout",
     "output_type": "stream",
     "text": [
      "{'messages': [{'role': 'system', 'content': \"### Your task is to classify an ordered list of argument components from an essay. Each argument component must be classified into one of the three possible classes: 'major claim', 'claim', or 'premise'. For this purpose, we give you the following information in order:\\nA. The essay in which the argument components appear\\nB. The ordered list of argument components\\n\"}, {'role': 'user', 'content': \"### Here is the information about the argument components:\\nA. Essay:\\nThe precondition of doing research by professors\\n\\nNowadays, many professors conduct research while teaching in colleges or universities. Although research could bring funding and latest achievements in the field, the research takes up too much teaching time. As far as I am concerned, professors should spend more time on preparing courses than research.\\nTo begin with, it is vital that professors should assist students to acquire knowledge. The professors' duty is to nurture students, and prepare excellent courses. If professors spend a lot of time on research, he will cut the time on preparing courses is reduced, which may decrease the quality of classes. The reason why people enter a university is that they want to learn cutting-edged technologies. In this way, professors should provide well-preparation courses to convey the state-of-art knowledge for college and university students. Therefore, professors should pay more attention on how to teach students rather than conduct research.\\nOn the other hand, if professors are busy in doing research, ignoring preparing appropriate courses for students, it would ruin the reputation of universities. Students are unsatisfied with the unprepared course, and the enrollment of universities may decline. Many students would not choose these kinds of universities to study. In this way, hardly can professors find assistants to help with projects. It is adverse to the whole academic field. Accordingly, spending more time to nurture excellent students is more consequential to professors, rather than research.\\nNevertheless, professors could teach students through research and projects. Some students enjoy taking part in some research. Through to use the equipment and invent their own work, they may get more experience in the process of research. For instance, electronic students always invent new machines such as robots, MP3 and remote control car. They can manage the electric theory in practical skills. And some students will be rewarded by investing new inventions. However, only under specific circumstance, when students master all of the systematic knowledge, can they accomplish research. This is requires professors provide high quality courses. In other word, professor should concern about preparing class.\\nConsequently, conducting research is helpful for professors and students to some extent. However, the precondition of doing research is growing students' solid theory fundamental. Only by developing students, can we have a better academic field. Professors could combine doing research and preparing good courses in a dynamic way.\\n\\nB. Ordered list of argument components:\\nargument 1: research could bring funding and latest achievements in the field\\nargument 2: the research takes up too much teaching time\\nargument 3: professors should spend more time on preparing courses than research\\nargument 4: professors should assist students to acquire knowledge\\nargument 5: The professors' duty is to nurture students, and prepare excellent courses\\nargument 6: If professors spend a lot of time on research, he will cut the time on preparing courses is reduced, which may decrease the quality of classes\\nargument 7: The reason why people enter a university is that they want to learn cutting-edged technologies\\nargument 8: professors should provide well-preparation courses to convey the state-of-art knowledge for college and university students\\nargument 9: professors should pay more attention on how to teach students rather than conduct research\\nargument 10: if professors are busy in doing research, ignoring preparing appropriate courses for students, it would ruin the reputation of universities\\nargument 11: Students are unsatisfied with the unprepared course, and the enrollment of universities may decline\\nargument 12: Many students would not choose these kinds of universities to study\\nargument 13: hardly can professors find assistants to help with projects\\nargument 14: It is adverse to the whole academic field\\nargument 15: spending more time to nurture excellent students is more consequential to professors, rather than research\\nargument 16: professors could teach students through research and projects\\nargument 17: Some students enjoy taking part in some research\\nargument 18: Through to use the equipment and invent their own work, they may get more experience in the process of research\\nargument 19: electronic students always invent new machines such as robots, MP3 and remote control car\\nargument 20: They can manage the electric theory in practical skills\\nargument 21: And some students will be rewarded by investing new inventions\\nargument 22: only under specific circumstance, when students master all of the systematic knowledge, can they accomplish research\\nargument 23: This is requires professors provide high quality courses\\nargument 24: professor should concern about preparing class\\nargument 25: conducting research is helpful for professors and students to some extent\\nargument 26: the precondition of doing research is growing students' solid theory fundamental\\nargument 27: Only by developing students, can we have a better academic field\\nargument 28: Professors could combine doing research and preparing good courses in a dynamic way\\n\\nYou must return a JSON with format {'Argument 1': <predicted class for Argument 1 (str)>, ..., 'Argument n': <predicted class for Argument n (str)>}. The 3 possible classes are: 'major claim', 'claim' or 'premise'.\\n\"}, {'role': 'assistant', 'content': ''}]}\n",
      "\n",
      "{'messages': [{'role': 'system', 'content': \"### Your task is to classify an ordered list of argument components from an essay. Each argument component must be classified into one of the three possible classes: 'major claim', 'claim', or 'premise'. For this purpose, we give you the following information in order:\\nA. The essay in which the argument components appear\\nB. The ordered list of argument components\\n\"}, {'role': 'user', 'content': \"### Here is the information about the argument components:\\nA. Essay:\\nLiving with a roommate is better than Living alone\\n\\nMany single people have difficulties deciding whether to live with a roommate or to live alone. Each makes different decisions. Some people choose to live alone for privacy, while others choose to live with a roommate for practical reasons. As far as I am concerned, I prefer to live with a roommate. This is because it saves me money, enables me to socialize, and allows me to get help.\\nLiving with a roommate saves me a lot of money. If you have roommates, you can split the rent and utilities among them. This means you can get more for less. For example, last year, I shared a room off-campus with my friend, and we decided to split the rent and heating bills into half: I was able to save about fifty dollars for heating, and two hundred dollars for rent monthly. I was able to save a lot of money by sharing wasted heating and rooms with my friend and splitting the bills.\\nApart from saving a lot of money, living with a roommate also enables me to socialize more easily. It is always easier to socialize when you have a lot of people around you. You can invite your roommates' friends over to your room and have fun together. For instance, one night, my roommate, Millan, brought his friends along. Even though his friends and I were total strangers to each other, we quickly got to know each other. We soon found out that everyone loved playing video games. We played a video game called 'Halo' together all night, and became good friends. Living with a roommate made socializing much easier for me.\\nFinally, living with a roommate allows me to get help. It often is the case that your roommates have the skills or knowledge you need. When you run into a problem, you can ask your roommates if they can help. Some of them may have something to offer. To illustrate, when my computer mysteriously broke down, I dialed up the manufacturer and asked for help. They failed to give me any useful solutions. To my surprise, one of my roommates noticed my problems and offered to help. He was very good with computers, and he managed to fix the problem quickly.\\nIn conclusion, while many people decide to live alone for various reasons, I prefer to live with a roommate, and I always will. This is because it offers me many advantages, such as less spending, more socializing, and more help. I think single people should live with a roommate, if they want to enjoy their lives.\\n\\nB. Ordered list of argument components:\\nargument 1: I prefer to live with a roommate\\nargument 2: it saves me money, enables me to socialize, and allows me to get help\\nargument 3: Living with a roommate saves me a lot of money\\nargument 4: If you have roommates, you can split the rent and utilities among them\\nargument 5: you can get more for less\\nargument 6: last year, I shared a room off-campus with my friend, and we decided to split the rent and heating bills into half: I was able to save about fifty dollars for heating, and two hundred dollars for rent monthly\\nargument 7: I was able to save a lot of money by sharing wasted heating and rooms with my friend and splitting the bills\\nargument 8: living with a roommate also enables me to socialize more easily\\nargument 9: It is always easier to socialize when you have a lot of people around you\\nargument 10: You can invite your roommates' friends over to your room and have fun together\\nargument 11: one night, my roommate, Millan, brought his friends along\\nargument 12: Even though his friends and I were total strangers to each other, we quickly got to know each other\\nargument 13: We soon found out that everyone loved playing video games\\nargument 14: We played a video game called 'Halo' together all night, and became good friends\\nargument 15: Living with a roommate made socializing much easier for me\\nargument 16: living with a roommate allows me to get help\\nargument 17: It often is the case that your roommates have the skills or knowledge you need\\nargument 18: When you run into a problem, you can ask your roommates if they can help\\nargument 19: Some of them may have something to offer\\nargument 20: when my computer mysteriously broke down, I dialed up the manufacturer and asked for help\\nargument 21: They failed to give me any useful solutions\\nargument 22: To my surprise, one of my roommates noticed my problems and offered to help\\nargument 23: He was very good with computers, and he managed to fix the problem quickly\\nargument 24: many people decide to live alone for various reasons\\nargument 25: I prefer to live with a roommate, and I always will\\nargument 26: it offers me many advantages, such as less spending, more socializing, and more help\\n\\nYou must return a JSON with format {'Argument 1': <predicted class for Argument 1 (str)>, ..., 'Argument n': <predicted class for Argument n (str)>}. The 3 possible classes are: 'major claim', 'claim' or 'premise'.\\n\"}, {'role': 'assistant', 'content': ''}]}\n",
      "\n",
      "{'messages': [{'role': 'system', 'content': \"### Your task is to classify an ordered list of argument components from an essay. Each argument component must be classified into one of the three possible classes: 'major claim', 'claim', or 'premise'. For this purpose, we give you the following information in order:\\nA. The essay in which the argument components appear\\nB. The ordered list of argument components\\n\"}, {'role': 'user', 'content': \"### Here is the information about the argument components:\\nA. Essay:\\nGetting opinions from many sources could augment people's performance.\\n\\nGetting opinions from many sources could augment people's performance. Thereby, evaluating from students is one of the ways to improve quality of educational system. Not only teachers could amplify their performance but the whole education system are also improve performance from evaluation made by students. Therefore, I agree with this notion that students should be asked to evaluate their teachers.\\nTo begin with, Evaluating teachers made by students could improve teachers' performance. For example, evaluation made by students is similar to feedback from customer that business owners need to know in order to improve their product. Students might complain about their teachers spoke too fast that students could not catch up on information. Consequently, teachers could improve themselves by speaking slower to make sure that students could get all information that they want to give. Therefore, evaluating from students could improve teachers' performance.\\nAdditionally, this evaluation from students could improve schools' quality. Teachers could augment their quality. Consequently, When school gather teachers that have great performance, school are gaining higher quality. For instance, in many cooperation such as Microsoft that could produce many great products because they have employees whose performance are very high. Schools could produce intellectual students because school have teachers who are always improve their quality from evaluation made by students.\\nFinally, people who get the most advantage from evaluation is students. Students could study in class that have teachers who have experienced and greater performance. Because teachers are always adapt the way they teach in order to make students easy to understand their subjects, students could comprehend their subject easily. As a result, students, who study from great schools which have great performance teacher, graduate with great knowledge to survive in next steps of life.\\nIn conclusion, I agree with this statement that school should ask students to evaluate their teachers because teachers could improve their performance. Moreover, schools are also improve their quality because they have high performance teachers. Furthermore, students are easy to understand their subjects. Thus, I believe that there are benefits to ask students to evaluate their teachers.\\n\\nB. Ordered list of argument components:\\nargument 1: students should be asked to evaluate their teachers\\nargument 2: Evaluating teachers made by students could improve teachers' performance\\nargument 3: evaluation made by students is similar to feedback from customer that business owners need to know in order to improve their product\\nargument 4: Students might complain about their teachers spoke too fast that students could not catch up on information\\nargument 5: teachers could improve themselves by speaking slower to make sure that students could get all information that they want to give\\nargument 6: evaluating from students could improve teachers' performance\\nargument 7: this evaluation from students could improve schools' quality\\nargument 8: Teachers could augment their quality\\nargument 9: When school gather teachers that have great performance, school are gaining higher quality\\nargument 10: in many cooperation such as Microsoft that could produce many great products\\nargument 11: they have employees whose performance are very high\\nargument 12: Schools could produce intellectual students\\nargument 13: school have teachers who are always improve their quality from evaluation made by students\\nargument 14: people who get the most advantage from evaluation is students\\nargument 15: Students could study in class that have teachers who have experienced and greater performance\\nargument 16: teachers are always adapt the way they teach in order to make students easy to understand their subjects\\nargument 17: students could comprehend their subject easily\\nargument 18: students, who study from great schools which have great performance teacher, graduate with great knowledge to survive in next steps of life\\nargument 19: school should ask students to evaluate their teachers\\nargument 20: teachers could improve their performance\\nargument 21: schools are also improve their quality\\nargument 22: they have high performance teachers\\nargument 23: students are easy to understand their subjects\\nargument 24: there are benefits to ask students to evaluate their teachers\\n\\nYou must return a JSON with format {'Argument 1': <predicted class for Argument 1 (str)>, ..., 'Argument n': <predicted class for Argument n (str)>}. The 3 possible classes are: 'major claim', 'claim' or 'premise'.\\n\"}, {'role': 'assistant', 'content': ''}]}\n",
      "\n"
     ]
    }
   ],
   "source": [
    "for i in range(3):\n",
    "    \n",
    "    print(data_file_test[i])\n",
    "    print()"
   ]
  },
  {
   "cell_type": "markdown",
   "id": "13a8dad5-0a92-4460-a027-64e9d6ffba6a",
   "metadata": {},
   "source": [
    "## Save `jsonl` files"
   ]
  },
  {
   "cell_type": "code",
   "execution_count": 85,
   "id": "b353533d-cc7a-4582-93c8-a1647b5fcb95",
   "metadata": {},
   "outputs": [],
   "source": [
    "file_name = \"data_train_v3b.jsonl\"\n",
    "\n",
    "with open(os.path.join(data_dir, file_name), 'w') as fh:\n",
    "    \n",
    "    for entry in data_file_train:\n",
    "        \n",
    "        json.dump(entry, fh)\n",
    "        fh.write('\\n')"
   ]
  },
  {
   "cell_type": "code",
   "execution_count": 86,
   "id": "5e1fc48e-882d-4123-ba65-9edcd7101868",
   "metadata": {},
   "outputs": [],
   "source": [
    "file_name = \"data_val_v3b.jsonl\"\n",
    "\n",
    "with open(os.path.join(data_dir, file_name), 'w') as fh:\n",
    "    \n",
    "    for entry in data_file_val:\n",
    "        \n",
    "        json.dump(entry, fh)\n",
    "        fh.write('\\n')"
   ]
  },
  {
   "cell_type": "code",
   "execution_count": 87,
   "id": "9b30305e-307d-4c3a-be3c-9c984bfdf788",
   "metadata": {},
   "outputs": [],
   "source": [
    "file_name = \"data_test_v3b.jsonl\"\n",
    "\n",
    "with open(os.path.join(data_dir, file_name), 'w') as fh:\n",
    "    \n",
    "    for entry in data_file_test:\n",
    "        \n",
    "        json.dump(entry, fh)\n",
    "        fh.write('\\n')"
   ]
  },
  {
   "cell_type": "code",
   "execution_count": null,
   "id": "fe2795f0-baec-43dc-a2fa-9bee8c1953d2",
   "metadata": {},
   "outputs": [],
   "source": []
  }
 ],
 "metadata": {
  "kernelspec": {
   "display_name": "base",
   "language": "python",
   "name": "base"
  },
  "language_info": {
   "codemirror_mode": {
    "name": "ipython",
    "version": 3
   },
   "file_extension": ".py",
   "mimetype": "text/x-python",
   "name": "python",
   "nbconvert_exporter": "python",
   "pygments_lexer": "ipython3",
   "version": "3.9.5"
  }
 },
 "nbformat": 4,
 "nbformat_minor": 5
}
